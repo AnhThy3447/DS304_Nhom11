{
 "cells": [
  {
   "cell_type": "code",
   "execution_count": 110,
   "id": "3d22cb22",
   "metadata": {},
   "outputs": [],
   "source": [
    "import pandas as pd\n",
    "import numpy as np"
   ]
  },
  {
   "cell_type": "code",
   "execution_count": 111,
   "id": "58dd1f42",
   "metadata": {},
   "outputs": [
    {
     "data": {
      "text/plain": [
       "((3696, 3), Index(['sentence', 'aspect', 'sentiment'], dtype='object'))"
      ]
     },
     "execution_count": 111,
     "metadata": {},
     "output_type": "execute_result"
    }
   ],
   "source": [
    "df = pd.read_csv('aspect_sentiment.csv')\n",
    "df.shape, df.columns"
   ]
  },
  {
   "cell_type": "code",
   "execution_count": 112,
   "id": "f324bd03",
   "metadata": {},
   "outputs": [
    {
     "data": {
      "text/plain": [
       "sentiment\n",
       "Negative                                         2177\n",
       "Positive                                         1272\n",
       "Neutral                                           233\n",
       "{\"choices\":[\"Positive\",\"Negative\"]}                 6\n",
       "{\"choices\":[\"Positive\",\"Neutral\"]}                  6\n",
       "{\"choices\":[\"Negative\",\"Neutral\"]}                  1\n",
       "{\"choices\":[\"Positive\",\"Negative\",\"Neutral\"]}       1\n",
       "Name: count, dtype: int64"
      ]
     },
     "execution_count": 112,
     "metadata": {},
     "output_type": "execute_result"
    }
   ],
   "source": [
    "df['sentiment'].value_counts()"
   ]
  },
  {
   "cell_type": "code",
   "execution_count": 113,
   "id": "89c66fa8",
   "metadata": {},
   "outputs": [],
   "source": [
    "valid_sentiments = ['Positive', 'Negative', 'Neutral']\n",
    "# , 'Neutral'\n",
    "df = df[df['sentiment'].isin(valid_sentiments)]"
   ]
  },
  {
   "cell_type": "code",
   "execution_count": 114,
   "id": "a4129931",
   "metadata": {},
   "outputs": [
    {
     "data": {
      "text/plain": [
       "<Axes: ylabel='count'>"
      ]
     },
     "execution_count": 114,
     "metadata": {},
     "output_type": "execute_result"
    },
    {
     "data": {
      "image/png": "[encoded data removed]",
      "text/plain": [
       "<Figure size 500x500 with 1 Axes>"
      ]
     },
     "metadata": {},
     "output_type": "display_data"
    }
   ],
   "source": [
    "df['sentiment'].value_counts().plot(kind='pie', autopct='%1.1f%%', figsize=(5, 5), colormap='rainbow')"
   ]
  },
  {
   "cell_type": "code",
   "execution_count": 115,
   "id": "37066c88",
   "metadata": {},
   "outputs": [],
   "source": [
    "df['sentiment'] = df['sentiment'].map({'Positive': 1, 'Negative': 0, 'Neutral': 2})"
   ]
  },
  {
   "cell_type": "code",
   "execution_count": 116,
   "id": "d079911a",
   "metadata": {},
   "outputs": [
    {
     "data": {
      "text/html": [
       "<div>\n",
       "<style scoped>\n",
       "    .dataframe tbody tr th:only-of-type {\n",
       "        vertical-align: middle;\n",
       "    }\n",
       "\n",
       "    .dataframe tbody tr th {\n",
       "        vertical-align: top;\n",
       "    }\n",
       "\n",
       "    .dataframe thead th {\n",
       "        text-align: right;\n",
       "    }\n",
       "</style>\n",
       "<table border=\"1\" class=\"dataframe\">\n",
       "  <thead>\n",
       "    <tr style=\"text-align: right;\">\n",
       "      <th></th>\n",
       "      <th>sentence</th>\n",
       "      <th>aspect</th>\n",
       "      <th>sentiment</th>\n",
       "      <th>pair</th>\n",
       "    </tr>\n",
       "  </thead>\n",
       "  <tbody>\n",
       "    <tr>\n",
       "      <th>0</th>\n",
       "      <td>i have been to this place for random dinner with friends and it was the most stupid decision</td>\n",
       "      <td>other</td>\n",
       "      <td>0</td>\n",
       "      <td>i have been to this place for random dinner with friends and it was the most stupid decision   [ASP] other</td>\n",
       "    </tr>\n",
       "    <tr>\n",
       "      <th>1</th>\n",
       "      <td>the place is the perfect example of mismanagement</td>\n",
       "      <td>service</td>\n",
       "      <td>0</td>\n",
       "      <td>the place is the perfect example of mismanagement  [ASP] service</td>\n",
       "    </tr>\n",
       "    <tr>\n",
       "      <th>2</th>\n",
       "      <td>the food was also pathetic</td>\n",
       "      <td>quality</td>\n",
       "      <td>0</td>\n",
       "      <td>the food was also pathetic  [ASP] quality</td>\n",
       "    </tr>\n",
       "    <tr>\n",
       "      <th>3</th>\n",
       "      <td>we have ordered sambhar rice after a lot of disappointment thinking that atleast it will come on time and will be good in taste but i guess they were checking our patience and it took almost      mins for us to get that</td>\n",
       "      <td>quality</td>\n",
       "      <td>0</td>\n",
       "      <td>we have ordered sambhar rice after a lot of disappointment thinking that atleast it will come on time and will be good in taste but i guess they were checking our patience and it took almost      mins for us to get that  [ASP] quality</td>\n",
       "    </tr>\n",
       "    <tr>\n",
       "      <th>4</th>\n",
       "      <td>we have ordered sambhar rice after a lot of disappointment thinking that atleast it will come on time and will be good in taste but i guess they were checking our patience and it took almost      mins for us to get that</td>\n",
       "      <td>service</td>\n",
       "      <td>0</td>\n",
       "      <td>we have ordered sambhar rice after a lot of disappointment thinking that atleast it will come on time and will be good in taste but i guess they were checking our patience and it took almost      mins for us to get that  [ASP] service</td>\n",
       "    </tr>\n",
       "  </tbody>\n",
       "</table>\n",
       "</div>"
      ],
      "text/plain": [
       "                                                                                                                                                                                                                       sentence  \\\n",
       "0                                                                                                                                i have been to this place for random dinner with friends and it was the most stupid decision     \n",
       "1                                                                                                                                                                            the place is the perfect example of mismanagement    \n",
       "2                                                                                                                                                                                                   the food was also pathetic    \n",
       "3  we have ordered sambhar rice after a lot of disappointment thinking that atleast it will come on time and will be good in taste but i guess they were checking our patience and it took almost      mins for us to get that    \n",
       "4  we have ordered sambhar rice after a lot of disappointment thinking that atleast it will come on time and will be good in taste but i guess they were checking our patience and it took almost      mins for us to get that    \n",
       "\n",
       "    aspect  sentiment  \\\n",
       "0    other          0   \n",
       "1  service          0   \n",
       "2  quality          0   \n",
       "3  quality          0   \n",
       "4  service          0   \n",
       "\n",
       "                                                                                                                                                                                                                                         pair  \n",
       "0                                                                                                                                  i have been to this place for random dinner with friends and it was the most stupid decision   [ASP] other  \n",
       "1                                                                                                                                                                            the place is the perfect example of mismanagement  [ASP] service  \n",
       "2                                                                                                                                                                                                   the food was also pathetic  [ASP] quality  \n",
       "3  we have ordered sambhar rice after a lot of disappointment thinking that atleast it will come on time and will be good in taste but i guess they were checking our patience and it took almost      mins for us to get that  [ASP] quality  \n",
       "4  we have ordered sambhar rice after a lot of disappointment thinking that atleast it will come on time and will be good in taste but i guess they were checking our patience and it took almost      mins for us to get that  [ASP] service  "
      ]
     },
     "execution_count": 116,
     "metadata": {},
     "output_type": "execute_result"
    }
   ],
   "source": [
    "df['pair'] = df['sentence'] + ' [ASP] ' + df['aspect']\n",
    "pd.set_option('display.max_colwidth', None)  \n",
    "pd.set_option('display.width', None) \n",
    "df.head()"
   ]
  },
  {
   "cell_type": "code",
   "execution_count": 117,
   "id": "baec609e",
   "metadata": {},
   "outputs": [],
   "source": [
    "df.drop(columns=['sentence', 'aspect'], inplace=True)"
   ]
  },
  {
   "cell_type": "markdown",
   "id": "62e0e4c6",
   "metadata": {},
   "source": [
    "# ML"
   ]
  },
  {
   "cell_type": "code",
   "execution_count": 118,
   "id": "8dec3142",
   "metadata": {},
   "outputs": [],
   "source": [
    "from sklearn.model_selection import train_test_split\n",
    "from sklearn.metrics import classification_report, confusion_matrix, accuracy_score\n",
    "\n",
    "# Chia dữ liệu\n",
    "X_train, X_test, y_train, y_test = train_test_split(df['pair'], df['sentiment'], test_size=0.2, random_state=42)"
   ]
  },
  {
   "cell_type": "code",
   "execution_count": 119,
   "id": "9d8062de",
   "metadata": {},
   "outputs": [],
   "source": [
    "def evaluate_model(y_test, y_pred):\n",
    "    labels = [1, 0, 2]  # Positive, Negative, Neutral\n",
    "    print(classification_report(y_test, y_pred, labels=labels))\n",
    "    cm = confusion_matrix(y_test, y_pred, labels=labels)\n",
    "    # print(f\"          Pred_Pos   Pred_Neg\")\n",
    "    # print(f\"True_Pos     {cm[0][0]:>5}      {cm[0][1]:>5}\")\n",
    "    # print(f\"True_Neg     {cm[1][0]:>5}      {cm[1][1]:>5}\")\n",
    "    # \n",
    "    cm = confusion_matrix(y_test, y_pred, labels=labels)\n",
    "    print(\"Confusion Matrix:\")\n",
    "    print(f\"True\\\\Pred:  Positive   Neutral   Negative\")\n",
    "    print(f\"Positive     {cm[0][0]:>5}      {cm[0][1]:>5}      {cm[0][2]:>5}\")\n",
    "    print(f\"Neutral      {cm[1][0]:>5}      {cm[1][1]:>5}      {cm[1][2]:>5}\")\n",
    "    print(f\"Negative     {cm[2][0]:>5}      {cm[2][1]:>5}      {cm[2][2]:>5}\")"
   ]
  },
  {
   "cell_type": "code",
   "execution_count": 120,
   "id": "9a0110ea",
   "metadata": {},
   "outputs": [],
   "source": [
    "from sklearn.linear_model import LogisticRegression\n",
    "from sklearn.svm import LinearSVC\n",
    "from sklearn.ensemble import RandomForestClassifier\n",
    "from xgboost import XGBClassifier "
   ]
  },
  {
   "cell_type": "code",
   "execution_count": 121,
   "id": "65834725",
   "metadata": {},
   "outputs": [],
   "source": [
    "def train_and_evaluate(model, X_train, y_train, X_test, y_test):\n",
    "    model.fit(X_train, y_train)\n",
    "    y_pred = model.predict(X_test)\n",
    "    evaluate_model(y_test, y_pred)\n",
    "    return model.score(X_test, y_test)\n",
    "\n",
    "models = {\n",
    "    'Logistic Regression': LogisticRegression(max_iter=1000, random_state=42),\n",
    "    'Linear SVC': LinearSVC(random_state=42),\n",
    "    'Random Forest': RandomForestClassifier(random_state=42),\n",
    "    'XGBoost': XGBClassifier(eval_metric='mlogloss', random_state=42)\n",
    "}"
   ]
  },
  {
   "cell_type": "code",
   "execution_count": 122,
   "id": "1bc729aa",
   "metadata": {},
   "outputs": [
    {
     "data": {
      "text/html": [
       "<div>\n",
       "<style scoped>\n",
       "    .dataframe tbody tr th:only-of-type {\n",
       "        vertical-align: middle;\n",
       "    }\n",
       "\n",
       "    .dataframe tbody tr th {\n",
       "        vertical-align: top;\n",
       "    }\n",
       "\n",
       "    .dataframe thead th {\n",
       "        text-align: right;\n",
       "    }\n",
       "</style>\n",
       "<table border=\"1\" class=\"dataframe\">\n",
       "  <thead>\n",
       "    <tr style=\"text-align: right;\">\n",
       "      <th></th>\n",
       "      <th>sentiment</th>\n",
       "      <th>pair</th>\n",
       "    </tr>\n",
       "  </thead>\n",
       "  <tbody>\n",
       "    <tr>\n",
       "      <th>0</th>\n",
       "      <td>0</td>\n",
       "      <td>i have been to this place for random dinner with friends and it was the most stupid decision   [ASP] other</td>\n",
       "    </tr>\n",
       "    <tr>\n",
       "      <th>1</th>\n",
       "      <td>0</td>\n",
       "      <td>the place is the perfect example of mismanagement  [ASP] service</td>\n",
       "    </tr>\n",
       "    <tr>\n",
       "      <th>2</th>\n",
       "      <td>0</td>\n",
       "      <td>the food was also pathetic  [ASP] quality</td>\n",
       "    </tr>\n",
       "    <tr>\n",
       "      <th>3</th>\n",
       "      <td>0</td>\n",
       "      <td>we have ordered sambhar rice after a lot of disappointment thinking that atleast it will come on time and will be good in taste but i guess they were checking our patience and it took almost      mins for us to get that  [ASP] quality</td>\n",
       "    </tr>\n",
       "    <tr>\n",
       "      <th>4</th>\n",
       "      <td>0</td>\n",
       "      <td>we have ordered sambhar rice after a lot of disappointment thinking that atleast it will come on time and will be good in taste but i guess they were checking our patience and it took almost      mins for us to get that  [ASP] service</td>\n",
       "    </tr>\n",
       "    <tr>\n",
       "      <th>...</th>\n",
       "      <td>...</td>\n",
       "      <td>...</td>\n",
       "    </tr>\n",
       "    <tr>\n",
       "      <th>3691</th>\n",
       "      <td>1</td>\n",
       "      <td>tasty and filling  great portions of the veggies  rice  sauce   although rice wasnt sticky and i thought dolsot bap always came with hot claypot  nevertheless tasty  [ASP] quality</td>\n",
       "    </tr>\n",
       "    <tr>\n",
       "      <th>3692</th>\n",
       "      <td>2</td>\n",
       "      <td>in the middle of the meal we asked for hot sauce and there came the sauce very tiny quantity  we were like wtf  the sauce was hot made from naga chillies yet sooo good  burned my tongue but loved every bit of it  so if you have rice remaining give this a try as well  [ASP] quality</td>\n",
       "    </tr>\n",
       "    <tr>\n",
       "      <th>3693</th>\n",
       "      <td>1</td>\n",
       "      <td>staff were courteous as well  [ASP] service</td>\n",
       "    </tr>\n",
       "    <tr>\n",
       "      <th>3694</th>\n",
       "      <td>0</td>\n",
       "      <td>one star less just for the tofu  [ASP] quality</td>\n",
       "    </tr>\n",
       "    <tr>\n",
       "      <th>3695</th>\n",
       "      <td>1</td>\n",
       "      <td>rest was perfect  will definitely visit again [ASP] quality</td>\n",
       "    </tr>\n",
       "  </tbody>\n",
       "</table>\n",
       "<p>3682 rows × 2 columns</p>\n",
       "</div>"
      ],
      "text/plain": [
       "      sentiment  \\\n",
       "0             0   \n",
       "1             0   \n",
       "2             0   \n",
       "3             0   \n",
       "4             0   \n",
       "...         ...   \n",
       "3691          1   \n",
       "3692          2   \n",
       "3693          1   \n",
       "3694          0   \n",
       "3695          1   \n",
       "\n",
       "                                                                                                                                                                                                                                                                                           pair  \n",
       "0                                                                                                                                                                                    i have been to this place for random dinner with friends and it was the most stupid decision   [ASP] other  \n",
       "1                                                                                                                                                                                                                              the place is the perfect example of mismanagement  [ASP] service  \n",
       "2                                                                                                                                                                                                                                                     the food was also pathetic  [ASP] quality  \n",
       "3                                                    we have ordered sambhar rice after a lot of disappointment thinking that atleast it will come on time and will be good in taste but i guess they were checking our patience and it took almost      mins for us to get that  [ASP] quality  \n",
       "4                                                    we have ordered sambhar rice after a lot of disappointment thinking that atleast it will come on time and will be good in taste but i guess they were checking our patience and it took almost      mins for us to get that  [ASP] service  \n",
       "...                                                                                                                                                                                                                                                                                         ...  \n",
       "3691                                                                                                        tasty and filling  great portions of the veggies  rice  sauce   although rice wasnt sticky and i thought dolsot bap always came with hot claypot  nevertheless tasty  [ASP] quality  \n",
       "3692  in the middle of the meal we asked for hot sauce and there came the sauce very tiny quantity  we were like wtf  the sauce was hot made from naga chillies yet sooo good  burned my tongue but loved every bit of it  so if you have rice remaining give this a try as well  [ASP] quality  \n",
       "3693                                                                                                                                                                                                                                                staff were courteous as well  [ASP] service  \n",
       "3694                                                                                                                                                                                                                                             one star less just for the tofu  [ASP] quality  \n",
       "3695                                                                                                                                                                                                                                rest was perfect  will definitely visit again [ASP] quality  \n",
       "\n",
       "[3682 rows x 2 columns]"
      ]
     },
     "execution_count": 122,
     "metadata": {},
     "output_type": "execute_result"
    }
   ],
   "source": [
    "df"
   ]
  },
  {
   "cell_type": "markdown",
   "id": "999c6b5e",
   "metadata": {},
   "source": [
    "## TF-IDF\n",
    "TF-IDF biến văn bản thành vector số dựa trên độ quan trọng của các từ trong văn bản, so với toàn bộ tập dữ liệu."
   ]
  },
  {
   "cell_type": "code",
   "execution_count": 123,
   "id": "bececae0",
   "metadata": {},
   "outputs": [],
   "source": [
    "from sklearn.feature_extraction.text import TfidfVectorizer\n",
    "from nltk.corpus import stopwords"
   ]
  },
  {
   "cell_type": "code",
   "execution_count": 124,
   "id": "351ee372",
   "metadata": {},
   "outputs": [
    {
     "name": "stdout",
     "output_type": "stream",
     "text": [
      "List of stopwords: 198\n",
      "{'from', 'mightn', 'being', \"they're\", \"it'd\", 'that', 'i', 'weren', 'll', 'a', 'had', 're', 'he', 'by', 'too', 'y', 'yourself', 'which', 'but', \"haven't\", 'you', 'between', 'these', 'against', 'those', 'and', \"should've\", 'isn', \"you've\", 'was', \"weren't\", 'further', 'has', 'just', 's', 'ourselves', 'when', 'yours', \"i'd\", 'as', \"he's\", 'own', \"i'm\", 'than', \"mustn't\", \"they'd\", \"he'll\", 'during', 'its', 'whom', \"wasn't\", 'same', 'will', 'been', 'wouldn', \"i've\", 'all', 'no', 'until', 'herself', 'himself', 'on', 'to', 'ma', 'while', 'they', 'where', \"we'd\", 'some', 'them', 'for', 'myself', \"shan't\", 'am', 'out', \"you'll\", 'below', 'their', 'at', 'were', \"he'd\", 'each', 'are', 'having', 'hadn', \"don't\", 'shan', 'd', \"we're\", 'over', 'how', 't', 'what', 'an', \"i'll\", 'did', 'of', 'shouldn', 'theirs', 'under', 'wasn', 'mustn', \"didn't\", 'up', 'nor', 'does', 'then', 'before', 'other', 'above', 'because', 'more', 'through', \"it's\", 'very', \"doesn't\", \"we'll\", 'is', 'about', \"mightn't\", 'or', 'this', \"needn't\", 'doing', 'should', \"aren't\", 'down', \"they've\", 'again', 'haven', 'ours', \"hasn't\", 'only', 'have', 'why', \"they'll\", \"we've\", 'hers', 'if', 'itself', 'do', 'our', 'such', 'into', 'hasn', 'after', 'both', 'there', \"that'll\", \"couldn't\", 'needn', 'not', 'she', \"you're\", 'my', 'any', 'her', 'aren', 'ain', 'his', \"wouldn't\", 'once', \"you'd\", 'me', 'themselves', 'yourselves', \"isn't\", 'don', 'few', 'your', 'now', 'we', 'the', 'with', 'couldn', \"won't\", 'him', \"it'll\", \"she'll\", 'doesn', \"she'd\", 'won', 'here', 'off', \"shouldn't\", 'o', \"she's\", 'who', 'didn', 'most', 'be', 've', 'can', 'm', \"hadn't\", 'in', 'so', 'it'}\n",
      "\n",
      "Final list of stopwords: 160\n",
      "{'from', 'being', \"they're\", \"it'd\", 'that', 'i', 'll', 'a', 'had', 're', 'he', 'by', 'too', 'y', 'yourself', 'which', 'but', 'you', 'between', 'these', 'against', 'those', 'and', \"should've\", \"you've\", 'was', 'further', 'has', 'just', 's', 'ourselves', 'when', 'yours', \"i'd\", 'as', \"he's\", 'own', \"i'm\", 'than', \"they'd\", \"he'll\", 'during', 'its', 'whom', 'same', 'will', 'been', \"i've\", 'all', 'no', 'until', 'herself', 'himself', 'on', 'to', 'while', 'they', 'where', \"we'd\", 'some', 'them', 'for', 'myself', 'am', 'out', \"you'll\", 'below', 'their', 'at', 'were', \"he'd\", 'each', 'are', 'having', 'd', \"we're\", 'over', 'how', 't', 'what', 'an', \"i'll\", 'did', 'of', 'theirs', 'under', 'up', 'does', 'then', 'before', 'other', 'above', 'because', 'more', 'through', \"it's\", 'very', \"we'll\", 'is', 'about', 'or', 'this', 'doing', 'should', 'down', \"they've\", 'again', 'ours', 'only', 'have', 'why', \"they'll\", \"we've\", 'hers', 'if', 'itself', 'do', 'our', 'such', 'into', 'after', 'both', 'there', \"that'll\", 'she', \"you're\", 'my', 'any', 'her', 'ain', 'his', 'once', \"you'd\", 'me', 'themselves', 'yourselves', 'few', 'your', 'now', 'we', 'the', 'with', 'him', \"it'll\", \"she'll\", \"she'd\", 'won', 'here', 'off', 'o', \"she's\", 'who', 'most', 'be', 've', 'can', 'm', 'in', 'so', 'it'}\n"
     ]
    }
   ],
   "source": [
    "stopwords_list = set(stopwords.words(\"english\"))\n",
    "print(f'List of stopwords: {len(stopwords_list)}\\n{stopwords_list}\\n')\n",
    "\n",
    "# We remove negation words in list of stopwords\n",
    "no_stopwords = [\"not\", \"nor\", \"don't\",'aren','don','zain',\"aren't\", 'couldn', \"couldn't\", 'didn', \"didn't\", 'doesn', \"doesn't\", 'hadn', \"hadn't\", 'hasn', \"hasn't\", 'haven', \"haven't\", 'isn', \"isn't\",\n",
    "               'ma', 'mightn', \"mightn't\", 'mustn', \"mustn't\", 'needn', \"needn't\", 'shan', \"shan't\", 'shouldn', \"shouldn't\", 'wasn', \"wasn't\", 'weren', \"weren't\",\n",
    "               \"won't\", 'wouldn', \"wouldn't\"]\n",
    "stopwords_list -= set(no_stopwords)\n",
    "    \n",
    "print(f'Final list of stopwords: {len(stopwords_list)}\\n{stopwords_list}')"
   ]
  },
  {
   "cell_type": "code",
   "execution_count": 125,
   "id": "d39bd3de",
   "metadata": {},
   "outputs": [],
   "source": [
    "vectorizer = TfidfVectorizer(max_features=5000, ngram_range=(1, 2), stop_words=stopwords_list)\n",
    "tfidf = TfidfVectorizer(ngram_range=(1, 2), max_features=5000)\n",
    "X_train_vec = tfidf.fit_transform(X_train)\n",
    "X_test_vec = tfidf.transform(X_test)"
   ]
  },
  {
   "cell_type": "code",
   "execution_count": 127,
   "id": "6b943d4b",
   "metadata": {},
   "outputs": [
    {
     "name": "stdout",
     "output_type": "stream",
     "text": [
      "Logistic Regression\n",
      "              precision    recall  f1-score   support\n",
      "\n",
      "           1       0.78      0.77      0.78       244\n",
      "           0       0.84      0.93      0.88       446\n",
      "           2       0.25      0.02      0.04        47\n",
      "\n",
      "    accuracy                           0.82       737\n",
      "   macro avg       0.62      0.57      0.57       737\n",
      "weighted avg       0.78      0.82      0.79       737\n",
      "\n",
      "Confusion Matrix:\n",
      "True\\Pred:  Positive   Neutral   Negative\n",
      "Positive       188         54          2\n",
      "Neutral         30        415          1\n",
      "Negative        23         23          1\n",
      "Linear SVC\n",
      "              precision    recall  f1-score   support\n",
      "\n",
      "           1       0.79      0.81      0.80       244\n",
      "           0       0.87      0.90      0.88       446\n",
      "           2       0.48      0.26      0.33        47\n",
      "\n",
      "    accuracy                           0.83       737\n",
      "   macro avg       0.71      0.65      0.67       737\n",
      "weighted avg       0.82      0.83      0.82       737\n",
      "\n",
      "Confusion Matrix:\n",
      "True\\Pred:  Positive   Neutral   Negative\n",
      "Positive       197         43          4\n",
      "Neutral         36        401          9\n",
      "Negative        17         18         12\n",
      "Random Forest\n",
      "              precision    recall  f1-score   support\n",
      "\n",
      "           1       0.76      0.67      0.71       244\n",
      "           0       0.80      0.92      0.86       446\n",
      "           2       0.50      0.09      0.15        47\n",
      "\n",
      "    accuracy                           0.78       737\n",
      "   macro avg       0.69      0.56      0.57       737\n",
      "weighted avg       0.77      0.78      0.76       737\n",
      "\n",
      "Confusion Matrix:\n",
      "True\\Pred:  Positive   Neutral   Negative\n",
      "Positive       164         77          3\n",
      "Neutral         35        410          1\n",
      "Negative        17         26          4\n",
      "XGBoost\n",
      "              precision    recall  f1-score   support\n",
      "\n",
      "           1       0.78      0.77      0.78       244\n",
      "           0       0.85      0.91      0.88       446\n",
      "           2       0.68      0.32      0.43        47\n",
      "\n",
      "    accuracy                           0.82       737\n",
      "   macro avg       0.77      0.67      0.70       737\n",
      "weighted avg       0.82      0.82      0.82       737\n",
      "\n",
      "Confusion Matrix:\n",
      "True\\Pred:  Positive   Neutral   Negative\n",
      "Positive       188         53          3\n",
      "Neutral         38        404          4\n",
      "Negative        15         17         15\n"
     ]
    }
   ],
   "source": [
    "tfidf_acc = {}\n",
    "for model_name, model in models.items():\n",
    "    print(model_name)\n",
    "    accuracy = train_and_evaluate(model, X_train_vec, y_train, X_test_vec, y_test)\n",
    "    tfidf_acc[model_name] = accuracy"
   ]
  },
  {
   "cell_type": "code",
   "execution_count": 128,
   "id": "6ae6e25e",
   "metadata": {},
   "outputs": [
    {
     "name": "stdout",
     "output_type": "stream",
     "text": [
      "\n",
      "TF-IDF Results:\n",
      "                     Accuracy\n",
      "Linear SVC           0.827680\n",
      "XGBoost              0.823609\n",
      "Logistic Regression  0.819539\n",
      "Random Forest        0.784261\n"
     ]
    }
   ],
   "source": [
    "results_df = pd.DataFrame.from_dict(tfidf_acc, orient='index', columns=['Accuracy'])\n",
    "results_df = results_df.sort_values(by='Accuracy', ascending=False)\n",
    "print(\"\\nTF-IDF Results:\")\n",
    "print(results_df)"
   ]
  },
  {
   "cell_type": "markdown",
   "id": "52193423",
   "metadata": {},
   "source": [
    "## USE"
   ]
  },
  {
   "cell_type": "code",
   "execution_count": 129,
   "id": "89c9c767",
   "metadata": {},
   "outputs": [],
   "source": [
    "import tensorflow_hub as hub\n",
    "import tensorflow as tf"
   ]
  },
  {
   "cell_type": "code",
   "execution_count": 130,
   "id": "6424019f",
   "metadata": {},
   "outputs": [],
   "source": [
    "embed = hub.load(\"https://tfhub.dev/google/universal-sentence-encoder/4\")\n",
    "\n",
    "X_train_embed = embed(X_train.tolist())\n",
    "X_test_embed = embed(X_test.tolist())\n",
    "\n",
    "X_train_embed = np.array(X_train_embed)\n",
    "X_test_embed = np.array(X_test_embed)"
   ]
  },
  {
   "cell_type": "code",
   "execution_count": 131,
   "id": "b584e048",
   "metadata": {},
   "outputs": [
    {
     "data": {
      "text/plain": [
       "array([[-0.0165312 ,  0.02090786,  0.03788833, ...,  0.00126397,\n",
       "         0.04242896, -0.01333553],\n",
       "       [-0.01650475,  0.00973329,  0.04217643, ..., -0.03587803,\n",
       "         0.00327561, -0.03875838],\n",
       "       [ 0.01895647, -0.0540335 ,  0.04090199, ...,  0.03094948,\n",
       "         0.00018083, -0.07994617],\n",
       "       ...,\n",
       "       [ 0.05368351, -0.06163985,  0.03541627, ..., -0.02721667,\n",
       "         0.02429274, -0.00480506],\n",
       "       [ 0.03283805, -0.00394677, -0.06708228, ...,  0.03182586,\n",
       "         0.04800351, -0.05026051],\n",
       "       [-0.0049367 , -0.02015531,  0.0106606 , ..., -0.01440705,\n",
       "         0.00914706, -0.08118436]], dtype=float32)"
      ]
     },
     "execution_count": 131,
     "metadata": {},
     "output_type": "execute_result"
    }
   ],
   "source": [
    "X_train_embed"
   ]
  },
  {
   "cell_type": "code",
   "execution_count": 132,
   "id": "2f939e41",
   "metadata": {},
   "outputs": [
    {
     "name": "stdout",
     "output_type": "stream",
     "text": [
      "              precision    recall  f1-score   support\n",
      "\n",
      "           1       0.81      0.85      0.83       244\n",
      "           0       0.87      0.93      0.90       446\n",
      "           2       0.75      0.06      0.12        47\n",
      "\n",
      "    accuracy                           0.85       737\n",
      "   macro avg       0.81      0.62      0.62       737\n",
      "weighted avg       0.84      0.85      0.83       737\n",
      "\n",
      "Confusion Matrix:\n",
      "True\\Pred:  Positive   Neutral   Negative\n",
      "Positive       207         37          0\n",
      "Neutral         28        417          1\n",
      "Negative        20         24          3\n"
     ]
    },
    {
     "data": {
      "text/plain": [
       "0.8507462686567164"
      ]
     },
     "execution_count": 132,
     "metadata": {},
     "output_type": "execute_result"
    }
   ],
   "source": [
    "train_and_evaluate(models['Logistic Regression'], X_train_embed, y_train, X_test_embed, y_test)"
   ]
  },
  {
   "cell_type": "code",
   "execution_count": 133,
   "id": "6137c711",
   "metadata": {},
   "outputs": [
    {
     "name": "stdout",
     "output_type": "stream",
     "text": [
      "Logistic Regression\n",
      "              precision    recall  f1-score   support\n",
      "\n",
      "           1       0.81      0.85      0.83       244\n",
      "           0       0.87      0.93      0.90       446\n",
      "           2       0.75      0.06      0.12        47\n",
      "\n",
      "    accuracy                           0.85       737\n",
      "   macro avg       0.81      0.62      0.62       737\n",
      "weighted avg       0.84      0.85      0.83       737\n",
      "\n",
      "Confusion Matrix:\n",
      "True\\Pred:  Positive   Neutral   Negative\n",
      "Positive       207         37          0\n",
      "Neutral         28        417          1\n",
      "Negative        20         24          3\n",
      "Linear SVC\n",
      "              precision    recall  f1-score   support\n",
      "\n",
      "           1       0.82      0.84      0.83       244\n",
      "           0       0.87      0.93      0.90       446\n",
      "           2       0.50      0.11      0.18        47\n",
      "\n",
      "    accuracy                           0.85       737\n",
      "   macro avg       0.73      0.62      0.63       737\n",
      "weighted avg       0.83      0.85      0.83       737\n",
      "\n",
      "Confusion Matrix:\n",
      "True\\Pred:  Positive   Neutral   Negative\n",
      "Positive       204         40          0\n",
      "Neutral         27        414          5\n",
      "Negative        19         23          5\n",
      "Random Forest\n",
      "              precision    recall  f1-score   support\n",
      "\n",
      "           1       0.81      0.75      0.77       244\n",
      "           0       0.83      0.95      0.88       446\n",
      "           2       0.00      0.00      0.00        47\n",
      "\n",
      "    accuracy                           0.82       737\n",
      "   macro avg       0.54      0.56      0.55       737\n",
      "weighted avg       0.77      0.82      0.79       737\n",
      "\n",
      "Confusion Matrix:\n",
      "True\\Pred:  Positive   Neutral   Negative\n",
      "Positive       182         62          0\n",
      "Neutral         23        422          1\n",
      "Negative        21         26          0\n",
      "XGBoost\n",
      "              precision    recall  f1-score   support\n",
      "\n",
      "           1       0.81      0.80      0.80       244\n",
      "           0       0.85      0.93      0.89       446\n",
      "           2       0.83      0.11      0.19        47\n",
      "\n",
      "    accuracy                           0.83       737\n",
      "   macro avg       0.83      0.61      0.63       737\n",
      "weighted avg       0.83      0.83      0.81       737\n",
      "\n",
      "Confusion Matrix:\n",
      "True\\Pred:  Positive   Neutral   Negative\n",
      "Positive       194         50          0\n",
      "Neutral         29        416          1\n",
      "Negative        17         25          5\n"
     ]
    }
   ],
   "source": [
    "use_acc = {}\n",
    "for model_name, model in models.items():\n",
    "    print(model_name)\n",
    "    accuracy = train_and_evaluate(model, X_train_embed, y_train, X_test_embed, y_test)\n",
    "    use_acc[model_name] = accuracy"
   ]
  },
  {
   "cell_type": "code",
   "execution_count": 134,
   "id": "3a9e4bb1",
   "metadata": {},
   "outputs": [
    {
     "name": "stdout",
     "output_type": "stream",
     "text": [
      "\n",
      "USE Results:\n",
      "                     Accuracy\n",
      "Logistic Regression  0.850746\n",
      "Linear SVC           0.845319\n",
      "XGBoost              0.834464\n",
      "Random Forest        0.819539\n"
     ]
    }
   ],
   "source": [
    "results_df = pd.DataFrame.from_dict(use_acc, orient='index', columns=['Accuracy'])\n",
    "results_df = results_df.sort_values(by='Accuracy', ascending=False)\n",
    "print(\"\\nUSE Results:\")\n",
    "print(results_df)"
   ]
  },
  {
   "cell_type": "markdown",
   "id": "537c4e88",
   "metadata": {},
   "source": [
    "## TF-IDF + USE"
   ]
  },
  {
   "cell_type": "code",
   "execution_count": 135,
   "id": "4d8b67a8",
   "metadata": {},
   "outputs": [],
   "source": [
    "X_train_combined = np.hstack((X_train_vec.toarray(), X_train_embed))\n",
    "X_test_combined = np.hstack((X_test_vec.toarray(), X_test_embed))"
   ]
  },
  {
   "cell_type": "code",
   "execution_count": 136,
   "id": "2ec7d584",
   "metadata": {},
   "outputs": [
    {
     "name": "stdout",
     "output_type": "stream",
     "text": [
      "Logistic Regression\n",
      "              precision    recall  f1-score   support\n",
      "\n",
      "           1       0.84      0.84      0.84       244\n",
      "           0       0.88      0.95      0.91       446\n",
      "           2       0.57      0.17      0.26        47\n",
      "\n",
      "    accuracy                           0.86       737\n",
      "   macro avg       0.77      0.65      0.67       737\n",
      "weighted avg       0.85      0.86      0.85       737\n",
      "\n",
      "Confusion Matrix:\n",
      "True\\Pred:  Positive   Neutral   Negative\n",
      "Positive       204         36          4\n",
      "Neutral         20        424          2\n",
      "Negative        18         21          8\n",
      "Linear SVC\n",
      "              precision    recall  f1-score   support\n",
      "\n",
      "           1       0.82      0.84      0.83       244\n",
      "           0       0.88      0.90      0.89       446\n",
      "           2       0.45      0.30      0.36        47\n",
      "\n",
      "    accuracy                           0.84       737\n",
      "   macro avg       0.72      0.68      0.69       737\n",
      "weighted avg       0.83      0.84      0.84       737\n",
      "\n",
      "Confusion Matrix:\n",
      "True\\Pred:  Positive   Neutral   Negative\n",
      "Positive       204         36          4\n",
      "Neutral         31        402         13\n",
      "Negative        14         19         14\n",
      "Random Forest\n",
      "              precision    recall  f1-score   support\n",
      "\n",
      "           1       0.85      0.73      0.79       244\n",
      "           0       0.81      0.96      0.88       446\n",
      "           2       0.00      0.00      0.00        47\n",
      "\n",
      "    accuracy                           0.82       737\n",
      "   macro avg       0.55      0.56      0.56       737\n",
      "weighted avg       0.77      0.82      0.79       737\n",
      "\n",
      "Confusion Matrix:\n",
      "True\\Pred:  Positive   Neutral   Negative\n",
      "Positive       179         65          0\n",
      "Neutral         18        427          1\n",
      "Negative        13         34          0\n",
      "XGBoost\n",
      "              precision    recall  f1-score   support\n",
      "\n",
      "           1       0.83      0.81      0.82       244\n",
      "           0       0.86      0.94      0.90       446\n",
      "           2       0.64      0.19      0.30        47\n",
      "\n",
      "    accuracy                           0.85       737\n",
      "   macro avg       0.78      0.65      0.67       737\n",
      "weighted avg       0.84      0.85      0.83       737\n",
      "\n",
      "Confusion Matrix:\n",
      "True\\Pred:  Positive   Neutral   Negative\n",
      "Positive       198         45          1\n",
      "Neutral         24        418          4\n",
      "Negative        16         22          9\n"
     ]
    }
   ],
   "source": [
    "combined_acc = {}\n",
    "for model_name, model in models.items():\n",
    "    print(model_name)\n",
    "    accuracy = train_and_evaluate(model, X_train_combined, y_train, X_test_combined, y_test)\n",
    "    combined_acc[model_name] = accuracy"
   ]
  },
  {
   "cell_type": "code",
   "execution_count": 137,
   "id": "f6c72d20",
   "metadata": {},
   "outputs": [
    {
     "name": "stdout",
     "output_type": "stream",
     "text": [
      "\n",
      "USE Results:\n",
      "                     Accuracy\n",
      "Logistic Regression  0.862958\n",
      "XGBoost              0.848033\n",
      "Linear SVC           0.841248\n",
      "Random Forest        0.822252\n"
     ]
    }
   ],
   "source": [
    "results_df = pd.DataFrame.from_dict(combined_acc, orient='index', columns=['Accuracy'])\n",
    "results_df = results_df.sort_values(by='Accuracy', ascending=False)\n",
    "print(\"\\nUSE Results:\")\n",
    "print(results_df)"
   ]
  },
  {
   "cell_type": "markdown",
   "id": "ad45153c",
   "metadata": {},
   "source": [
    "## visualization"
   ]
  },
  {
   "cell_type": "code",
   "execution_count": 138,
   "id": "774b8a35",
   "metadata": {},
   "outputs": [
    {
     "data": {
      "text/plain": [
       "({'Logistic Regression': 0.819538670284939,\n",
       "  'Linear SVC': 0.8276797829036635,\n",
       "  'Random Forest': 0.7842605156037992,\n",
       "  'XGBoost': 0.8236092265943012},\n",
       " {'Logistic Regression': 0.8507462686567164,\n",
       "  'Linear SVC': 0.8453188602442334,\n",
       "  'Random Forest': 0.819538670284939,\n",
       "  'XGBoost': 0.8344640434192673},\n",
       " {'Logistic Regression': 0.8629579375848032,\n",
       "  'Linear SVC': 0.841248303934871,\n",
       "  'Random Forest': 0.8222523744911805,\n",
       "  'XGBoost': 0.8480325644504749})"
      ]
     },
     "execution_count": 138,
     "metadata": {},
     "output_type": "execute_result"
    }
   ],
   "source": [
    "tfidf_acc, use_acc, combined_acc"
   ]
  },
  {
   "cell_type": "code",
   "execution_count": 139,
   "id": "9c51b290",
   "metadata": {},
   "outputs": [
    {
     "data": {
      "image/png": "[encoded data removed]",
      "text/plain": [
       "<Figure size 800x300 with 1 Axes>"
      ]
     },
     "metadata": {},
     "output_type": "display_data"
    }
   ],
   "source": [
    "import matplotlib.pyplot as plt\n",
    "\n",
    "classifiers = list(models.keys())\n",
    "tfidf_values = list(tfidf_acc.values())\n",
    "use_values = list(use_acc.values())\n",
    "combined_values = list(combined_acc.values())\n",
    "\n",
    "x = np.arange(len(classifiers))\n",
    "\n",
    "bar_width = 0.25\n",
    "plt.figure(figsize=(8, 3))\n",
    "plt.bar(x - bar_width, tfidf_values, bar_width, label='TF-IDF', color='orange')\n",
    "plt.bar(x, use_values, bar_width, label='USE', color='purple')\n",
    "plt.bar(x + bar_width, combined_values, bar_width, label='TF-IDF+USE', color='red')\n",
    "\n",
    "plt.xlabel('Classifiers')\n",
    "plt.ylabel('Accuracy')\n",
    "plt.title('Classifier Accuracies with Different Embeddings')\n",
    "plt.xticks(x, classifiers)\n",
    "plt.ylim(0, 1.0)\n",
    "plt.legend()\n",
    "\n",
    "# Add accuracy values on top of the bars\n",
    "for i in range(len(classifiers)):\n",
    "    plt.text(x[i] - bar_width, tfidf_values[i] + 0.02, f\"{tfidf_values[i]:.2f}\", ha='center')\n",
    "    plt.text(x[i], use_values[i] + 0.02, f\"{use_values[i]:.2f}\", ha='center')\n",
    "    plt.text(x[i] + bar_width, combined_values[i] + 0.02, f\"{combined_values[i]:.2f}\", ha='center')\n",
    "\n",
    "\n",
    "# Display the plot\n",
    "plt.tight_layout()\n",
    "plt.show()"
   ]
  },
  {
   "cell_type": "markdown",
   "id": "b1290589",
   "metadata": {},
   "source": [
    "MODELS THAT MORE SUITABLE FOR USE"
   ]
  },
  {
   "cell_type": "code",
   "execution_count": null,
   "id": "09a3a7ee",
   "metadata": {},
   "outputs": [
    {
     "name": "stdout",
     "output_type": "stream",
     "text": [
      "              precision    recall  f1-score   support\n",
      "\n",
      "           1       0.83      0.79      0.81       244\n",
      "           0       0.86      0.90      0.88       446\n",
      "           2       0.38      0.32      0.35        47\n",
      "\n",
      "    accuracy                           0.83       737\n",
      "   macro avg       0.69      0.67      0.68       737\n",
      "weighted avg       0.82      0.83      0.82       737\n",
      "\n",
      "Confusion Matrix:\n",
      "True\\Pred:  Positive   Neutral   Negative\n",
      "Positive       192         43          9\n",
      "Neutral         28        403         15\n",
      "Negative        12         20         15\n",
      "None\n"
     ]
    }
   ],
   "source": [
    "from sklearn.neural_network import MLPClassifier\n",
    "mlp = MLPClassifier(hidden_layer_sizes=(256,128), max_iter=500, random_state=42)\n",
    "mlp.fit(X_train_embed, y_train)\n",
    "evaluate_model(y_test, mlp.predict(X_test_embed))"
   ]
  }
 ],
 "metadata": {
  "kernelspec": {
   "display_name": "Python 3",
   "language": "python",
   "name": "python3"
  },
  "language_info": {
   "codemirror_mode": {
    "name": "ipython",
    "version": 3
   },
   "file_extension": ".py",
   "mimetype": "text/x-python",
   "name": "python",
   "nbconvert_exporter": "python",
   "pygments_lexer": "ipython3",
   "version": "3.10.0"
  }
 },
 "nbformat": 4,
 "nbformat_minor": 5
}
