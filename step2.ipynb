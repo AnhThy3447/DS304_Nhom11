{
 "cells": [
  {
   "cell_type": "code",
   "execution_count": 1,
   "id": "3d22cb22",
   "metadata": {},
   "outputs": [],
   "source": [
    "import pandas as pd\n",
    "import numpy as np"
   ]
  },
  {
   "cell_type": "code",
   "execution_count": 2,
   "id": "58dd1f42",
   "metadata": {},
   "outputs": [
    {
     "data": {
      "text/plain": [
       "((3696, 3), Index(['sentence', 'aspect', 'sentiment'], dtype='object'))"
      ]
     },
     "execution_count": 2,
     "metadata": {},
     "output_type": "execute_result"
    }
   ],
   "source": [
    "df = pd.read_csv('aspect_sentiment.csv')\n",
    "df.shape, df.columns"
   ]
  },
  {
   "cell_type": "code",
   "execution_count": 3,
   "id": "f324bd03",
   "metadata": {},
   "outputs": [
    {
     "data": {
      "text/plain": [
       "sentiment\n",
       "Negative                                         2177\n",
       "Positive                                         1272\n",
       "Neutral                                           233\n",
       "{\"choices\":[\"Positive\",\"Negative\"]}                 6\n",
       "{\"choices\":[\"Positive\",\"Neutral\"]}                  6\n",
       "{\"choices\":[\"Negative\",\"Neutral\"]}                  1\n",
       "{\"choices\":[\"Positive\",\"Negative\",\"Neutral\"]}       1\n",
       "Name: count, dtype: int64"
      ]
     },
     "execution_count": 3,
     "metadata": {},
     "output_type": "execute_result"
    }
   ],
   "source": [
    "df['sentiment'].value_counts()"
   ]
  },
  {
   "cell_type": "code",
   "execution_count": 4,
   "id": "89c66fa8",
   "metadata": {},
   "outputs": [],
   "source": [
    "valid_sentiments = ['Positive', 'Negative']\n",
    "# , 'Neutral'\n",
    "df = df[df['sentiment'].isin(valid_sentiments)]"
   ]
  },
  {
   "cell_type": "code",
   "execution_count": 5,
   "id": "a4129931",
   "metadata": {},
   "outputs": [
    {
     "data": {
      "text/plain": [
       "<Axes: ylabel='count'>"
      ]
     },
     "execution_count": 5,
     "metadata": {},
     "output_type": "execute_result"
    },
    {
     "data": {
      "image/png": "[encoded data removed]",
      "text/plain": [
       "<Figure size 500x500 with 1 Axes>"
      ]
     },
     "metadata": {},
     "output_type": "display_data"
    }
   ],
   "source": [
    "df['sentiment'].value_counts().plot(kind='pie', autopct='%1.1f%%', figsize=(5, 5), colormap='rainbow')"
   ]
  },
  {
   "cell_type": "code",
   "execution_count": 6,
   "id": "37066c88",
   "metadata": {},
   "outputs": [],
   "source": [
    "df['sentiment'] = df['sentiment'].map({'Positive': 1, 'Negative': 0})"
   ]
  },
  {
   "cell_type": "code",
   "execution_count": 7,
   "id": "d079911a",
   "metadata": {},
   "outputs": [
    {
     "data": {
      "text/html": [
       "<div>\n",
       "<style scoped>\n",
       "    .dataframe tbody tr th:only-of-type {\n",
       "        vertical-align: middle;\n",
       "    }\n",
       "\n",
       "    .dataframe tbody tr th {\n",
       "        vertical-align: top;\n",
       "    }\n",
       "\n",
       "    .dataframe thead th {\n",
       "        text-align: right;\n",
       "    }\n",
       "</style>\n",
       "<table border=\"1\" class=\"dataframe\">\n",
       "  <thead>\n",
       "    <tr style=\"text-align: right;\">\n",
       "      <th></th>\n",
       "      <th>sentence</th>\n",
       "      <th>aspect</th>\n",
       "      <th>sentiment</th>\n",
       "      <th>pair</th>\n",
       "    </tr>\n",
       "  </thead>\n",
       "  <tbody>\n",
       "    <tr>\n",
       "      <th>0</th>\n",
       "      <td>i have been to this place for random dinner with friends and it was the most stupid decision</td>\n",
       "      <td>other</td>\n",
       "      <td>0</td>\n",
       "      <td>i have been to this place for random dinner with friends and it was the most stupid decision   [ASP] other</td>\n",
       "    </tr>\n",
       "    <tr>\n",
       "      <th>1</th>\n",
       "      <td>the place is the perfect example of mismanagement</td>\n",
       "      <td>service</td>\n",
       "      <td>0</td>\n",
       "      <td>the place is the perfect example of mismanagement  [ASP] service</td>\n",
       "    </tr>\n",
       "    <tr>\n",
       "      <th>2</th>\n",
       "      <td>the food was also pathetic</td>\n",
       "      <td>quality</td>\n",
       "      <td>0</td>\n",
       "      <td>the food was also pathetic  [ASP] quality</td>\n",
       "    </tr>\n",
       "    <tr>\n",
       "      <th>3</th>\n",
       "      <td>we have ordered sambhar rice after a lot of disappointment thinking that atleast it will come on time and will be good in taste but i guess they were checking our patience and it took almost      mins for us to get that</td>\n",
       "      <td>quality</td>\n",
       "      <td>0</td>\n",
       "      <td>we have ordered sambhar rice after a lot of disappointment thinking that atleast it will come on time and will be good in taste but i guess they were checking our patience and it took almost      mins for us to get that  [ASP] quality</td>\n",
       "    </tr>\n",
       "    <tr>\n",
       "      <th>4</th>\n",
       "      <td>we have ordered sambhar rice after a lot of disappointment thinking that atleast it will come on time and will be good in taste but i guess they were checking our patience and it took almost      mins for us to get that</td>\n",
       "      <td>service</td>\n",
       "      <td>0</td>\n",
       "      <td>we have ordered sambhar rice after a lot of disappointment thinking that atleast it will come on time and will be good in taste but i guess they were checking our patience and it took almost      mins for us to get that  [ASP] service</td>\n",
       "    </tr>\n",
       "  </tbody>\n",
       "</table>\n",
       "</div>"
      ],
      "text/plain": [
       "                                                                                                                                                                                                                       sentence  \\\n",
       "0                                                                                                                                i have been to this place for random dinner with friends and it was the most stupid decision     \n",
       "1                                                                                                                                                                            the place is the perfect example of mismanagement    \n",
       "2                                                                                                                                                                                                   the food was also pathetic    \n",
       "3  we have ordered sambhar rice after a lot of disappointment thinking that atleast it will come on time and will be good in taste but i guess they were checking our patience and it took almost      mins for us to get that    \n",
       "4  we have ordered sambhar rice after a lot of disappointment thinking that atleast it will come on time and will be good in taste but i guess they were checking our patience and it took almost      mins for us to get that    \n",
       "\n",
       "    aspect  sentiment  \\\n",
       "0    other          0   \n",
       "1  service          0   \n",
       "2  quality          0   \n",
       "3  quality          0   \n",
       "4  service          0   \n",
       "\n",
       "                                                                                                                                                                                                                                         pair  \n",
       "0                                                                                                                                  i have been to this place for random dinner with friends and it was the most stupid decision   [ASP] other  \n",
       "1                                                                                                                                                                            the place is the perfect example of mismanagement  [ASP] service  \n",
       "2                                                                                                                                                                                                   the food was also pathetic  [ASP] quality  \n",
       "3  we have ordered sambhar rice after a lot of disappointment thinking that atleast it will come on time and will be good in taste but i guess they were checking our patience and it took almost      mins for us to get that  [ASP] quality  \n",
       "4  we have ordered sambhar rice after a lot of disappointment thinking that atleast it will come on time and will be good in taste but i guess they were checking our patience and it took almost      mins for us to get that  [ASP] service  "
      ]
     },
     "execution_count": 7,
     "metadata": {},
     "output_type": "execute_result"
    }
   ],
   "source": [
    "df['pair'] = df['sentence'] + ' [ASP] ' + df['aspect']\n",
    "pd.set_option('display.max_colwidth', None)  \n",
    "pd.set_option('display.width', None) \n",
    "df.head()"
   ]
  },
  {
   "cell_type": "code",
   "execution_count": 8,
   "id": "baec609e",
   "metadata": {},
   "outputs": [],
   "source": [
    "df.drop(columns=['sentence', 'aspect'], inplace=True)"
   ]
  },
  {
   "cell_type": "markdown",
   "id": "62e0e4c6",
   "metadata": {},
   "source": [
    "# ML"
   ]
  },
  {
   "cell_type": "code",
   "execution_count": 42,
   "id": "8dec3142",
   "metadata": {},
   "outputs": [],
   "source": [
    "from sklearn.model_selection import train_test_split\n",
    "from sklearn.metrics import classification_report, confusion_matrix, accuracy_score\n",
    "\n",
    "# Chia dữ liệu\n",
    "X_train, X_test, y_train, y_test = train_test_split(df['pair'], df['sentiment'], test_size=0.2, random_state=42)"
   ]
  },
  {
   "cell_type": "code",
   "execution_count": 43,
   "id": "9d8062de",
   "metadata": {},
   "outputs": [],
   "source": [
    "def evaluate_model(y_test, y_pred):\n",
    "    labels = [1, 0]\n",
    "    print(classification_report(y_test, y_pred, labels=labels))\n",
    "    cm = confusion_matrix(y_test, y_pred, labels=labels)\n",
    "    print(f\"          Pred_Pos   Pred_Neg\")\n",
    "    print(f\"True_Pos     {cm[0][0]:>5}      {cm[0][1]:>5}\")\n",
    "    print(f\"True_Neg     {cm[1][0]:>5}      {cm[1][1]:>5}\")\n",
    "    # 'Neutral', \n",
    "    # cm = confusion_matrix(y_test, y_pred, labels=labels)\n",
    "    # print(\"Confusion Matrix:\")\n",
    "    # print(f\"True\\\\Pred:  Positive   Neutral   Negative\")\n",
    "    # print(f\"Positive     {cm[0][0]:>5}      {cm[0][1]:>5}      {cm[0][2]:>5}\")\n",
    "    # print(f\"Neutral      {cm[1][0]:>5}      {cm[1][1]:>5}      {cm[1][2]:>5}\")\n",
    "    # print(f\"Negative     {cm[2][0]:>5}      {cm[2][1]:>5}      {cm[2][2]:>5}\")"
   ]
  },
  {
   "cell_type": "code",
   "execution_count": 44,
   "id": "1a29d4fe",
   "metadata": {},
   "outputs": [
    {
     "name": "stdout",
     "output_type": "stream",
     "text": [
      "Requirement already satisfied: xgboost in c:\\users\\admin\\appdata\\local\\programs\\python\\python310\\lib\\site-packages (3.0.2)\n",
      "Requirement already satisfied: scipy in c:\\users\\admin\\appdata\\local\\programs\\python\\python310\\lib\\site-packages (from xgboost) (1.15.3)\n",
      "Requirement already satisfied: numpy in c:\\users\\admin\\appdata\\local\\programs\\python\\python310\\lib\\site-packages (from xgboost) (1.26.4)\n"
     ]
    },
    {
     "name": "stderr",
     "output_type": "stream",
     "text": [
      "WARNING: You are using pip version 21.2.3; however, version 25.1.1 is available.\n",
      "You should consider upgrading via the 'C:\\Users\\Admin\\AppData\\Local\\Programs\\Python\\Python310\\python.exe -m pip install --upgrade pip' command.\n"
     ]
    }
   ],
   "source": [
    "!pip install xgboost"
   ]
  },
  {
   "cell_type": "code",
   "execution_count": 45,
   "id": "9a0110ea",
   "metadata": {},
   "outputs": [],
   "source": [
    "from sklearn.linear_model import LogisticRegression\n",
    "from sklearn.svm import LinearSVC\n",
    "# from sklearn.naive_bayes import MultinomialNB\n",
    "from sklearn.ensemble import RandomForestClassifier\n",
    "from xgboost import XGBClassifier "
   ]
  },
  {
   "cell_type": "code",
   "execution_count": 46,
   "id": "65834725",
   "metadata": {},
   "outputs": [],
   "source": [
    "def train_and_evaluate(model, X_train, y_train, X_test, y_test):\n",
    "    model.fit(X_train, y_train)\n",
    "    y_pred = model.predict(X_test)\n",
    "    evaluate_model(y_test, y_pred)\n",
    "    return model.score(X_test, y_test)\n",
    "\n",
    "models = {\n",
    "    'Logistic Regression': LogisticRegression(max_iter=1000, random_state=42),\n",
    "    'Linear SVC': LinearSVC(random_state=42),\n",
    "    # 'Multinomial Naive Bayes': MultinomialNB(),\n",
    "    'Random Forest': RandomForestClassifier(random_state=42),\n",
    "    'XGBoost': XGBClassifier(eval_metric='mlogloss', random_state=42)\n",
    "}"
   ]
  },
  {
   "cell_type": "markdown",
   "id": "999c6b5e",
   "metadata": {},
   "source": [
    "## TF-IDF\n",
    "TF-IDF biến văn bản thành vector số dựa trên độ quan trọng của các từ trong văn bản, so với toàn bộ tập dữ liệu."
   ]
  },
  {
   "cell_type": "code",
   "execution_count": 47,
   "id": "bececae0",
   "metadata": {},
   "outputs": [],
   "source": [
    "from sklearn.feature_extraction.text import TfidfVectorizer\n",
    "from nltk.corpus import stopwords"
   ]
  },
  {
   "cell_type": "code",
   "execution_count": null,
   "id": "351ee372",
   "metadata": {},
   "outputs": [
    {
     "name": "stdout",
     "output_type": "stream",
     "text": [
      "List of stopwords: 198\n",
      "{'wasn', 'y', 'very', 'shouldn', \"that'll\", 'a', 'did', \"it'll\", 'herself', 'both', 'of', 'that', 'from', 'too', \"he'll\", \"we're\", 'can', \"you've\", 'aren', 'itself', 'just', 'hadn', 'than', \"she's\", \"hasn't\", 'most', 'hasn', 'on', \"won't\", 'mustn', 'yourself', 'other', \"mustn't\", 'over', \"they're\", \"you'd\", \"you'll\", 'and', 'as', 'here', 'again', 're', 'no', 's', 'any', 'hers', 'll', \"needn't\", 'were', 'but', 'had', \"they'll\", \"we'll\", 'who', 'ain', 'we', \"i'll\", \"he'd\", \"we've\", 'once', 'm', 'when', 'was', 'before', 'ma', 'yourselves', 'not', 'your', 'doesn', 'through', 'this', \"she'd\", \"wouldn't\", \"we'd\", 'whom', 'more', \"they've\", 'her', 'then', \"i've\", 'off', 'against', \"i'm\", 'into', \"should've\", 'or', 'won', 'weren', 'at', 'be', 'all', 'its', 'what', 'o', 'yours', 'down', \"wasn't\", 'i', 'isn', 'my', 'ourselves', 'you', 'nor', 'am', 'own', 'she', 'been', 'until', 'wouldn', 'me', 'below', 'it', 'some', 'further', \"haven't\", 'have', 'doing', 'should', 'needn', 'myself', \"shan't\", 'couldn', \"couldn't\", \"it's\", 'is', 'under', 'those', 'being', 'don', \"it'd\", 'd', 'to', 'theirs', 'there', 'are', 've', 'such', 'up', \"doesn't\", 'after', 'with', 'them', 'haven', 'will', 'by', 'our', \"aren't\", 'the', 'only', 'out', \"didn't\", 'so', 'him', 'how', 'about', 'has', 'same', \"hadn't\", \"weren't\", 'where', 'in', 'an', 'didn', 'during', 'for', 'shan', \"they'd\", 'he', \"i'd\", \"he's\", 'mightn', 'their', \"she'll\", 'why', \"you're\", 'having', 'himself', 'above', 'between', 'does', \"don't\", \"mightn't\", 'because', 'now', 'ours', \"shouldn't\", 'if', 'themselves', 'do', \"isn't\", 'while', 'these', 'few', 'each', 'they', 'which', 't', 'his'}\n",
      "\n",
      "Final list of stopwords: 159\n",
      "{'y', 'very', \"that'll\", 'a', 'did', \"it'll\", 'herself', 'both', 'of', 'that', 'from', 'too', \"he'll\", \"we're\", 'can', \"you've\", 'itself', 'just', 'than', \"she's\", 'most', 'on', 'yourself', 'other', 'over', \"they're\", \"you'd\", \"you'll\", 'and', 'as', 'here', 'again', 're', 'no', 's', 'any', 'hers', 'll', 'were', 'but', 'had', \"they'll\", \"we'll\", 'who', 'we', \"i'll\", \"he'd\", \"we've\", 'once', 'm', 'when', 'was', 'before', 'yourselves', 'your', 'through', 'this', \"she'd\", \"we'd\", 'whom', 'more', \"they've\", 'her', 'then', \"i've\", 'off', 'against', \"i'm\", 'into', \"should've\", 'or', 'won', 'at', 'be', 'all', 'its', 'what', 'o', 'yours', 'down', 'i', 'my', 'ourselves', 'you', 'am', 'own', 'she', 'been', 'until', 'me', 'below', 'it', 'some', 'further', 'have', 'doing', 'should', 'myself', \"it's\", 'is', 'under', 'those', 'being', \"it'd\", 'd', 'to', 'theirs', 'there', 'are', 've', 'such', 'up', 'after', 'with', 'them', 'will', 'by', 'our', 'the', 'only', 'out', 'so', 'him', 'how', 'about', 'has', 'same', 'where', 'in', 'an', 'during', 'for', \"they'd\", 'he', \"i'd\", \"he's\", 'their', \"she'll\", 'why', \"you're\", 'having', 'himself', 'above', 'between', 'does', 'because', 'now', 'ours', 'if', 'themselves', 'do', 'while', 'these', 'few', 'each', 'they', 'which', 't', 'his'}\n"
     ]
    }
   ],
   "source": [
    "stopwords_list = set(stopwords.words(\"english\"))\n",
    "print(f'List of stopwords: {len(stopwords_list)}\\n{stopwords_list}\\n')\n",
    "\n",
    "# We remove negation words in list of stopwords\n",
    "no_stopwords = [\"not\", \"nor\", \"don't\",'aren','don','zain',\"aren't\", 'couldn', \"couldn't\", 'didn', \"didn't\", 'doesn', \"doesn't\", 'hadn', \"hadn't\", 'hasn', \"hasn't\", 'haven', \"haven't\", 'isn', \"isn't\",\n",
    "               'ma', 'mightn', \"mightn't\", 'mustn', \"mustn't\", 'needn', \"needn't\", 'shan', \"shan't\", 'shouldn', \"shouldn't\", 'wasn', \"wasn't\", 'weren', \"weren't\",\n",
    "               \"won't\", 'wouldn', \"wouldn't\"]\n",
    "stopwords_list -= set(no_stopwords)\n",
    "    \n",
    "print(f'Final list of stopwords: {len(stopwords_list)}\\n{stopwords_list}')"
   ]
  },
  {
   "cell_type": "code",
   "execution_count": null,
   "id": "3f8630f2",
   "metadata": {},
   "outputs": [],
   "source": [
    "from nltk.stem import WordNetLemmatizer\n",
    "\n",
    "lemmatizer = WordNetLemmatizer()\n",
    "\n",
    "def lemma_stem_text(words_list):\n",
    "    text = [lemmatizer.lemmatize(token.lower()) for token in words_list]# eighties->eight or messages->message or drugs->drug\n",
    "    text = [lemmatizer.lemmatize(token.lower(), \"v\") for token in text]# going-> go or started->start or watching->watch\n",
    "    return text\n",
    "\n",
    "import re\n",
    "re_negation = re.compile(\"n't \")\n",
    "\n",
    "# function that receive a sequence of woords and return the same sequence transforming\n",
    "# abbreviated negations to the standard form.\n",
    "def negation_abbreviated_to_standard(sent):\n",
    "    sent = re_negation.sub(\" not \", sent)\n",
    "    return sent\n",
    "\n",
    "word_example = \"I aren't \"\n",
    "print(f'The sentence \"{word_example}\" is transformed to \"{negation_abbreviated_to_standard(word_example)}\"')\n",
    "\n",
    "# Import function BeautifulSoup to clean text of HTML tags\n",
    "from bs4 import BeautifulSoup \n",
    "\n",
    "def review_to_words(raw_review):\n",
    "    # 1. Remove HTML tags\n",
    "    review_text = BeautifulSoup(raw_review).get_text() \n",
    "    \n",
    "    # 2. Transform abbreviated negations to the standard form.\n",
    "    review_text = negation_abbreviated_to_standard(review_text)\n",
    "    \n",
    "    # 3. Remove non-letters and non-numbers   \n",
    "    letters_numbers_only = re.sub(\"[^a-zA-Z_0-9]\", \" \", review_text) \n",
    "    \n",
    "    # 4. Convert to lower case and split into individual words (tokenization)\n",
    "    words = np.char.lower(letters_numbers_only.split())                             \n",
    "    \n",
    "    # 5. Remove stop words\n",
    "    meaningful_words = [w for w in words if not w in stopwords_list]\n",
    "    # 6. Apply lemmatization function\n",
    "    lemma_words = lemma_stem_text(meaningful_words)\n",
    "    \n",
    "    # 7. Join the words back into one string separated by space, and return the result.\n",
    "    return( \" \".join(lemma_words))"
   ]
  },
  {
   "cell_type": "code",
   "execution_count": null,
   "id": "e726a8cb",
   "metadata": {},
   "outputs": [],
   "source": [
    "def full_preprocessing(sentence):\n",
    "    sentence = negation_abbreviated_to_standard(sentence)\n",
    "    sentence = sentence.lower()\n",
    "    sentence = re.sub(r'[^a-z\\s]', '', sentence)  # remove punctuation\n",
    "    tokens = word_tokenize(sentence)\n",
    "    tokens = [t for t in tokens if t not in stopwords_list]\n",
    "    tokens = [lemmatizer.lemmatize(t, 'v') for t in tokens]\n",
    "    return ' '.join(tokens)"
   ]
  },
  {
   "cell_type": "code",
   "execution_count": 49,
   "id": "d39bd3de",
   "metadata": {},
   "outputs": [],
   "source": [
    "vectorizer = TfidfVectorizer(max_features=5000, ngram_range=(1, 2), stop_words=stopwords_list)\n",
    "tfidf = TfidfVectorizer(ngram_range=(1, 2), max_features=5000)\n",
    "X_train_vec = tfidf.fit_transform(X_train)\n",
    "X_test_vec = tfidf.transform(X_test)"
   ]
  },
  {
   "cell_type": "code",
   "execution_count": 67,
   "id": "6d13f140",
   "metadata": {},
   "outputs": [
    {
     "name": "stdout",
     "output_type": "stream",
     "text": [
      "<Compressed Sparse Row sparse matrix of dtype 'float64'\n",
      "\twith 59663 stored elements and shape (2759, 5000)>\n",
      "  Coords\tValues\n",
      "  (0, 748)\t0.3031556502260262\n",
      "  (0, 4589)\t0.09239708332726698\n",
      "  (0, 3806)\t0.21947716130358047\n",
      "  (0, 3982)\t0.0695557529077918\n",
      "  (0, 2665)\t0.212662556232165\n",
      "  (0, 4720)\t0.14004652941803386\n",
      "  (0, 2192)\t0.16576738366899604\n",
      "  (0, 385)\t0.22422719393859988\n",
      "  (0, 1887)\t0.11765917657193184\n",
      "  (0, 1287)\t0.22257828913832314\n",
      "  (0, 169)\t0.07723380387954898\n",
      "  (0, 3173)\t0.2463320501208727\n",
      "  (0, 3070)\t0.22594940701982177\n",
      "  (0, 2733)\t0.10539954022613643\n",
      "  (0, 415)\t0.03874341492033195\n",
      "  (0, 3199)\t0.0669989928580543\n",
      "  (0, 766)\t0.2296420488621122\n",
      "  (0, 4113)\t0.2605789638537557\n",
      "  (0, 2670)\t0.2919971696920594\n",
      "  (0, 4727)\t0.2919971696920594\n",
      "  (0, 3071)\t0.2564969376794044\n",
      "  (0, 2740)\t0.252804295837114\n",
      "  (0, 750)\t0.2833518264966966\n",
      "  (0, 419)\t0.06800154202890574\n",
      "  (1, 415)\t0.06026775609101705\n",
      "  :\t:\n",
      "  (2757, 3837)\t0.27348031009227436\n",
      "  (2757, 3001)\t0.3909274696395707\n",
      "  (2757, 3055)\t0.37294218544727564\n",
      "  (2757, 397)\t0.37294218544727564\n",
      "  (2757, 527)\t0.4028550516188888\n",
      "  (2758, 748)\t0.17930892208649485\n",
      "  (2758, 4589)\t0.10930108941064323\n",
      "  (2758, 169)\t0.09136369460345785\n",
      "  (2758, 415)\t0.045831505776883816\n",
      "  (2758, 3199)\t0.0792564293708626\n",
      "  (2758, 419)\t0.08044239447512537\n",
      "  (2758, 4704)\t0.21107690109655872\n",
      "  (2758, 4706)\t0.2764837925943654\n",
      "  (2758, 2076)\t0.12394607520394346\n",
      "  (2758, 390)\t0.1784013378591725\n",
      "  (2758, 404)\t0.250113987463406\n",
      "  (2758, 3481)\t0.20811900349221057\n",
      "  (2758, 2941)\t0.22698942574184616\n",
      "  (2758, 4973)\t0.3082517716044293\n",
      "  (2758, 2140)\t0.1821447650094474\n",
      "  (2758, 1686)\t0.2764837925943654\n",
      "  (2758, 1687)\t0.3082517716044293\n",
      "  (2758, 900)\t0.2579007161497813\n",
      "  (2758, 338)\t0.3586028270590773\n",
      "  (2758, 755)\t0.335190919532466\n"
     ]
    }
   ],
   "source": [
    "print(X_train_vec)"
   ]
  },
  {
   "cell_type": "code",
   "execution_count": 50,
   "id": "6b943d4b",
   "metadata": {},
   "outputs": [
    {
     "name": "stdout",
     "output_type": "stream",
     "text": [
      "Logistic Regression\n",
      "              precision    recall  f1-score   support\n",
      "\n",
      "           1       0.91      0.68      0.78       250\n",
      "           0       0.84      0.96      0.90       440\n",
      "\n",
      "    accuracy                           0.86       690\n",
      "   macro avg       0.88      0.82      0.84       690\n",
      "weighted avg       0.87      0.86      0.85       690\n",
      "\n",
      "          Pred_Pos   Pred_Neg\n",
      "True_Pos       169         81\n",
      "True_Neg        16        424\n",
      "Linear SVC\n",
      "              precision    recall  f1-score   support\n",
      "\n",
      "           1       0.82      0.77      0.80       250\n",
      "           0       0.87      0.91      0.89       440\n",
      "\n",
      "    accuracy                           0.86       690\n",
      "   macro avg       0.85      0.84      0.84       690\n",
      "weighted avg       0.86      0.86      0.86       690\n",
      "\n",
      "          Pred_Pos   Pred_Neg\n",
      "True_Pos       192         58\n",
      "True_Neg        41        399\n",
      "Random Forest\n",
      "              precision    recall  f1-score   support\n",
      "\n",
      "           1       0.88      0.64      0.74       250\n",
      "           0       0.82      0.95      0.88       440\n",
      "\n",
      "    accuracy                           0.84       690\n",
      "   macro avg       0.85      0.79      0.81       690\n",
      "weighted avg       0.84      0.84      0.83       690\n",
      "\n",
      "          Pred_Pos   Pred_Neg\n",
      "True_Pos       159         91\n",
      "True_Neg        22        418\n",
      "XGBoost\n",
      "              precision    recall  f1-score   support\n",
      "\n",
      "           1       0.86      0.70      0.78       250\n",
      "           0       0.85      0.94      0.89       440\n",
      "\n",
      "    accuracy                           0.85       690\n",
      "   macro avg       0.86      0.82      0.83       690\n",
      "weighted avg       0.85      0.85      0.85       690\n",
      "\n",
      "          Pred_Pos   Pred_Neg\n",
      "True_Pos       176         74\n",
      "True_Neg        28        412\n"
     ]
    }
   ],
   "source": [
    "tfidf_acc = {}\n",
    "for model_name, model in models.items():\n",
    "    print(model_name)\n",
    "    accuracy = train_and_evaluate(model, X_train_vec, y_train, X_test_vec, y_test)\n",
    "    tfidf_acc[model_name] = accuracy"
   ]
  },
  {
   "cell_type": "code",
   "execution_count": 51,
   "id": "6ae6e25e",
   "metadata": {},
   "outputs": [
    {
     "name": "stdout",
     "output_type": "stream",
     "text": [
      "\n",
      "TF-IDF Results:\n",
      "                     Accuracy\n",
      "Logistic Regression  0.859420\n",
      "Linear SVC           0.856522\n",
      "XGBoost              0.852174\n",
      "Random Forest        0.836232\n"
     ]
    }
   ],
   "source": [
    "results_df = pd.DataFrame.from_dict(tfidf_acc, orient='index', columns=['Accuracy'])\n",
    "results_df = results_df.sort_values(by='Accuracy', ascending=False)\n",
    "print(\"\\nTF-IDF Results:\")\n",
    "print(results_df)"
   ]
  },
  {
   "cell_type": "markdown",
   "id": "52193423",
   "metadata": {},
   "source": [
    "## USE"
   ]
  },
  {
   "cell_type": "code",
   "execution_count": 52,
   "id": "89c9c767",
   "metadata": {},
   "outputs": [],
   "source": [
    "import tensorflow_hub as hub\n",
    "import tensorflow as tf\n",
    "tf.get_logger().setLevel('ERROR')"
   ]
  },
  {
   "cell_type": "code",
   "execution_count": 53,
   "id": "6424019f",
   "metadata": {},
   "outputs": [],
   "source": [
    "embed = hub.load(\"https://tfhub.dev/google/universal-sentence-encoder/4\")\n",
    "\n",
    "X_train_embed = embed(X_train.tolist())\n",
    "X_test_embed = embed(X_test.tolist())\n",
    "\n",
    "X_train_embed = np.array(X_train_embed)\n",
    "X_test_embed = np.array(X_test_embed)"
   ]
  },
  {
   "cell_type": "code",
   "execution_count": 68,
   "id": "b584e048",
   "metadata": {},
   "outputs": [
    {
     "data": {
      "text/plain": [
       "array([[-0.03538578,  0.00533207,  0.06017281, ..., -0.01660433,\n",
       "        -0.03752   , -0.07439679],\n",
       "       [-0.04113818, -0.00696478,  0.03456464, ...,  0.0449823 ,\n",
       "        -0.01838228, -0.04854944],\n",
       "       [ 0.00348582, -0.0195284 ,  0.01915034, ..., -0.01297847,\n",
       "         0.00100415, -0.05648238],\n",
       "       ...,\n",
       "       [-0.01574048, -0.06386025,  0.05289579, ..., -0.06965187,\n",
       "         0.00379794,  0.04191525],\n",
       "       [-0.01759081, -0.03160021,  0.00561048, ..., -0.01674706,\n",
       "        -0.00900945, -0.02825689],\n",
       "       [-0.00920394,  0.04831912,  0.05773228, ..., -0.02189558,\n",
       "        -0.02831505, -0.07536402]], dtype=float32)"
      ]
     },
     "execution_count": 68,
     "metadata": {},
     "output_type": "execute_result"
    }
   ],
   "source": [
    "X_train_embed"
   ]
  },
  {
   "cell_type": "code",
   "execution_count": 54,
   "id": "6137c711",
   "metadata": {},
   "outputs": [
    {
     "name": "stdout",
     "output_type": "stream",
     "text": [
      "Logistic Regression\n",
      "              precision    recall  f1-score   support\n",
      "\n",
      "           1       0.85      0.75      0.80       250\n",
      "           0       0.87      0.93      0.90       440\n",
      "\n",
      "    accuracy                           0.86       690\n",
      "   macro avg       0.86      0.84      0.85       690\n",
      "weighted avg       0.86      0.86      0.86       690\n",
      "\n",
      "          Pred_Pos   Pred_Neg\n",
      "True_Pos       188         62\n",
      "True_Neg        32        408\n",
      "Linear SVC\n",
      "              precision    recall  f1-score   support\n",
      "\n",
      "           1       0.85      0.81      0.83       250\n",
      "           0       0.90      0.92      0.91       440\n",
      "\n",
      "    accuracy                           0.88       690\n",
      "   macro avg       0.87      0.87      0.87       690\n",
      "weighted avg       0.88      0.88      0.88       690\n",
      "\n",
      "          Pred_Pos   Pred_Neg\n",
      "True_Pos       203         47\n",
      "True_Neg        36        404\n",
      "Random Forest\n",
      "              precision    recall  f1-score   support\n",
      "\n",
      "           1       0.88      0.74      0.80       250\n",
      "           0       0.86      0.95      0.90       440\n",
      "\n",
      "    accuracy                           0.87       690\n",
      "   macro avg       0.87      0.84      0.85       690\n",
      "weighted avg       0.87      0.87      0.87       690\n",
      "\n",
      "          Pred_Pos   Pred_Neg\n",
      "True_Pos       184         66\n",
      "True_Neg        24        416\n",
      "XGBoost\n",
      "              precision    recall  f1-score   support\n",
      "\n",
      "           1       0.86      0.78      0.82       250\n",
      "           0       0.88      0.93      0.90       440\n",
      "\n",
      "    accuracy                           0.87       690\n",
      "   macro avg       0.87      0.85      0.86       690\n",
      "weighted avg       0.87      0.87      0.87       690\n",
      "\n",
      "          Pred_Pos   Pred_Neg\n",
      "True_Pos       195         55\n",
      "True_Neg        32        408\n"
     ]
    }
   ],
   "source": [
    "use_acc = {}\n",
    "for model_name, model in models.items():\n",
    "    print(model_name)\n",
    "    accuracy = train_and_evaluate(model, X_train_embed, y_train, X_test_embed, y_test)\n",
    "    use_acc[model_name] = accuracy"
   ]
  },
  {
   "cell_type": "code",
   "execution_count": 55,
   "id": "3a9e4bb1",
   "metadata": {},
   "outputs": [
    {
     "name": "stdout",
     "output_type": "stream",
     "text": [
      "\n",
      "USE Results:\n",
      "                     Accuracy\n",
      "Linear SVC           0.879710\n",
      "XGBoost              0.873913\n",
      "Random Forest        0.869565\n",
      "Logistic Regression  0.863768\n"
     ]
    }
   ],
   "source": [
    "results_df = pd.DataFrame.from_dict(use_acc, orient='index', columns=['Accuracy'])\n",
    "results_df = results_df.sort_values(by='Accuracy', ascending=False)\n",
    "print(\"\\nUSE Results:\")\n",
    "print(results_df)"
   ]
  },
  {
   "cell_type": "markdown",
   "id": "537c4e88",
   "metadata": {},
   "source": [
    "## TF-IDF + USE"
   ]
  },
  {
   "cell_type": "code",
   "execution_count": 56,
   "id": "4d8b67a8",
   "metadata": {},
   "outputs": [],
   "source": [
    "X_train_combined = np.hstack((X_train_vec.toarray(), X_train_embed))\n",
    "X_test_combined = np.hstack((X_test_vec.toarray(), X_test_embed))"
   ]
  },
  {
   "cell_type": "code",
   "execution_count": 57,
   "id": "2ec7d584",
   "metadata": {},
   "outputs": [
    {
     "name": "stdout",
     "output_type": "stream",
     "text": [
      "Logistic Regression\n",
      "              precision    recall  f1-score   support\n",
      "\n",
      "           1       0.88      0.79      0.84       250\n",
      "           0       0.89      0.94      0.91       440\n",
      "\n",
      "    accuracy                           0.89       690\n",
      "   macro avg       0.89      0.87      0.87       690\n",
      "weighted avg       0.89      0.89      0.89       690\n",
      "\n",
      "          Pred_Pos   Pred_Neg\n",
      "True_Pos       198         52\n",
      "True_Neg        26        414\n",
      "Linear SVC\n",
      "              precision    recall  f1-score   support\n",
      "\n",
      "           1       0.84      0.82      0.83       250\n",
      "           0       0.90      0.91      0.91       440\n",
      "\n",
      "    accuracy                           0.88       690\n",
      "   macro avg       0.87      0.87      0.87       690\n",
      "weighted avg       0.88      0.88      0.88       690\n",
      "\n",
      "          Pred_Pos   Pred_Neg\n",
      "True_Pos       205         45\n",
      "True_Neg        39        401\n",
      "Random Forest\n",
      "              precision    recall  f1-score   support\n",
      "\n",
      "           1       0.89      0.70      0.79       250\n",
      "           0       0.85      0.95      0.90       440\n",
      "\n",
      "    accuracy                           0.86       690\n",
      "   macro avg       0.87      0.83      0.84       690\n",
      "weighted avg       0.87      0.86      0.86       690\n",
      "\n",
      "          Pred_Pos   Pred_Neg\n",
      "True_Pos       176         74\n",
      "True_Neg        21        419\n",
      "XGBoost\n",
      "              precision    recall  f1-score   support\n",
      "\n",
      "           1       0.86      0.78      0.82       250\n",
      "           0       0.88      0.93      0.90       440\n",
      "\n",
      "    accuracy                           0.87       690\n",
      "   macro avg       0.87      0.85      0.86       690\n",
      "weighted avg       0.87      0.87      0.87       690\n",
      "\n",
      "          Pred_Pos   Pred_Neg\n",
      "True_Pos       196         54\n",
      "True_Neg        33        407\n"
     ]
    }
   ],
   "source": [
    "combined_acc = {}\n",
    "for model_name, model in models.items():\n",
    "    print(model_name)\n",
    "    accuracy = train_and_evaluate(model, X_train_combined, y_train, X_test_combined, y_test)\n",
    "    combined_acc[model_name] = accuracy"
   ]
  },
  {
   "cell_type": "code",
   "execution_count": 58,
   "id": "f6c72d20",
   "metadata": {},
   "outputs": [
    {
     "name": "stdout",
     "output_type": "stream",
     "text": [
      "\n",
      "USE Results:\n",
      "                     Accuracy\n",
      "Logistic Regression  0.886957\n",
      "Linear SVC           0.878261\n",
      "XGBoost              0.873913\n",
      "Random Forest        0.862319\n"
     ]
    }
   ],
   "source": [
    "results_df = pd.DataFrame.from_dict(combined_acc, orient='index', columns=['Accuracy'])\n",
    "results_df = results_df.sort_values(by='Accuracy', ascending=False)\n",
    "print(\"\\nUSE Results:\")\n",
    "print(results_df)"
   ]
  },
  {
   "cell_type": "markdown",
   "id": "ad45153c",
   "metadata": {},
   "source": [
    "## visualization"
   ]
  },
  {
   "cell_type": "code",
   "execution_count": 59,
   "id": "774b8a35",
   "metadata": {},
   "outputs": [
    {
     "data": {
      "text/plain": [
       "({'Logistic Regression': 0.8594202898550725,\n",
       "  'Linear SVC': 0.8565217391304348,\n",
       "  'Random Forest': 0.836231884057971,\n",
       "  'XGBoost': 0.8521739130434782},\n",
       " {'Logistic Regression': 0.863768115942029,\n",
       "  'Linear SVC': 0.8797101449275362,\n",
       "  'Random Forest': 0.8695652173913043,\n",
       "  'XGBoost': 0.8739130434782608},\n",
       " {'Logistic Regression': 0.8869565217391304,\n",
       "  'Linear SVC': 0.8782608695652174,\n",
       "  'Random Forest': 0.8623188405797102,\n",
       "  'XGBoost': 0.8739130434782608})"
      ]
     },
     "execution_count": 59,
     "metadata": {},
     "output_type": "execute_result"
    }
   ],
   "source": [
    "tfidf_acc, use_acc, combined_acc"
   ]
  },
  {
   "cell_type": "code",
   "execution_count": 60,
   "id": "fb136a02",
   "metadata": {},
   "outputs": [
    {
     "data": {
      "text/plain": [
       "(dict, dict, dict)"
      ]
     },
     "execution_count": 60,
     "metadata": {},
     "output_type": "execute_result"
    }
   ],
   "source": [
    "type(tfidf_acc), type(use_acc), type(combined_acc)"
   ]
  },
  {
   "cell_type": "code",
   "execution_count": 63,
   "id": "9c51b290",
   "metadata": {},
   "outputs": [
    {
     "data": {
      "image/png": "[encoded data removed]",
      "text/plain": [
       "<Figure size 800x300 with 1 Axes>"
      ]
     },
     "metadata": {},
     "output_type": "display_data"
    }
   ],
   "source": [
    "import matplotlib.pyplot as plt\n",
    "\n",
    "classifiers = list(models.keys())\n",
    "tfidf_values = list(tfidf_acc.values())\n",
    "use_values = list(use_acc.values())\n",
    "combined_values = list(combined_acc.values())\n",
    "\n",
    "x = np.arange(len(classifiers))\n",
    "\n",
    "bar_width = 0.25\n",
    "plt.figure(figsize=(8, 3))\n",
    "plt.bar(x - bar_width, tfidf_values, bar_width, label='TF-IDF', color='orange')\n",
    "plt.bar(x, use_values, bar_width, label='USE', color='purple')\n",
    "plt.bar(x + bar_width, combined_values, bar_width, label='TF-IDF+USE', color='red')\n",
    "\n",
    "plt.xlabel('Classifiers')\n",
    "plt.ylabel('Accuracy')\n",
    "plt.title('Classifier Accuracies with Different Embeddings')\n",
    "plt.xticks(x, classifiers)\n",
    "plt.ylim(0, 1.0)\n",
    "plt.legend()\n",
    "\n",
    "# Add accuracy values on top of the bars\n",
    "for i in range(len(classifiers)):\n",
    "    plt.text(x[i] - bar_width, tfidf_values[i] + 0.02, f\"{tfidf_values[i]:.2f}\", ha='center')\n",
    "    plt.text(x[i], use_values[i] + 0.02, f\"{use_values[i]:.2f}\", ha='center')\n",
    "    plt.text(x[i] + bar_width, combined_values[i] + 0.02, f\"{combined_values[i]:.2f}\", ha='center')\n",
    "\n",
    "\n",
    "# Display the plot\n",
    "plt.tight_layout()\n",
    "plt.show()"
   ]
  },
  {
   "cell_type": "code",
   "execution_count": null,
   "id": "1b6c93d4",
   "metadata": {},
   "outputs": [
    {
     "name": "stdout",
     "output_type": "stream",
     "text": [
      "\n",
      "Final Results:\n",
      "                     TF-IDF Accuracy  USE Accuracy  Combined Accuracy\n",
      "Logistic Regression         0.859420      0.863768           0.886957\n",
      "Linear SVC                  0.856522      0.879710           0.878261\n",
      "Random Forest               0.836232      0.869565           0.862319\n",
      "XGBoost                     0.852174      0.873913           0.873913\n"
     ]
    }
   ],
   "source": [
    "# use_acc = use_acc.to_dict()\n",
    "# combined_acc = combined_acc.to_dict()\n",
    "# tdif_acc, use_acc, combined_acc = pd.DataFrame.from_dict(tfidf_acc, orient='index', columns=['Accuracy']), pd.DataFrame.from_dict(use_acc, orient='index', columns=['Accuracy']), pd.DataFrame.from_dict(combined_acc, orient='index', columns=['Accuracy'])\n",
    "# results_df = pd.concat([tdif_acc, use_acc, combined_acc], axis=1)\n",
    "# results_df.columns = ['TF-IDF Accuracy', 'USE Accuracy', 'Combined Accuracy']\n",
    "# print(\"\\nFinal Results:\")\n",
    "# print(results_df)"
   ]
  },
  {
   "cell_type": "markdown",
   "id": "a19029e1",
   "metadata": {},
   "source": [
    "# DL"
   ]
  },
  {
   "cell_type": "code",
   "execution_count": null,
   "id": "5d03e24d",
   "metadata": {},
   "outputs": [],
   "source": []
  }
 ],
 "metadata": {
  "kernelspec": {
   "display_name": "Python 3",
   "language": "python",
   "name": "python3"
  },
  "language_info": {
   "codemirror_mode": {
    "name": "ipython",
    "version": 3
   },
   "file_extension": ".py",
   "mimetype": "text/x-python",
   "name": "python",
   "nbconvert_exporter": "python",
   "pygments_lexer": "ipython3",
   "version": "3.10.0"
  }
 },
 "nbformat": 4,
 "nbformat_minor": 5
}
