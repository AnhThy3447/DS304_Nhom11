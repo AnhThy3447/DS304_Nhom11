{
 "cells": [
  {
   "cell_type": "markdown",
   "id": "79e00f1d",
   "metadata": {},
   "source": [
    "# Importing Required Libraries"
   ]
  },
  {
   "cell_type": "code",
   "execution_count": null,
   "id": "8ec484b3",
   "metadata": {},
   "outputs": [
    {
     "name": "stderr",
     "output_type": "stream",
     "text": [
      "c:\\Users\\DELL\\AppData\\Local\\Programs\\Python\\Python312\\Lib\\site-packages\\tensorflow_hub\\__init__.py:61: UserWarning: pkg_resources is deprecated as an API. See https://setuptools.pypa.io/en/latest/pkg_resources.html. The pkg_resources package is slated for removal as early as 2025-11-30. Refrain from using this package or pin to Setuptools<81.\n",
      "  from pkg_resources import parse_version\n"
     ]
    },
    {
     "name": "stdout",
     "output_type": "stream",
     "text": [
      "WARNING:tensorflow:From c:\\Users\\DELL\\AppData\\Local\\Programs\\Python\\Python312\\Lib\\site-packages\\tf_keras\\src\\losses.py:2976: The name tf.losses.sparse_softmax_cross_entropy is deprecated. Please use tf.compat.v1.losses.sparse_softmax_cross_entropy instead.\n",
      "\n"
     ]
    }
   ],
   "source": [
    "import pandas as pd\n",
    "import numpy as np\n",
    "import seaborn as sns\n",
    "import matplotlib.pyplot as plt\n",
    "\n",
    "# Embedding\n",
    "from sklearn.feature_extraction.text import TfidfVectorizer\n",
    "from sklearn.feature_extraction.text import ENGLISH_STOP_WORDS\n",
    "from gensim.models import KeyedVectors\n",
    "import tensorflow_hub as hub\n",
    "\n",
    "# Modeling\n",
    "from sklearn.linear_model import LogisticRegression\n",
    "from sklearn.ensemble import RandomForestClassifier\n",
    "from sklearn.svm import LinearSVC\n",
    "from xgboost import XGBClassifier\n",
    "from sklearn.model_selection import KFold\n",
    "from sklearn.metrics import confusion_matrix, f1_score, recall_score, precision_score, multilabel_confusion_matrix\n",
    "from sklearn.model_selection import train_test_split\n",
    "from scipy import stats\n",
    "from statsmodels.stats.multicomp import pairwise_tukeyhsd"
   ]
  },
  {
   "cell_type": "markdown",
   "id": "621fd21b",
   "metadata": {},
   "source": [
    "# Data Loading and Data Analysis"
   ]
  },
  {
   "cell_type": "code",
   "execution_count": 2,
   "id": "2ecd978b",
   "metadata": {},
   "outputs": [
    {
     "data": {
      "text/html": [
       "<div>\n",
       "<style scoped>\n",
       "    .dataframe tbody tr th:only-of-type {\n",
       "        vertical-align: middle;\n",
       "    }\n",
       "\n",
       "    .dataframe tbody tr th {\n",
       "        vertical-align: top;\n",
       "    }\n",
       "\n",
       "    .dataframe thead th {\n",
       "        text-align: right;\n",
       "    }\n",
       "</style>\n",
       "<table border=\"1\" class=\"dataframe\">\n",
       "  <thead>\n",
       "    <tr style=\"text-align: right;\">\n",
       "      <th></th>\n",
       "      <th>id</th>\n",
       "      <th>sentence</th>\n",
       "      <th>price</th>\n",
       "      <th>quality</th>\n",
       "      <th>environment</th>\n",
       "      <th>service</th>\n",
       "      <th>other</th>\n",
       "    </tr>\n",
       "  </thead>\n",
       "  <tbody>\n",
       "    <tr>\n",
       "      <th>0</th>\n",
       "      <td>1</td>\n",
       "      <td>i ordered egg soft noodles from here they did ...</td>\n",
       "      <td>NaN</td>\n",
       "      <td>Negative</td>\n",
       "      <td>NaN</td>\n",
       "      <td>Negative</td>\n",
       "      <td>NaN</td>\n",
       "    </tr>\n",
       "    <tr>\n",
       "      <th>1</th>\n",
       "      <td>2</td>\n",
       "      <td>ice cream was good but it is totally got melt ...</td>\n",
       "      <td>NaN</td>\n",
       "      <td>Positive</td>\n",
       "      <td>NaN</td>\n",
       "      <td>Negative</td>\n",
       "      <td>NaN</td>\n",
       "    </tr>\n",
       "    <tr>\n",
       "      <th>2</th>\n",
       "      <td>2</td>\n",
       "      <td>he mentioned it as delivered as soon as he pic...</td>\n",
       "      <td>NaN</td>\n",
       "      <td>NaN</td>\n",
       "      <td>NaN</td>\n",
       "      <td>Negative</td>\n",
       "      <td>NaN</td>\n",
       "    </tr>\n",
       "    <tr>\n",
       "      <th>3</th>\n",
       "      <td>2</td>\n",
       "      <td>he took nearly forty five minutes to come</td>\n",
       "      <td>NaN</td>\n",
       "      <td>NaN</td>\n",
       "      <td>NaN</td>\n",
       "      <td>Negative</td>\n",
       "      <td>NaN</td>\n",
       "    </tr>\n",
       "    <tr>\n",
       "      <th>4</th>\n",
       "      <td>3</td>\n",
       "      <td>food was not good its from yesterdays food wit...</td>\n",
       "      <td>NaN</td>\n",
       "      <td>Negative</td>\n",
       "      <td>NaN</td>\n",
       "      <td>Negative</td>\n",
       "      <td>NaN</td>\n",
       "    </tr>\n",
       "  </tbody>\n",
       "</table>\n",
       "</div>"
      ],
      "text/plain": [
       "   id                                           sentence price   quality  \\\n",
       "0   1  i ordered egg soft noodles from here they did ...   NaN  Negative   \n",
       "1   2  ice cream was good but it is totally got melt ...   NaN  Positive   \n",
       "2   2  he mentioned it as delivered as soon as he pic...   NaN       NaN   \n",
       "3   2          he took nearly forty five minutes to come   NaN       NaN   \n",
       "4   3  food was not good its from yesterdays food wit...   NaN  Negative   \n",
       "\n",
       "  environment   service other  \n",
       "0         NaN  Negative   NaN  \n",
       "1         NaN  Negative   NaN  \n",
       "2         NaN  Negative   NaN  \n",
       "3         NaN  Negative   NaN  \n",
       "4         NaN  Negative   NaN  "
      ]
     },
     "execution_count": 2,
     "metadata": {},
     "output_type": "execute_result"
    }
   ],
   "source": [
    "df = pd.read_csv(r'Data\\data_after_preprocessing.csv')\n",
    "df.head()"
   ]
  },
  {
   "cell_type": "code",
   "execution_count": 3,
   "id": "91208bf3",
   "metadata": {},
   "outputs": [
    {
     "name": "stdout",
     "output_type": "stream",
     "text": [
      "<class 'pandas.core.frame.DataFrame'>\n",
      "RangeIndex: 5288 entries, 0 to 5287\n",
      "Data columns (total 7 columns):\n",
      " #   Column       Non-Null Count  Dtype \n",
      "---  ------       --------------  ----- \n",
      " 0   id           5288 non-null   int64 \n",
      " 1   sentence     5288 non-null   object\n",
      " 2   price        207 non-null    object\n",
      " 3   quality      2244 non-null   object\n",
      " 4   environment  590 non-null    object\n",
      " 5   service      1187 non-null   object\n",
      " 6   other        535 non-null    object\n",
      "dtypes: int64(1), object(6)\n",
      "memory usage: 289.3+ KB\n"
     ]
    }
   ],
   "source": [
    "df.info()"
   ]
  },
  {
   "cell_type": "markdown",
   "id": "bc254681",
   "metadata": {},
   "source": [
    "### Prepare data\n",
    "Đối với đầu vào X, ta sử dụng các câu mà có ít nhất một khía cạnh được nhận diện, để mô hình có thể dự đoán cảm xúc đối với khía cạnh đó."
   ]
  },
  {
   "cell_type": "code",
   "execution_count": 4,
   "id": "8118bb5e",
   "metadata": {},
   "outputs": [
    {
     "data": {
      "text/html": [
       "<div>\n",
       "<style scoped>\n",
       "    .dataframe tbody tr th:only-of-type {\n",
       "        vertical-align: middle;\n",
       "    }\n",
       "\n",
       "    .dataframe tbody tr th {\n",
       "        vertical-align: top;\n",
       "    }\n",
       "\n",
       "    .dataframe thead th {\n",
       "        text-align: right;\n",
       "    }\n",
       "</style>\n",
       "<table border=\"1\" class=\"dataframe\">\n",
       "  <thead>\n",
       "    <tr style=\"text-align: right;\">\n",
       "      <th></th>\n",
       "      <th>sentence</th>\n",
       "      <th>sentiment</th>\n",
       "    </tr>\n",
       "  </thead>\n",
       "  <tbody>\n",
       "    <tr>\n",
       "      <th>0</th>\n",
       "      <td>i ordered egg soft noodles from here they did ...</td>\n",
       "      <td>Negative</td>\n",
       "    </tr>\n",
       "    <tr>\n",
       "      <th>1</th>\n",
       "      <td>i ordered egg soft noodles from here they did ...</td>\n",
       "      <td>Negative</td>\n",
       "    </tr>\n",
       "    <tr>\n",
       "      <th>2</th>\n",
       "      <td>ice cream was good but it is totally got melt ...</td>\n",
       "      <td>Positive</td>\n",
       "    </tr>\n",
       "    <tr>\n",
       "      <th>3</th>\n",
       "      <td>ice cream was good but it is totally got melt ...</td>\n",
       "      <td>Negative</td>\n",
       "    </tr>\n",
       "    <tr>\n",
       "      <th>4</th>\n",
       "      <td>he mentioned it as delivered as soon as he pic...</td>\n",
       "      <td>Negative</td>\n",
       "    </tr>\n",
       "  </tbody>\n",
       "</table>\n",
       "</div>"
      ],
      "text/plain": [
       "                                            sentence sentiment\n",
       "0  i ordered egg soft noodles from here they did ...  Negative\n",
       "1  i ordered egg soft noodles from here they did ...  Negative\n",
       "2  ice cream was good but it is totally got melt ...  Positive\n",
       "3  ice cream was good but it is totally got melt ...  Negative\n",
       "4  he mentioned it as delivered as soon as he pic...  Negative"
      ]
     },
     "execution_count": 4,
     "metadata": {},
     "output_type": "execute_result"
    }
   ],
   "source": [
    "aspects = ['price', 'quality', 'environment', 'service', 'other']\n",
    "\n",
    "records = []\n",
    "for idx, row in df.iterrows():\n",
    "    for aspect in aspects:\n",
    "        if pd.notna(row[aspect]):\n",
    "            records.append({\n",
    "                'sentence': row['sentence'] + ' [ASP] ' + aspect,\n",
    "                'sentiment': row[aspect]\n",
    "            })\n",
    "df_sentiment = pd.DataFrame(records)\n",
    "df_sentiment.head()"
   ]
  },
  {
   "cell_type": "code",
   "execution_count": 5,
   "id": "7acbc8d5",
   "metadata": {},
   "outputs": [
    {
     "data": {
      "text/plain": [
       "0       i ordered egg soft noodles from here they did ...\n",
       "1       i ordered egg soft noodles from here they did ...\n",
       "2       ice cream was good but it is totally got melt ...\n",
       "3       ice cream was good but it is totally got melt ...\n",
       "4       he mentioned it as delivered as soon as he pic...\n",
       "                              ...                        \n",
       "4758    my overall experience was amazing chef but mes...\n",
       "4759    i would like to mention that every staff membe...\n",
       "4760                loved their hospitality [ASP] service\n",
       "4761    i would definitely recommend this place to hav...\n",
       "4762    i would definitely recommend this place to hav...\n",
       "Name: sentence, Length: 4763, dtype: object"
      ]
     },
     "execution_count": 5,
     "metadata": {},
     "output_type": "execute_result"
    }
   ],
   "source": [
    "X = df_sentiment['sentence']\n",
    "y = df_sentiment['sentiment'].map({'Positive': 1, 'Negative': 0, 'Neutral': 2})\n",
    "X"
   ]
  },
  {
   "cell_type": "markdown",
   "id": "ca52df6c",
   "metadata": {},
   "source": [
    "Dữ liệu đầu vào của hai bài toán Aspect Recognition và ABSA có sự khác biệt:\n",
    "\n",
    "- Aspect Recognition sử dụng 5.288 dòng dữ liệu, mỗi dòng là một câu bình luận hoàn chỉnh nhằm xác định các khía cạnh được đề cập trong câu.\n",
    "\n",
    "- ABSA (Aspect-Based Sentiment Analysis) sử dụng 4.761 dòng, trong đó mỗi dòng là sự kết hợp giữa câu bình luận và một khía cạnh cụ thể, phục vụ cho việc dự đoán cảm xúc tương ứng với khía cạnh đó."
   ]
  },
  {
   "cell_type": "markdown",
   "id": "fd391478",
   "metadata": {},
   "source": [
    "### Data Analysis"
   ]
  },
  {
   "cell_type": "code",
   "execution_count": 6,
   "id": "458f0f18",
   "metadata": {},
   "outputs": [
    {
     "data": {
      "text/plain": [
       "sentiment\n",
       "Negative    2471\n",
       "Positive    2018\n",
       "Neutral      274\n",
       "Name: count, dtype: int64"
      ]
     },
     "execution_count": 6,
     "metadata": {},
     "output_type": "execute_result"
    }
   ],
   "source": [
    "df_sentiment['sentiment'].value_counts()"
   ]
  },
  {
   "cell_type": "code",
   "execution_count": null,
   "id": "f76e0b48",
   "metadata": {},
   "outputs": [
    {
     "data": {
      "text/plain": [
       "<Axes: ylabel='count'>"
      ]
     },
     "execution_count": 7,
     "metadata": {},
     "output_type": "execute_result"
    },
    {
     "data": {
      "image/png": "[encoded data removed]",
      "text/plain": [
       "<Figure size 500x500 with 1 Axes>"
      ]
     },
     "metadata": {},
     "output_type": "display_data"
    }
   ],
   "source": [
    "colors = ['#99FF99', '#66B3FF', '#FFCC99']\n",
    "df_sentiment['sentiment'].value_counts().plot(\n",
    "    kind='pie',\n",
    "    autopct='%1.1f%%',\n",
    "    figsize=(5, 5),\n",
    "    colors=colors \n",
    ")"
   ]
  },
  {
   "cell_type": "code",
   "execution_count": 8,
   "id": "066914ab",
   "metadata": {},
   "outputs": [],
   "source": [
    "records = []\n",
    "for idx, row in df.iterrows():\n",
    "    for aspect in aspects:\n",
    "        if pd.notna(row[aspect]):\n",
    "            records.append({\n",
    "                'sentence': row['sentence'],\n",
    "                'aspect': aspect,\n",
    "                'sentiment': row[aspect]\n",
    "            })\n",
    "aspect_sentiment = pd.DataFrame(records)"
   ]
  },
  {
   "cell_type": "code",
   "execution_count": 9,
   "id": "5a6f1eea",
   "metadata": {},
   "outputs": [
    {
     "data": {
      "image/png": "[encoded data removed]",
      "text/plain": [
       "<Figure size 700x300 with 1 Axes>"
      ]
     },
     "metadata": {},
     "output_type": "display_data"
    }
   ],
   "source": [
    "sentiment_counts = aspect_sentiment.groupby(['aspect', 'sentiment']).size().reset_index(name='count')\n",
    "\n",
    "pivot_df = sentiment_counts.pivot(index='aspect', columns='sentiment', values='count').fillna(0).astype(int)\n",
    "\n",
    "sentiments = ['Positive', 'Negative', 'Neutral']\n",
    "colors = ['#66B3FF', '#99FF99', '#FFCC99'] \n",
    "labels = ['Negative', 'Neutral', 'Positive']\n",
    "\n",
    "# Sắp xếp aspect theo aspect_cols\n",
    "pivot_df = pivot_df.reindex(aspects)\n",
    "pivot_df = pivot_df[sentiments]\n",
    "pivot_df.plot(kind='bar', figsize=(7, 3), color=colors)\n",
    "\n",
    "plt.xlabel(\"Aspect\")\n",
    "plt.ylabel(\"Count\")\n",
    "plt.legend(labels, title=\"Sentiment\")\n",
    "plt.xticks(rotation=0)\n",
    "plt.tight_layout()\n",
    "plt.show()"
   ]
  },
  {
   "cell_type": "markdown",
   "id": "a13be5c3",
   "metadata": {},
   "source": [
    "# Embedding"
   ]
  },
  {
   "cell_type": "markdown",
   "id": "89525105",
   "metadata": {},
   "source": [
    "### TF-IDF"
   ]
  },
  {
   "cell_type": "code",
   "execution_count": 10,
   "id": "b70b7d42",
   "metadata": {},
   "outputs": [],
   "source": [
    "keep_words = [\n",
    "    # Negative words\n",
    "    'not', 'no', 'none', 'never', 'nothing', 'nobody', 'nowhere', 'neither', 'without',\n",
    "    'cannot', 'cant', 'couldnt', 'hasnt', 'nor',\n",
    "\n",
    "    # Adjective/Adverb\n",
    "    'well', 'interest',\n",
    "\n",
    "    # Numerous\n",
    "    'one', 'two', 'three', 'four', 'five', 'six', 'eight', 'nine', 'ten',\n",
    "    'eleven', 'twelve', 'fifteen', 'twenty', 'forty', 'fifty', 'sixty',\n",
    "    'hundred'\n",
    "]\n",
    "custom_stopwords = list(ENGLISH_STOP_WORDS.difference(keep_words))"
   ]
  },
  {
   "cell_type": "code",
   "execution_count": 11,
   "id": "c3ed913f",
   "metadata": {},
   "outputs": [],
   "source": [
    "vectorizer = TfidfVectorizer(max_features=3000, stop_words=custom_stopwords)\n",
    "\n",
    "def fit_tfidf(X_train_text):\n",
    "    vectorizer.fit(X_train_text)\n",
    "\n",
    "def transform_tfidf(X_text):\n",
    "    return vectorizer.transform(X_text).toarray()"
   ]
  },
  {
   "cell_type": "markdown",
   "id": "4cc33b2b",
   "metadata": {},
   "source": [
    "### USE"
   ]
  },
  {
   "cell_type": "code",
   "execution_count": 12,
   "id": "41e3f838",
   "metadata": {},
   "outputs": [
    {
     "name": "stdout",
     "output_type": "stream",
     "text": [
      "WARNING:tensorflow:From c:\\Users\\DELL\\AppData\\Local\\Programs\\Python\\Python312\\Lib\\site-packages\\tensorflow_hub\\resolver.py:120: The name tf.gfile.MakeDirs is deprecated. Please use tf.io.gfile.makedirs instead.\n",
      "\n"
     ]
    },
    {
     "name": "stderr",
     "output_type": "stream",
     "text": [
      "WARNING:tensorflow:From c:\\Users\\DELL\\AppData\\Local\\Programs\\Python\\Python312\\Lib\\site-packages\\tensorflow_hub\\resolver.py:120: The name tf.gfile.MakeDirs is deprecated. Please use tf.io.gfile.makedirs instead.\n",
      "\n"
     ]
    },
    {
     "name": "stdout",
     "output_type": "stream",
     "text": [
      "WARNING:tensorflow:From c:\\Users\\DELL\\AppData\\Local\\Programs\\Python\\Python312\\Lib\\site-packages\\tensorflow_hub\\module_v2.py:126: The name tf.saved_model.load_v2 is deprecated. Please use tf.compat.v2.saved_model.load instead.\n",
      "\n"
     ]
    },
    {
     "name": "stderr",
     "output_type": "stream",
     "text": [
      "WARNING:tensorflow:From c:\\Users\\DELL\\AppData\\Local\\Programs\\Python\\Python312\\Lib\\site-packages\\tensorflow_hub\\module_v2.py:126: The name tf.saved_model.load_v2 is deprecated. Please use tf.compat.v2.saved_model.load instead.\n",
      "\n"
     ]
    },
    {
     "name": "stdout",
     "output_type": "stream",
     "text": [
      "module https://tfhub.dev/google/universal-sentence-encoder/4 loaded\n"
     ]
    }
   ],
   "source": [
    "module_url = \"https://tfhub.dev/google/universal-sentence-encoder/4\" #@param [\"https://tfhub.dev/google/universal-sentence-encoder/4\", \"https://tfhub.dev/google/universal-sentence-encoder-large/5\"]\n",
    "use_model = hub.load(module_url)\n",
    "print (\"module %s loaded\" % module_url)\n",
    "def embed_USE(input):\n",
    "    return np.array(use_model(input))"
   ]
  },
  {
   "cell_type": "markdown",
   "id": "26c0cd66",
   "metadata": {},
   "source": [
    "### FastText"
   ]
  },
  {
   "cell_type": "code",
   "execution_count": 13,
   "id": "c9ee2b57",
   "metadata": {},
   "outputs": [],
   "source": [
    "fastText_model = KeyedVectors.load_word2vec_format(\"wiki-news-300d-1M.vec\", binary=False)"
   ]
  },
  {
   "cell_type": "code",
   "execution_count": 14,
   "id": "51ef2885",
   "metadata": {},
   "outputs": [],
   "source": [
    "def sentence_to_vector(sentence):\n",
    "    words = sentence.split()\n",
    "    filtered_words = [w for w in words if w not in custom_stopwords]\n",
    "    word_vectors = [fastText_model[w] for w in filtered_words if w in fastText_model]\n",
    "    if not word_vectors:\n",
    "        return np.zeros(fastText_model.vector_size)\n",
    "    return np.mean(word_vectors, axis=0)"
   ]
  },
  {
   "cell_type": "code",
   "execution_count": 15,
   "id": "1855f780",
   "metadata": {},
   "outputs": [],
   "source": [
    "def embed_fastText(input):\n",
    "    vectors = input.apply(sentence_to_vector)\n",
    "    return np.vstack(vectors.values)"
   ]
  },
  {
   "cell_type": "markdown",
   "id": "8be0a2e2",
   "metadata": {},
   "source": [
    "# Define models"
   ]
  },
  {
   "cell_type": "code",
   "execution_count": 16,
   "id": "53a056c0",
   "metadata": {},
   "outputs": [],
   "source": [
    "models = {\n",
    "      \"Logistic Regression\": LogisticRegression(max_iter=1000, class_weight='balanced'),\n",
    "      \"Random Forest\": RandomForestClassifier(n_estimators=100, random_state=42, n_jobs=-1),\n",
    "      \"SVC\": LinearSVC(max_iter=1000, random_state=42),\n",
    "      \"XGBoost\": XGBClassifier(use_label_encoder=False, eval_metric=\"logloss\", verbosity=0)\n",
    "}"
   ]
  },
  {
   "cell_type": "code",
   "execution_count": 17,
   "id": "2f34fe7c",
   "metadata": {},
   "outputs": [],
   "source": [
    "def train_and_evaluate(model, X_train, y_train, X_test, y_test):\n",
    "    model.fit(X_train, y_train)\n",
    "    y_pred = model.predict(X_test)\n",
    "\n",
    "    recall, precision, f1 = (\n",
    "        recall_score(y_test, y_pred, average='weighted', zero_division=0),\n",
    "        precision_score(y_test, y_pred, average='weighted', zero_division=0),\n",
    "        f1_score(y_test, y_pred, average='weighted', zero_division=0)\n",
    "    )\n",
    "    return recall, precision, f1, y_test, y_pred"
   ]
  },
  {
   "cell_type": "code",
   "execution_count": 18,
   "id": "e829bd23",
   "metadata": {},
   "outputs": [],
   "source": [
    "def experiment_with_kfold(X, y, embedding, model):\n",
    "  kf = KFold(n_splits=5, shuffle=True)\n",
    "  recalls, precisions, f1s = [], [], []\n",
    "\n",
    "  for fold, (train_idx, test_idx) in enumerate(kf.split(X), 1):\n",
    "    X_train, X_test = X.iloc[train_idx], X.iloc[test_idx]\n",
    "    y_train, y_test = y.iloc[train_idx], y.iloc[test_idx]\n",
    "\n",
    "    if embedding == 'TF-IDF':\n",
    "      fit_tfidf(X_train)\n",
    "      X_train = transform_tfidf(X_train)\n",
    "      X_test = transform_tfidf(X_test)\n",
    "\n",
    "    if embedding == 'USE':\n",
    "      X_train, X_test = embed_USE(X_train), embed_USE(X_test)\n",
    "\n",
    "    if embedding == 'FAST_TEXT':\n",
    "      X_train, X_test = embed_fastText(X_train), embed_fastText(X_test)\n",
    "\n",
    "    recall, precision, f1, _, _ = train_and_evaluate(model, X_train, y_train, X_test, y_test)\n",
    "    recalls.append(recall)\n",
    "    precisions.append(precision)\n",
    "    f1s.append(f1)\n",
    "\n",
    "  return recalls, precisions, f1s"
   ]
  },
  {
   "cell_type": "markdown",
   "id": "8d1aef4f",
   "metadata": {},
   "source": [
    "## Experiment"
   ]
  },
  {
   "cell_type": "code",
   "execution_count": 55,
   "id": "566eb849",
   "metadata": {},
   "outputs": [],
   "source": [
    "base_model = models['Logistic Regression']\n",
    "Tfidf = experiment_with_kfold(X, y, 'TF-IDF', base_model)\n",
    "use = experiment_with_kfold(X, y, 'USE', base_model)\n",
    "fastText = experiment_with_kfold(X, y, 'FAST_TEXT', base_model)"
   ]
  },
  {
   "cell_type": "code",
   "execution_count": 56,
   "id": "2365b2cb",
   "metadata": {},
   "outputs": [
    {
     "data": {
      "text/html": [
       "<style type=\"text/css\">\n",
       "#T_0a821_row0_col0, #T_0a821_row0_col2, #T_0a821_row2_col1 {\n",
       "  background-color: lightgreen;\n",
       "}\n",
       "</style>\n",
       "<table id=\"T_0a821\">\n",
       "  <thead>\n",
       "    <tr>\n",
       "      <th class=\"blank level0\" >&nbsp;</th>\n",
       "      <th id=\"T_0a821_level0_col0\" class=\"col_heading level0 col0\" >Recall</th>\n",
       "      <th id=\"T_0a821_level0_col1\" class=\"col_heading level0 col1\" >Precision</th>\n",
       "      <th id=\"T_0a821_level0_col2\" class=\"col_heading level0 col2\" >F1 Score</th>\n",
       "    </tr>\n",
       "  </thead>\n",
       "  <tbody>\n",
       "    <tr>\n",
       "      <th id=\"T_0a821_level0_row0\" class=\"row_heading level0 row0\" >Fold 1</th>\n",
       "      <td id=\"T_0a821_row0_col0\" class=\"data row0 col0\" >0.783841</td>\n",
       "      <td id=\"T_0a821_row0_col1\" class=\"data row0 col1\" >0.807026</td>\n",
       "      <td id=\"T_0a821_row0_col2\" class=\"data row0 col2\" >0.793954</td>\n",
       "    </tr>\n",
       "    <tr>\n",
       "      <th id=\"T_0a821_level0_row1\" class=\"row_heading level0 row1\" >Fold 2</th>\n",
       "      <td id=\"T_0a821_row1_col0\" class=\"data row1 col0\" >0.761805</td>\n",
       "      <td id=\"T_0a821_row1_col1\" class=\"data row1 col1\" >0.789433</td>\n",
       "      <td id=\"T_0a821_row1_col2\" class=\"data row1 col2\" >0.773091</td>\n",
       "    </tr>\n",
       "    <tr>\n",
       "      <th id=\"T_0a821_level0_row2\" class=\"row_heading level0 row2\" >Fold 3</th>\n",
       "      <td id=\"T_0a821_row2_col0\" class=\"data row2 col0\" >0.767051</td>\n",
       "      <td id=\"T_0a821_row2_col1\" class=\"data row2 col1\" >0.811971</td>\n",
       "      <td id=\"T_0a821_row2_col2\" class=\"data row2 col2\" >0.785418</td>\n",
       "    </tr>\n",
       "    <tr>\n",
       "      <th id=\"T_0a821_level0_row3\" class=\"row_heading level0 row3\" >Fold 4</th>\n",
       "      <td id=\"T_0a821_row3_col0\" class=\"data row3 col0\" >0.765756</td>\n",
       "      <td id=\"T_0a821_row3_col1\" class=\"data row3 col1\" >0.802742</td>\n",
       "      <td id=\"T_0a821_row3_col2\" class=\"data row3 col2\" >0.780748</td>\n",
       "    </tr>\n",
       "    <tr>\n",
       "      <th id=\"T_0a821_level0_row4\" class=\"row_heading level0 row4\" >Fold 5</th>\n",
       "      <td id=\"T_0a821_row4_col0\" class=\"data row4 col0\" >0.775210</td>\n",
       "      <td id=\"T_0a821_row4_col1\" class=\"data row4 col1\" >0.805140</td>\n",
       "      <td id=\"T_0a821_row4_col2\" class=\"data row4 col2\" >0.787514</td>\n",
       "    </tr>\n",
       "  </tbody>\n",
       "</table>\n"
      ],
      "text/plain": [
       "<pandas.io.formats.style.Styler at 0x12f2fe894f0>"
      ]
     },
     "execution_count": 56,
     "metadata": {},
     "output_type": "execute_result"
    }
   ],
   "source": [
    "results_Tfidf = (pd.DataFrame(Tfidf)).T\n",
    "results_Tfidf.index = ['Fold 1', 'Fold 2', 'Fold 3', 'Fold 4', 'Fold 5']\n",
    "results_Tfidf.columns = ['Recall', 'Precision', 'F1 Score']\n",
    "results_Tfidf.style.highlight_max(axis=0, color='lightgreen')"
   ]
  },
  {
   "cell_type": "code",
   "execution_count": 57,
   "id": "b49eacfa",
   "metadata": {},
   "outputs": [
    {
     "data": {
      "text/html": [
       "<style type=\"text/css\">\n",
       "#T_88e68_row4_col0, #T_88e68_row4_col1, #T_88e68_row4_col2 {\n",
       "  background-color: lightgreen;\n",
       "}\n",
       "</style>\n",
       "<table id=\"T_88e68\">\n",
       "  <thead>\n",
       "    <tr>\n",
       "      <th class=\"blank level0\" >&nbsp;</th>\n",
       "      <th id=\"T_88e68_level0_col0\" class=\"col_heading level0 col0\" >Recall</th>\n",
       "      <th id=\"T_88e68_level0_col1\" class=\"col_heading level0 col1\" >Precision</th>\n",
       "      <th id=\"T_88e68_level0_col2\" class=\"col_heading level0 col2\" >F1 Score</th>\n",
       "    </tr>\n",
       "  </thead>\n",
       "  <tbody>\n",
       "    <tr>\n",
       "      <th id=\"T_88e68_level0_row0\" class=\"row_heading level0 row0\" >Fold 1</th>\n",
       "      <td id=\"T_88e68_row0_col0\" class=\"data row0 col0\" >0.761805</td>\n",
       "      <td id=\"T_88e68_row0_col1\" class=\"data row0 col1\" >0.838906</td>\n",
       "      <td id=\"T_88e68_row0_col2\" class=\"data row0 col2\" >0.791282</td>\n",
       "    </tr>\n",
       "    <tr>\n",
       "      <th id=\"T_88e68_level0_row1\" class=\"row_heading level0 row1\" >Fold 2</th>\n",
       "      <td id=\"T_88e68_row1_col0\" class=\"data row1 col0\" >0.763903</td>\n",
       "      <td id=\"T_88e68_row1_col1\" class=\"data row1 col1\" >0.811423</td>\n",
       "      <td id=\"T_88e68_row1_col2\" class=\"data row1 col2\" >0.782737</td>\n",
       "    </tr>\n",
       "    <tr>\n",
       "      <th id=\"T_88e68_level0_row2\" class=\"row_heading level0 row2\" >Fold 3</th>\n",
       "      <td id=\"T_88e68_row2_col0\" class=\"data row2 col0\" >0.756558</td>\n",
       "      <td id=\"T_88e68_row2_col1\" class=\"data row2 col1\" >0.827999</td>\n",
       "      <td id=\"T_88e68_row2_col2\" class=\"data row2 col2\" >0.785230</td>\n",
       "    </tr>\n",
       "    <tr>\n",
       "      <th id=\"T_88e68_level0_row3\" class=\"row_heading level0 row3\" >Fold 4</th>\n",
       "      <td id=\"T_88e68_row3_col0\" class=\"data row3 col0\" >0.776261</td>\n",
       "      <td id=\"T_88e68_row3_col1\" class=\"data row3 col1\" >0.841048</td>\n",
       "      <td id=\"T_88e68_row3_col2\" class=\"data row3 col2\" >0.801467</td>\n",
       "    </tr>\n",
       "    <tr>\n",
       "      <th id=\"T_88e68_level0_row4\" class=\"row_heading level0 row4\" >Fold 5</th>\n",
       "      <td id=\"T_88e68_row4_col0\" class=\"data row4 col0\" >0.783613</td>\n",
       "      <td id=\"T_88e68_row4_col1\" class=\"data row4 col1\" >0.846928</td>\n",
       "      <td id=\"T_88e68_row4_col2\" class=\"data row4 col2\" >0.808922</td>\n",
       "    </tr>\n",
       "  </tbody>\n",
       "</table>\n"
      ],
      "text/plain": [
       "<pandas.io.formats.style.Styler at 0x12f2fdadb80>"
      ]
     },
     "execution_count": 57,
     "metadata": {},
     "output_type": "execute_result"
    }
   ],
   "source": [
    "results_USE = (pd.DataFrame(use)).T\n",
    "results_USE.index = ['Fold 1', 'Fold 2', 'Fold 3', 'Fold 4', 'Fold 5']\n",
    "results_USE.columns = ['Recall', 'Precision', 'F1 Score']\n",
    "results_USE.style.highlight_max(axis=0, color='lightgreen')"
   ]
  },
  {
   "cell_type": "code",
   "execution_count": 58,
   "id": "9a3db6ef",
   "metadata": {},
   "outputs": [
    {
     "data": {
      "text/html": [
       "<style type=\"text/css\">\n",
       "#T_e951a_row0_col1, #T_e951a_row3_col0, #T_e951a_row3_col2 {\n",
       "  background-color: lightgreen;\n",
       "}\n",
       "</style>\n",
       "<table id=\"T_e951a\">\n",
       "  <thead>\n",
       "    <tr>\n",
       "      <th class=\"blank level0\" >&nbsp;</th>\n",
       "      <th id=\"T_e951a_level0_col0\" class=\"col_heading level0 col0\" >Recall</th>\n",
       "      <th id=\"T_e951a_level0_col1\" class=\"col_heading level0 col1\" >Precision</th>\n",
       "      <th id=\"T_e951a_level0_col2\" class=\"col_heading level0 col2\" >F1 Score</th>\n",
       "    </tr>\n",
       "  </thead>\n",
       "  <tbody>\n",
       "    <tr>\n",
       "      <th id=\"T_e951a_level0_row0\" class=\"row_heading level0 row0\" >Fold 1</th>\n",
       "      <td id=\"T_e951a_row0_col0\" class=\"data row0 col0\" >0.745016</td>\n",
       "      <td id=\"T_e951a_row0_col1\" class=\"data row0 col1\" >0.823129</td>\n",
       "      <td id=\"T_e951a_row0_col2\" class=\"data row0 col2\" >0.775526</td>\n",
       "    </tr>\n",
       "    <tr>\n",
       "      <th id=\"T_e951a_level0_row1\" class=\"row_heading level0 row1\" >Fold 2</th>\n",
       "      <td id=\"T_e951a_row1_col0\" class=\"data row1 col0\" >0.726128</td>\n",
       "      <td id=\"T_e951a_row1_col1\" class=\"data row1 col1\" >0.808436</td>\n",
       "      <td id=\"T_e951a_row1_col2\" class=\"data row1 col2\" >0.757561</td>\n",
       "    </tr>\n",
       "    <tr>\n",
       "      <th id=\"T_e951a_level0_row2\" class=\"row_heading level0 row2\" >Fold 3</th>\n",
       "      <td id=\"T_e951a_row2_col0\" class=\"data row2 col0\" >0.743966</td>\n",
       "      <td id=\"T_e951a_row2_col1\" class=\"data row2 col1\" >0.792794</td>\n",
       "      <td id=\"T_e951a_row2_col2\" class=\"data row2 col2\" >0.762923</td>\n",
       "    </tr>\n",
       "    <tr>\n",
       "      <th id=\"T_e951a_level0_row3\" class=\"row_heading level0 row3\" >Fold 4</th>\n",
       "      <td id=\"T_e951a_row3_col0\" class=\"data row3 col0\" >0.760504</td>\n",
       "      <td id=\"T_e951a_row3_col1\" class=\"data row3 col1\" >0.816635</td>\n",
       "      <td id=\"T_e951a_row3_col2\" class=\"data row3 col2\" >0.782370</td>\n",
       "    </tr>\n",
       "    <tr>\n",
       "      <th id=\"T_e951a_level0_row4\" class=\"row_heading level0 row4\" >Fold 5</th>\n",
       "      <td id=\"T_e951a_row4_col0\" class=\"data row4 col0\" >0.746849</td>\n",
       "      <td id=\"T_e951a_row4_col1\" class=\"data row4 col1\" >0.804044</td>\n",
       "      <td id=\"T_e951a_row4_col2\" class=\"data row4 col2\" >0.770186</td>\n",
       "    </tr>\n",
       "  </tbody>\n",
       "</table>\n"
      ],
      "text/plain": [
       "<pandas.io.formats.style.Styler at 0x12f2fdae8d0>"
      ]
     },
     "execution_count": 58,
     "metadata": {},
     "output_type": "execute_result"
    }
   ],
   "source": [
    "results_FAST_TEXT = (pd.DataFrame(fastText)).T\n",
    "results_FAST_TEXT.index = ['Fold 1', 'Fold 2', 'Fold 3', 'Fold 4', 'Fold 5']\n",
    "results_FAST_TEXT.columns = ['Recall', 'Precision', 'F1 Score']\n",
    "results_FAST_TEXT.style.highlight_max(axis=0, color='lightgreen')"
   ]
  },
  {
   "cell_type": "markdown",
   "id": "451317d1",
   "metadata": {},
   "source": [
    "**Ở phần này, ta cần chú trọng kết quả Precision để tránh việc dự đoán sai nhãn**"
   ]
  },
  {
   "cell_type": "code",
   "execution_count": 59,
   "id": "22e9c520",
   "metadata": {},
   "outputs": [
    {
     "name": "stdout",
     "output_type": "stream",
     "text": [
      "F-statistic: 9.42218\n",
      "p-value: 0.00347\n"
     ]
    }
   ],
   "source": [
    "recall_tfidf, precision_tfidf, f1_tfidf = Tfidf\n",
    "recall_use, precision_use, f1_use = use\n",
    "recall_fastText, precision_fastText, f1_fastText = fastText\n",
    "\n",
    "f_stat, p_val = stats.f_oneway(precision_tfidf, precision_use, precision_fastText)\n",
    "print(f\"F-statistic: {f_stat:.5f}\")\n",
    "print(f\"p-value: {p_val:.5f}\")"
   ]
  },
  {
   "cell_type": "markdown",
   "id": "158737cc",
   "metadata": {},
   "source": [
    "Vì p-value < 0.05, ta có thể kết luận rằng sự khác biệt này là có ý nghĩa thống kê.\n",
    "\n",
    "Tiếp điến ta tiến hành kiểm nghiệm giữa từng cặp phương pháp embedding"
   ]
  },
  {
   "cell_type": "code",
   "execution_count": 60,
   "id": "76ad32ea",
   "metadata": {},
   "outputs": [
    {
     "name": "stdout",
     "output_type": "stream",
     "text": [
      "\n",
      "Tukey HSD kết quả:\n",
      " Multiple Comparison of Means - Tukey HSD, FWER=0.05 \n",
      "=====================================================\n",
      "  group1  group2 meandiff p-adj  lower  upper  reject\n",
      "-----------------------------------------------------\n",
      "FAST_TEXT TF-IDF  -0.0057  0.72 -0.0253 0.0138  False\n",
      "FAST_TEXT    USE   0.0243 0.016  0.0047 0.0438   True\n",
      "   TF-IDF    USE     0.03 0.004  0.0104 0.0496   True\n",
      "-----------------------------------------------------\n",
      "\n",
      "Phương pháp có precision trung bình cao nhất: USE\n",
      "method\n",
      "USE          0.833261\n",
      "FAST_TEXT    0.809007\n",
      "TF-IDF       0.803263\n",
      "Name: Precision, dtype: float64\n"
     ]
    }
   ],
   "source": [
    "scores = precision_tfidf + precision_use + precision_fastText\n",
    "methods = ['TF-IDF'] * len(precision_tfidf) + ['USE'] * len(precision_use) + ['FAST_TEXT'] * len(precision_fastText)\n",
    "\n",
    "tukey_df = pd.DataFrame({'Precision': scores, 'method': methods})\n",
    "\n",
    "tukey = pairwise_tukeyhsd(endog=tukey_df['Precision'], groups=tukey_df['method'], alpha=0.05)\n",
    "print(\"\\nTukey HSD kết quả:\")\n",
    "print(tukey)\n",
    "\n",
    "mean_scores = tukey_df.groupby('method')['Precision'].mean().sort_values(ascending=False)\n",
    "print(\"\\nPhương pháp có precision trung bình cao nhất:\", mean_scores.index[0])\n",
    "print(mean_scores)"
   ]
  },
  {
   "cell_type": "markdown",
   "id": "9d25339c",
   "metadata": {},
   "source": [
    "Kết quả kiểm định hậu nghiệm Tukey HSD cho thấy sự khác biệt giữa USE và hai phương pháp embedding còn lại có ý nghĩa thống kê.\n",
    "\n",
    "-  USE và TF-IDF: p = 0.004\n",
    "-  USE và FastText: p = 0.016\n",
    "\n",
    "Trong khi đó, không có sự khác biệt rõ rệt giữa fastText và TF-IDF (p = 0.72). \n",
    "\n",
    "Với kết quả precision trung bình đạt 0.8333, **USE** được xem là phương pháp embedding hiệu quả nhất về mặt precision cho bài toán hiện tại."
   ]
  },
  {
   "cell_type": "markdown",
   "id": "5145f48c",
   "metadata": {},
   "source": [
    "## Modeling\n",
    "USE"
   ]
  },
  {
   "cell_type": "code",
   "execution_count": 61,
   "id": "359bc7a6",
   "metadata": {},
   "outputs": [],
   "source": [
    "X_train, X_test, y_train, y_test = train_test_split(X, y, test_size=0.2, random_state=45)\n",
    "X_train, X_test = embed_USE(X_train), embed_USE(X_test)"
   ]
  },
  {
   "cell_type": "code",
   "execution_count": 62,
   "id": "327328b4",
   "metadata": {},
   "outputs": [
    {
     "data": {
      "text/html": [
       "<style type=\"text/css\">\n",
       "#T_a82bc_row0_col2, #T_a82bc_row2_col1, #T_a82bc_row2_col3 {\n",
       "  background-color: lightgreen;\n",
       "}\n",
       "</style>\n",
       "<table id=\"T_a82bc\">\n",
       "  <thead>\n",
       "    <tr>\n",
       "      <th class=\"blank level0\" >&nbsp;</th>\n",
       "      <th id=\"T_a82bc_level0_col0\" class=\"col_heading level0 col0\" >Model</th>\n",
       "      <th id=\"T_a82bc_level0_col1\" class=\"col_heading level0 col1\" >Recall</th>\n",
       "      <th id=\"T_a82bc_level0_col2\" class=\"col_heading level0 col2\" >Precision</th>\n",
       "      <th id=\"T_a82bc_level0_col3\" class=\"col_heading level0 col3\" >F1 Score</th>\n",
       "    </tr>\n",
       "  </thead>\n",
       "  <tbody>\n",
       "    <tr>\n",
       "      <th id=\"T_a82bc_level0_row0\" class=\"row_heading level0 row0\" >0</th>\n",
       "      <td id=\"T_a82bc_row0_col0\" class=\"data row0 col0\" >Logistic Regression</td>\n",
       "      <td id=\"T_a82bc_row0_col1\" class=\"data row0 col1\" >0.774397</td>\n",
       "      <td id=\"T_a82bc_row0_col2\" class=\"data row0 col2\" >0.860294</td>\n",
       "      <td id=\"T_a82bc_row0_col3\" class=\"data row0 col3\" >0.808541</td>\n",
       "    </tr>\n",
       "    <tr>\n",
       "      <th id=\"T_a82bc_level0_row1\" class=\"row_heading level0 row1\" >1</th>\n",
       "      <td id=\"T_a82bc_row1_col0\" class=\"data row1 col0\" >Random Forest</td>\n",
       "      <td id=\"T_a82bc_row1_col1\" class=\"data row1 col1\" >0.835257</td>\n",
       "      <td id=\"T_a82bc_row1_col2\" class=\"data row1 col2\" >0.813208</td>\n",
       "      <td id=\"T_a82bc_row1_col3\" class=\"data row1 col3\" >0.816426</td>\n",
       "    </tr>\n",
       "    <tr>\n",
       "      <th id=\"T_a82bc_level0_row2\" class=\"row_heading level0 row2\" >2</th>\n",
       "      <td id=\"T_a82bc_row2_col0\" class=\"data row2 col0\" >SVC</td>\n",
       "      <td id=\"T_a82bc_row2_col1\" class=\"data row2 col1\" >0.852046</td>\n",
       "      <td id=\"T_a82bc_row2_col2\" class=\"data row2 col2\" >0.841046</td>\n",
       "      <td id=\"T_a82bc_row2_col3\" class=\"data row2 col3\" >0.835621</td>\n",
       "    </tr>\n",
       "    <tr>\n",
       "      <th id=\"T_a82bc_level0_row3\" class=\"row_heading level0 row3\" >3</th>\n",
       "      <td id=\"T_a82bc_row3_col0\" class=\"data row3 col0\" >XGBoost</td>\n",
       "      <td id=\"T_a82bc_row3_col1\" class=\"data row3 col1\" >0.842602</td>\n",
       "      <td id=\"T_a82bc_row3_col2\" class=\"data row3 col2\" >0.827158</td>\n",
       "      <td id=\"T_a82bc_row3_col3\" class=\"data row3 col3\" >0.830181</td>\n",
       "    </tr>\n",
       "  </tbody>\n",
       "</table>\n"
      ],
      "text/plain": [
       "<pandas.io.formats.style.Styler at 0x12f2fe89550>"
      ]
     },
     "execution_count": 62,
     "metadata": {},
     "output_type": "execute_result"
    }
   ],
   "source": [
    "results = []\n",
    "for model_name, model in models.items():\n",
    "    recall, precision, f1, _, _ = train_and_evaluate(model, X_train, y_train, X_test, y_test)\n",
    "    results.append({'Model': model_name,\n",
    "                    'Recall': recall,\n",
    "                    'Precision': precision,\n",
    "                    'F1 Score': f1})\n",
    "\n",
    "results_df = pd.DataFrame(results)\n",
    "results_df.style.highlight_max(subset=['Recall', 'Precision', 'F1 Score'], axis=0, color='lightgreen')"
   ]
  },
  {
   "cell_type": "markdown",
   "id": "072509b9",
   "metadata": {},
   "source": [
    "### Conclusion\n",
    "Từ kết quả trên ta thấy mô hình Logistic Regression cho kết quả tốt nhất nên ta lựa chọn mô hình này cho phần Sentiment Classification"
   ]
  },
  {
   "cell_type": "code",
   "execution_count": 63,
   "id": "44c792fd",
   "metadata": {},
   "outputs": [
    {
     "data": {
      "image/png": "[encoded data removed]",
      "text/plain": [
       "<Figure size 500x500 with 1 Axes>"
      ]
     },
     "metadata": {},
     "output_type": "display_data"
    }
   ],
   "source": [
    "_, _, _, y_test, y_pred = train_and_evaluate(models['Logistic Regression'], X_train, y_train, X_test, y_test)\n",
    "\n",
    "cm = confusion_matrix(y_test, y_pred)\n",
    "sentiment = ['Negative', 'Positive', 'Neutral']\n",
    "cm_df = pd.DataFrame(cm, index=sentiment, columns=sentiment)\n",
    "\n",
    "plt.figure(figsize=(5, 5))\n",
    "sns.heatmap(cm_df, annot=True, fmt='d', cmap='Blues', cbar=False)\n",
    "plt.title(f'Confusion Matrix for Logistic Regression')\n",
    "plt.xlabel('Predicted')\n",
    "plt.ylabel('True')\n",
    "plt.show()"
   ]
  }
 ],
 "metadata": {
  "kernelspec": {
   "display_name": "Python 3",
   "language": "python",
   "name": "python3"
  },
  "language_info": {
   "codemirror_mode": {
    "name": "ipython",
    "version": 3
   },
   "file_extension": ".py",
   "mimetype": "text/x-python",
   "name": "python",
   "nbconvert_exporter": "python",
   "pygments_lexer": "ipython3",
   "version": "3.12.5"
  }
 },
 "nbformat": 4,
 "nbformat_minor": 5
}
