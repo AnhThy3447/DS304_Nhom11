{
 "cells": [
  {
   "cell_type": "markdown",
   "id": "36131613",
   "metadata": {},
   "source": [
    "# Importing Required Libraries"
   ]
  },
  {
   "cell_type": "code",
   "execution_count": 81,
   "id": "6d3874b0",
   "metadata": {},
   "outputs": [],
   "source": [
    "import pandas as pd\n",
    "import numpy as np\n",
    "import seaborn as sns\n",
    "import matplotlib.pyplot as plt\n",
    "\n",
    "# Embedding\n",
    "from sklearn.feature_extraction.text import TfidfVectorizer\n",
    "from sklearn.feature_extraction.text import ENGLISH_STOP_WORDS\n",
    "from gensim.models import KeyedVectors\n",
    "import tensorflow_hub as hub\n",
    "\n",
    "# Modeling\n",
    "from sklearn.multioutput import MultiOutputClassifier\n",
    "from sklearn.linear_model import LogisticRegression\n",
    "from sklearn.ensemble import RandomForestClassifier\n",
    "from sklearn.svm import LinearSVC\n",
    "from xgboost import XGBClassifier\n",
    "from sklearn.model_selection import KFold\n",
    "from sklearn.metrics import f1_score, recall_score, precision_score, multilabel_confusion_matrix\n",
    "from sklearn.model_selection import train_test_split\n",
    "from scipy import stats\n",
    "from statsmodels.stats.multicomp import pairwise_tukeyhsd"
   ]
  },
  {
   "cell_type": "markdown",
   "id": "7a7ac3af",
   "metadata": {},
   "source": [
    "# Data Loading and Data Analysis"
   ]
  },
  {
   "cell_type": "code",
   "execution_count": 82,
   "id": "3c8201b5",
   "metadata": {},
   "outputs": [
    {
     "data": {
      "text/html": [
       "<div>\n",
       "<style scoped>\n",
       "    .dataframe tbody tr th:only-of-type {\n",
       "        vertical-align: middle;\n",
       "    }\n",
       "\n",
       "    .dataframe tbody tr th {\n",
       "        vertical-align: top;\n",
       "    }\n",
       "\n",
       "    .dataframe thead th {\n",
       "        text-align: right;\n",
       "    }\n",
       "</style>\n",
       "<table border=\"1\" class=\"dataframe\">\n",
       "  <thead>\n",
       "    <tr style=\"text-align: right;\">\n",
       "      <th></th>\n",
       "      <th>id</th>\n",
       "      <th>sentence</th>\n",
       "      <th>price</th>\n",
       "      <th>quality</th>\n",
       "      <th>environment</th>\n",
       "      <th>service</th>\n",
       "      <th>other</th>\n",
       "    </tr>\n",
       "  </thead>\n",
       "  <tbody>\n",
       "    <tr>\n",
       "      <th>0</th>\n",
       "      <td>1</td>\n",
       "      <td>i ordered egg soft noodles from here they did ...</td>\n",
       "      <td>NaN</td>\n",
       "      <td>Negative</td>\n",
       "      <td>NaN</td>\n",
       "      <td>Negative</td>\n",
       "      <td>NaN</td>\n",
       "    </tr>\n",
       "    <tr>\n",
       "      <th>1</th>\n",
       "      <td>2</td>\n",
       "      <td>ice cream was good but it is totally got melt ...</td>\n",
       "      <td>NaN</td>\n",
       "      <td>Positive</td>\n",
       "      <td>NaN</td>\n",
       "      <td>Negative</td>\n",
       "      <td>NaN</td>\n",
       "    </tr>\n",
       "    <tr>\n",
       "      <th>2</th>\n",
       "      <td>2</td>\n",
       "      <td>he mentioned it as delivered as soon as he pic...</td>\n",
       "      <td>NaN</td>\n",
       "      <td>NaN</td>\n",
       "      <td>NaN</td>\n",
       "      <td>Negative</td>\n",
       "      <td>NaN</td>\n",
       "    </tr>\n",
       "    <tr>\n",
       "      <th>3</th>\n",
       "      <td>2</td>\n",
       "      <td>he took nearly forty five minutes to come</td>\n",
       "      <td>NaN</td>\n",
       "      <td>NaN</td>\n",
       "      <td>NaN</td>\n",
       "      <td>Negative</td>\n",
       "      <td>NaN</td>\n",
       "    </tr>\n",
       "    <tr>\n",
       "      <th>4</th>\n",
       "      <td>3</td>\n",
       "      <td>food was not good its from yesterdays food wit...</td>\n",
       "      <td>NaN</td>\n",
       "      <td>Negative</td>\n",
       "      <td>NaN</td>\n",
       "      <td>Negative</td>\n",
       "      <td>NaN</td>\n",
       "    </tr>\n",
       "  </tbody>\n",
       "</table>\n",
       "</div>"
      ],
      "text/plain": [
       "   id                                           sentence price   quality  \\\n",
       "0   1  i ordered egg soft noodles from here they did ...   NaN  Negative   \n",
       "1   2  ice cream was good but it is totally got melt ...   NaN  Positive   \n",
       "2   2  he mentioned it as delivered as soon as he pic...   NaN       NaN   \n",
       "3   2          he took nearly forty five minutes to come   NaN       NaN   \n",
       "4   3  food was not good its from yesterdays food wit...   NaN  Negative   \n",
       "\n",
       "  environment   service other  \n",
       "0         NaN  Negative   NaN  \n",
       "1         NaN  Negative   NaN  \n",
       "2         NaN  Negative   NaN  \n",
       "3         NaN  Negative   NaN  \n",
       "4         NaN  Negative   NaN  "
      ]
     },
     "execution_count": 82,
     "metadata": {},
     "output_type": "execute_result"
    }
   ],
   "source": [
    "df = pd.read_csv('data_after_preprocessing.csv')\n",
    "df.head()"
   ]
  },
  {
   "cell_type": "code",
   "execution_count": 83,
   "id": "0ec981d5",
   "metadata": {},
   "outputs": [
    {
     "data": {
      "text/html": [
       "<div>\n",
       "<style scoped>\n",
       "    .dataframe tbody tr th:only-of-type {\n",
       "        vertical-align: middle;\n",
       "    }\n",
       "\n",
       "    .dataframe tbody tr th {\n",
       "        vertical-align: top;\n",
       "    }\n",
       "\n",
       "    .dataframe thead th {\n",
       "        text-align: right;\n",
       "    }\n",
       "</style>\n",
       "<table border=\"1\" class=\"dataframe\">\n",
       "  <thead>\n",
       "    <tr style=\"text-align: right;\">\n",
       "      <th></th>\n",
       "      <th>id</th>\n",
       "      <th>sentence</th>\n",
       "      <th>price</th>\n",
       "      <th>quality</th>\n",
       "      <th>environment</th>\n",
       "      <th>service</th>\n",
       "      <th>other</th>\n",
       "    </tr>\n",
       "  </thead>\n",
       "  <tbody>\n",
       "    <tr>\n",
       "      <th>0</th>\n",
       "      <td>1</td>\n",
       "      <td>i ordered egg soft noodles from here they did ...</td>\n",
       "      <td>0</td>\n",
       "      <td>1</td>\n",
       "      <td>0</td>\n",
       "      <td>1</td>\n",
       "      <td>0</td>\n",
       "    </tr>\n",
       "    <tr>\n",
       "      <th>1</th>\n",
       "      <td>2</td>\n",
       "      <td>ice cream was good but it is totally got melt ...</td>\n",
       "      <td>0</td>\n",
       "      <td>1</td>\n",
       "      <td>0</td>\n",
       "      <td>1</td>\n",
       "      <td>0</td>\n",
       "    </tr>\n",
       "    <tr>\n",
       "      <th>2</th>\n",
       "      <td>2</td>\n",
       "      <td>he mentioned it as delivered as soon as he pic...</td>\n",
       "      <td>0</td>\n",
       "      <td>0</td>\n",
       "      <td>0</td>\n",
       "      <td>1</td>\n",
       "      <td>0</td>\n",
       "    </tr>\n",
       "    <tr>\n",
       "      <th>3</th>\n",
       "      <td>2</td>\n",
       "      <td>he took nearly forty five minutes to come</td>\n",
       "      <td>0</td>\n",
       "      <td>0</td>\n",
       "      <td>0</td>\n",
       "      <td>1</td>\n",
       "      <td>0</td>\n",
       "    </tr>\n",
       "    <tr>\n",
       "      <th>4</th>\n",
       "      <td>3</td>\n",
       "      <td>food was not good its from yesterdays food wit...</td>\n",
       "      <td>0</td>\n",
       "      <td>1</td>\n",
       "      <td>0</td>\n",
       "      <td>1</td>\n",
       "      <td>0</td>\n",
       "    </tr>\n",
       "  </tbody>\n",
       "</table>\n",
       "</div>"
      ],
      "text/plain": [
       "   id                                           sentence  price  quality  \\\n",
       "0   1  i ordered egg soft noodles from here they did ...      0        1   \n",
       "1   2  ice cream was good but it is totally got melt ...      0        1   \n",
       "2   2  he mentioned it as delivered as soon as he pic...      0        0   \n",
       "3   2          he took nearly forty five minutes to come      0        0   \n",
       "4   3  food was not good its from yesterdays food wit...      0        1   \n",
       "\n",
       "   environment  service  other  \n",
       "0            0        1      0  \n",
       "1            0        1      0  \n",
       "2            0        1      0  \n",
       "3            0        1      0  \n",
       "4            0        1      0  "
      ]
     },
     "execution_count": 83,
     "metadata": {},
     "output_type": "execute_result"
    }
   ],
   "source": [
    "aspects = ['price', 'quality', 'environment', 'service', 'other']\n",
    "df[aspects] = df[aspects].notna().astype(int)\n",
    "df.head()"
   ]
  },
  {
   "cell_type": "code",
   "execution_count": 84,
   "id": "85b5feb7",
   "metadata": {},
   "outputs": [
    {
     "name": "stdout",
     "output_type": "stream",
     "text": [
      "<class 'pandas.core.frame.DataFrame'>\n",
      "RangeIndex: 5288 entries, 0 to 5287\n",
      "Data columns (total 7 columns):\n",
      " #   Column       Non-Null Count  Dtype \n",
      "---  ------       --------------  ----- \n",
      " 0   id           5288 non-null   int64 \n",
      " 1   sentence     5288 non-null   object\n",
      " 2   price        5288 non-null   int32 \n",
      " 3   quality      5288 non-null   int32 \n",
      " 4   environment  5288 non-null   int32 \n",
      " 5   service      5288 non-null   int32 \n",
      " 6   other        5288 non-null   int32 \n",
      "dtypes: int32(5), int64(1), object(1)\n",
      "memory usage: 186.0+ KB\n"
     ]
    }
   ],
   "source": [
    "df.info()"
   ]
  },
  {
   "cell_type": "markdown",
   "id": "a051aa44",
   "metadata": {},
   "source": [
    "### Prepare data"
   ]
  },
  {
   "cell_type": "code",
   "execution_count": 85,
   "id": "a6988b01",
   "metadata": {},
   "outputs": [
    {
     "name": "stdout",
     "output_type": "stream",
     "text": [
      "X shape: (5288,)\n",
      "Sample: i ordered egg soft noodles from here they did not even included spoon or sport for they item how i have to eat noodles and also full of oily\n"
     ]
    }
   ],
   "source": [
    "X = df['sentence']\n",
    "print('X shape:', X.shape)\n",
    "print('Sample:', X.iloc[0])"
   ]
  },
  {
   "cell_type": "code",
   "execution_count": 86,
   "id": "a5472261",
   "metadata": {},
   "outputs": [
    {
     "name": "stdout",
     "output_type": "stream",
     "text": [
      "y shape: (5288, 5)\n",
      "Sample:\n",
      "price          0\n",
      "quality        1\n",
      "environment    0\n",
      "service        1\n",
      "other          0\n",
      "Name: 0, dtype: int32\n"
     ]
    }
   ],
   "source": [
    "Y = df[aspects]\n",
    "print('y shape:', Y.shape)\n",
    "print('Sample:')\n",
    "print(Y.iloc[0])"
   ]
  },
  {
   "cell_type": "markdown",
   "id": "0d89a7a8",
   "metadata": {},
   "source": [
    "### Data Analysis"
   ]
  },
  {
   "cell_type": "code",
   "execution_count": 87,
   "id": "20249ad9",
   "metadata": {},
   "outputs": [
    {
     "data": {
      "image/png": "[encoded data removed]",
      "text/plain": [
       "<Figure size 700x300 with 1 Axes>"
      ]
     },
     "metadata": {},
     "output_type": "display_data"
    }
   ],
   "source": [
    "labels_counts = Y.sum(axis=0)\n",
    "labels, counts = labels_counts.index, labels_counts.values\n",
    "\n",
    "# Vẽ biểu đồ\n",
    "plt.figure(figsize=(7, 3))\n",
    "palette = ['#FF9999', '#66B3FF', '#99FF99', '#FFCC99', '#C2C2F0'] \n",
    "ax = sns.barplot(x=counts, hue=counts, legend=False, y=labels, palette=palette, orient='h')\n",
    "\n",
    "# Thêm giá trị lên thanh\n",
    "for bar in ax.patches:\n",
    "    y = bar.get_y() + bar.get_height() / 2\n",
    "    label = bar.get_y()  # không cần, dùng trực tiếp bar\n",
    "    width = bar.get_width()\n",
    "    plt.text(width - 10, y, f'{int(width)}', va='center', ha='right', color='black')\n",
    "\n",
    "# Tùy chỉnh trục và nhãn\n",
    "ax.set_ylabel(\"Labels\", fontsize=12)\n",
    "plt.show()"
   ]
  },
  {
   "cell_type": "code",
   "execution_count": 88,
   "id": "aa068bb9",
   "metadata": {},
   "outputs": [
    {
     "data": {
      "image/png": "[encoded data removed]",
      "text/plain": [
       "<Figure size 900x300 with 1 Axes>"
      ]
     },
     "metadata": {},
     "output_type": "display_data"
    }
   ],
   "source": [
    "labels_counts = Y.sum(axis=1).value_counts().sort_index()\n",
    "labels, counts = labels_counts.index, labels_counts.values\n",
    "\n",
    "plt.figure(figsize=(9, 3))\n",
    "plt.barh(labels, counts, color=palette)\n",
    "max_count = counts.max()\n",
    "for i, v in enumerate(counts):\n",
    "    plt.text(v + max_count * 0.005, i, str(v), va='center', ha='left', color='black')\n",
    "plt.xlabel(\"count\")\n",
    "plt.ylabel(\"label\")\n",
    "plt.title(\"Number of labels per row\")\n",
    "plt.barh(labels, counts, color=palette)\n",
    "plt.gca().invert_yaxis()\n",
    "\n",
    "plt.tight_layout()\n",
    "plt.show()"
   ]
  },
  {
   "cell_type": "markdown",
   "id": "477d7fed",
   "metadata": {},
   "source": [
    "# Embedding"
   ]
  },
  {
   "cell_type": "markdown",
   "id": "3406b88e",
   "metadata": {},
   "source": [
    "### TF-IDF"
   ]
  },
  {
   "cell_type": "code",
   "execution_count": 89,
   "id": "0cfa0b82",
   "metadata": {},
   "outputs": [],
   "source": [
    "keep_words = [\n",
    "    # Negative words\n",
    "    'not', 'no', 'none', 'never', 'nothing', 'nobody', 'nowhere', 'neither', 'without',\n",
    "    'cannot', 'cant', 'couldnt', 'hasnt', 'nor',\n",
    "\n",
    "    # Adjective/Adverb\n",
    "    'well', 'interest',\n",
    "\n",
    "    # Numerous\n",
    "    'one', 'two', 'three', 'four', 'five', 'six', 'eight', 'nine', 'ten',\n",
    "    'eleven', 'twelve', 'fifteen', 'twenty', 'forty', 'fifty', 'sixty',\n",
    "    'hundred'\n",
    "]\n",
    "custom_stopwords = list(ENGLISH_STOP_WORDS.difference(keep_words))"
   ]
  },
  {
   "cell_type": "code",
   "execution_count": 90,
   "id": "b5a7400f",
   "metadata": {},
   "outputs": [],
   "source": [
    "vectorizer = TfidfVectorizer(max_features=3000, stop_words=custom_stopwords)\n",
    "\n",
    "def fit_tfidf(X_train_text):\n",
    "    vectorizer.fit(X_train_text)\n",
    "\n",
    "def transform_tfidf(X_text):\n",
    "    return vectorizer.transform(X_text).toarray()"
   ]
  },
  {
   "cell_type": "markdown",
   "id": "deda1dc9",
   "metadata": {},
   "source": [
    "### USE"
   ]
  },
  {
   "cell_type": "code",
   "execution_count": 91,
   "id": "20c75afa",
   "metadata": {},
   "outputs": [
    {
     "name": "stdout",
     "output_type": "stream",
     "text": [
      "module https://tfhub.dev/google/universal-sentence-encoder/4 loaded\n"
     ]
    }
   ],
   "source": [
    "module_url = \"https://tfhub.dev/google/universal-sentence-encoder/4\" #@param [\"https://tfhub.dev/google/universal-sentence-encoder/4\", \"https://tfhub.dev/google/universal-sentence-encoder-large/5\"]\n",
    "use_model = hub.load(module_url)\n",
    "print (\"module %s loaded\" % module_url)\n",
    "def embed_USE(input):\n",
    "    return np.array(use_model(input))"
   ]
  },
  {
   "cell_type": "markdown",
   "id": "957ea03c",
   "metadata": {},
   "source": [
    "### FastText"
   ]
  },
  {
   "cell_type": "code",
   "execution_count": 92,
   "id": "abd53d84",
   "metadata": {},
   "outputs": [],
   "source": [
    "fastText_model = KeyedVectors.load_word2vec_format(\"wiki-news-300d-1M.vec\", binary=False)"
   ]
  },
  {
   "cell_type": "code",
   "execution_count": 93,
   "id": "49c1224a",
   "metadata": {},
   "outputs": [],
   "source": [
    "def sentence_to_vector(sentence):\n",
    "    words = sentence.split()\n",
    "    filtered_words = [w for w in words if w not in custom_stopwords]\n",
    "    word_vectors = [fastText_model[w] for w in filtered_words if w in fastText_model]\n",
    "    if not word_vectors:\n",
    "        return np.zeros(fastText_model.vector_size)\n",
    "    return np.mean(word_vectors, axis=0)"
   ]
  },
  {
   "cell_type": "code",
   "execution_count": 94,
   "id": "2923224f",
   "metadata": {},
   "outputs": [],
   "source": [
    "def embed_fastText(input):\n",
    "    vectors = input.apply(sentence_to_vector)\n",
    "    return np.vstack(vectors.values)"
   ]
  },
  {
   "cell_type": "markdown",
   "id": "20b6e8fa",
   "metadata": {},
   "source": [
    "# Define models"
   ]
  },
  {
   "cell_type": "code",
   "execution_count": 95,
   "id": "1906f478",
   "metadata": {},
   "outputs": [],
   "source": [
    "models = {\n",
    "      \"Logistic Regression\": LogisticRegression(max_iter=1000, class_weight='balanced'),\n",
    "      \"Random Forest\": RandomForestClassifier(n_estimators=100, random_state=42, n_jobs=-1),\n",
    "      \"SVC\": LinearSVC(max_iter=1000, random_state=42),\n",
    "      \"XGBoost\": XGBClassifier(use_label_encoder=False, eval_metric=\"logloss\", verbosity=0)\n",
    "}"
   ]
  },
  {
   "cell_type": "code",
   "execution_count": 96,
   "id": "4e91eaaf",
   "metadata": {},
   "outputs": [],
   "source": [
    "def train_and_evaluate(model, X_train, y_train, X_test, y_test):\n",
    "    model.fit(X_train, y_train)\n",
    "    y_pred = model.predict(X_test)\n",
    "\n",
    "    recall, precision, f1 = (\n",
    "        recall_score(y_test, y_pred, average='weighted', zero_division=0),\n",
    "        precision_score(y_test, y_pred, average='weighted', zero_division=0),\n",
    "        f1_score(y_test, y_pred, average='weighted', zero_division=0)\n",
    "    )\n",
    "    return recall, precision, f1, y_test, y_pred"
   ]
  },
  {
   "cell_type": "code",
   "execution_count": 97,
   "id": "11fd3901",
   "metadata": {},
   "outputs": [],
   "source": [
    "def experiment_with_kfold(X, y, embedding, model):\n",
    "  kf = KFold(n_splits=5, shuffle=True)\n",
    "  recalls, precisions, f1s = [], [], []\n",
    "\n",
    "  for fold, (train_idx, test_idx) in enumerate(kf.split(X), 1):\n",
    "    X_train, X_test = X.iloc[train_idx], X.iloc[test_idx]\n",
    "    y_train, y_test = y.iloc[train_idx], y.iloc[test_idx]\n",
    "\n",
    "    if embedding == 'TF-IDF':\n",
    "      fit_tfidf(X_train)\n",
    "      X_train = transform_tfidf(X_train)\n",
    "      X_test = transform_tfidf(X_test)\n",
    "\n",
    "    if embedding == 'USE':\n",
    "      X_train, X_test = embed_USE(X_train), embed_USE(X_test)\n",
    "\n",
    "    if embedding == 'FAST_TEXT':\n",
    "      X_train, X_test = embed_fastText(X_train), embed_fastText(X_test)\n",
    "\n",
    "    recall, precision, f1, _, _ = train_and_evaluate(model, X_train, y_train, X_test, y_test)\n",
    "    recalls.append(recall)\n",
    "    precisions.append(precision)\n",
    "    f1s.append(f1)\n",
    "\n",
    "  return recalls, precisions, f1s"
   ]
  },
  {
   "cell_type": "markdown",
   "id": "3c7344ea",
   "metadata": {},
   "source": [
    "# Experiment"
   ]
  },
  {
   "cell_type": "code",
   "execution_count": 98,
   "id": "6777469d",
   "metadata": {},
   "outputs": [],
   "source": [
    "base_model = MultiOutputClassifier(models['Logistic Regression'])\n",
    "Tfidf = experiment_with_kfold(X, Y, 'TF-IDF', base_model)\n",
    "use = experiment_with_kfold(X, Y, 'USE', base_model)\n",
    "fastText = experiment_with_kfold(X, Y, 'FAST_TEXT', base_model)"
   ]
  },
  {
   "cell_type": "code",
   "execution_count": 99,
   "id": "37faf8a6",
   "metadata": {},
   "outputs": [
    {
     "data": {
      "text/html": [
       "<style type=\"text/css\">\n",
       "#T_0d554_row2_col0, #T_0d554_row2_col1, #T_0d554_row2_col2 {\n",
       "  background-color: lightgreen;\n",
       "}\n",
       "</style>\n",
       "<table id=\"T_0d554\">\n",
       "  <thead>\n",
       "    <tr>\n",
       "      <th class=\"blank level0\" >&nbsp;</th>\n",
       "      <th id=\"T_0d554_level0_col0\" class=\"col_heading level0 col0\" >Recall</th>\n",
       "      <th id=\"T_0d554_level0_col1\" class=\"col_heading level0 col1\" >Precision</th>\n",
       "      <th id=\"T_0d554_level0_col2\" class=\"col_heading level0 col2\" >F1 Score</th>\n",
       "    </tr>\n",
       "  </thead>\n",
       "  <tbody>\n",
       "    <tr>\n",
       "      <th id=\"T_0d554_level0_row0\" class=\"row_heading level0 row0\" >Fold 1</th>\n",
       "      <td id=\"T_0d554_row0_col0\" class=\"data row0 col0\" >0.747614</td>\n",
       "      <td id=\"T_0d554_row0_col1\" class=\"data row0 col1\" >0.689327</td>\n",
       "      <td id=\"T_0d554_row0_col2\" class=\"data row0 col2\" >0.710671</td>\n",
       "    </tr>\n",
       "    <tr>\n",
       "      <th id=\"T_0d554_level0_row1\" class=\"row_heading level0 row1\" >Fold 2</th>\n",
       "      <td id=\"T_0d554_row1_col0\" class=\"data row1 col0\" >0.745493</td>\n",
       "      <td id=\"T_0d554_row1_col1\" class=\"data row1 col1\" >0.703846</td>\n",
       "      <td id=\"T_0d554_row1_col2\" class=\"data row1 col2\" >0.720054</td>\n",
       "    </tr>\n",
       "    <tr>\n",
       "      <th id=\"T_0d554_level0_row2\" class=\"row_heading level0 row2\" >Fold 3</th>\n",
       "      <td id=\"T_0d554_row2_col0\" class=\"data row2 col0\" >0.758974</td>\n",
       "      <td id=\"T_0d554_row2_col1\" class=\"data row2 col1\" >0.716273</td>\n",
       "      <td id=\"T_0d554_row2_col2\" class=\"data row2 col2\" >0.732241</td>\n",
       "    </tr>\n",
       "    <tr>\n",
       "      <th id=\"T_0d554_level0_row3\" class=\"row_heading level0 row3\" >Fold 4</th>\n",
       "      <td id=\"T_0d554_row3_col0\" class=\"data row3 col0\" >0.755274</td>\n",
       "      <td id=\"T_0d554_row3_col1\" class=\"data row3 col1\" >0.690349</td>\n",
       "      <td id=\"T_0d554_row3_col2\" class=\"data row3 col2\" >0.718139</td>\n",
       "    </tr>\n",
       "    <tr>\n",
       "      <th id=\"T_0d554_level0_row4\" class=\"row_heading level0 row4\" >Fold 5</th>\n",
       "      <td id=\"T_0d554_row4_col0\" class=\"data row4 col0\" >0.752361</td>\n",
       "      <td id=\"T_0d554_row4_col1\" class=\"data row4 col1\" >0.706741</td>\n",
       "      <td id=\"T_0d554_row4_col2\" class=\"data row4 col2\" >0.725012</td>\n",
       "    </tr>\n",
       "  </tbody>\n",
       "</table>\n"
      ],
      "text/plain": [
       "<pandas.io.formats.style.Styler at 0x1983be6cb30>"
      ]
     },
     "execution_count": 99,
     "metadata": {},
     "output_type": "execute_result"
    }
   ],
   "source": [
    "results_Tfidf = (pd.DataFrame(Tfidf)).T\n",
    "results_Tfidf.index = ['Fold 1', 'Fold 2', 'Fold 3', 'Fold 4', 'Fold 5']\n",
    "results_Tfidf.columns = ['Recall', 'Precision', 'F1 Score']\n",
    "results_Tfidf.style.highlight_max(axis=0, color='lightgreen')"
   ]
  },
  {
   "cell_type": "code",
   "execution_count": 100,
   "id": "b1cb93e5",
   "metadata": {},
   "outputs": [
    {
     "data": {
      "text/html": [
       "<style type=\"text/css\">\n",
       "#T_e3d23_row4_col0, #T_e3d23_row4_col1, #T_e3d23_row4_col2 {\n",
       "  background-color: lightgreen;\n",
       "}\n",
       "</style>\n",
       "<table id=\"T_e3d23\">\n",
       "  <thead>\n",
       "    <tr>\n",
       "      <th class=\"blank level0\" >&nbsp;</th>\n",
       "      <th id=\"T_e3d23_level0_col0\" class=\"col_heading level0 col0\" >Recall</th>\n",
       "      <th id=\"T_e3d23_level0_col1\" class=\"col_heading level0 col1\" >Precision</th>\n",
       "      <th id=\"T_e3d23_level0_col2\" class=\"col_heading level0 col2\" >F1 Score</th>\n",
       "    </tr>\n",
       "  </thead>\n",
       "  <tbody>\n",
       "    <tr>\n",
       "      <th id=\"T_e3d23_level0_row0\" class=\"row_heading level0 row0\" >Fold 1</th>\n",
       "      <td id=\"T_e3d23_row0_col0\" class=\"data row0 col0\" >0.848454</td>\n",
       "      <td id=\"T_e3d23_row0_col1\" class=\"data row0 col1\" >0.686224</td>\n",
       "      <td id=\"T_e3d23_row0_col2\" class=\"data row0 col2\" >0.753262</td>\n",
       "    </tr>\n",
       "    <tr>\n",
       "      <th id=\"T_e3d23_level0_row1\" class=\"row_heading level0 row1\" >Fold 2</th>\n",
       "      <td id=\"T_e3d23_row1_col0\" class=\"data row1 col0\" >0.834547</td>\n",
       "      <td id=\"T_e3d23_row1_col1\" class=\"data row1 col1\" >0.662897</td>\n",
       "      <td id=\"T_e3d23_row1_col2\" class=\"data row1 col2\" >0.731766</td>\n",
       "    </tr>\n",
       "    <tr>\n",
       "      <th id=\"T_e3d23_level0_row2\" class=\"row_heading level0 row2\" >Fold 3</th>\n",
       "      <td id=\"T_e3d23_row2_col0\" class=\"data row2 col0\" >0.822703</td>\n",
       "      <td id=\"T_e3d23_row2_col1\" class=\"data row2 col1\" >0.663959</td>\n",
       "      <td id=\"T_e3d23_row2_col2\" class=\"data row2 col2\" >0.726746</td>\n",
       "    </tr>\n",
       "    <tr>\n",
       "      <th id=\"T_e3d23_level0_row3\" class=\"row_heading level0 row3\" >Fold 4</th>\n",
       "      <td id=\"T_e3d23_row3_col0\" class=\"data row3 col0\" >0.825581</td>\n",
       "      <td id=\"T_e3d23_row3_col1\" class=\"data row3 col1\" >0.688491</td>\n",
       "      <td id=\"T_e3d23_row3_col2\" class=\"data row3 col2\" >0.739904</td>\n",
       "    </tr>\n",
       "    <tr>\n",
       "      <th id=\"T_e3d23_level0_row4\" class=\"row_heading level0 row4\" >Fold 5</th>\n",
       "      <td id=\"T_e3d23_row4_col0\" class=\"data row4 col0\" >0.866667</td>\n",
       "      <td id=\"T_e3d23_row4_col1\" class=\"data row4 col1\" >0.689145</td>\n",
       "      <td id=\"T_e3d23_row4_col2\" class=\"data row4 col2\" >0.759759</td>\n",
       "    </tr>\n",
       "  </tbody>\n",
       "</table>\n"
      ],
      "text/plain": [
       "<pandas.io.formats.style.Styler at 0x19924127830>"
      ]
     },
     "execution_count": 100,
     "metadata": {},
     "output_type": "execute_result"
    }
   ],
   "source": [
    "results_USE = (pd.DataFrame(use)).T\n",
    "results_USE.index = ['Fold 1', 'Fold 2', 'Fold 3', 'Fold 4', 'Fold 5']\n",
    "results_USE.columns = ['Recall', 'Precision', 'F1 Score']\n",
    "results_USE.style.highlight_max(axis=0, color='lightgreen')"
   ]
  },
  {
   "cell_type": "code",
   "execution_count": 101,
   "id": "d40b4c0a",
   "metadata": {},
   "outputs": [
    {
     "data": {
      "text/html": [
       "<style type=\"text/css\">\n",
       "#T_55bcc_row2_col0, #T_55bcc_row2_col2, #T_55bcc_row3_col1 {\n",
       "  background-color: lightgreen;\n",
       "}\n",
       "</style>\n",
       "<table id=\"T_55bcc\">\n",
       "  <thead>\n",
       "    <tr>\n",
       "      <th class=\"blank level0\" >&nbsp;</th>\n",
       "      <th id=\"T_55bcc_level0_col0\" class=\"col_heading level0 col0\" >Recall</th>\n",
       "      <th id=\"T_55bcc_level0_col1\" class=\"col_heading level0 col1\" >Precision</th>\n",
       "      <th id=\"T_55bcc_level0_col2\" class=\"col_heading level0 col2\" >F1 Score</th>\n",
       "    </tr>\n",
       "  </thead>\n",
       "  <tbody>\n",
       "    <tr>\n",
       "      <th id=\"T_55bcc_level0_row0\" class=\"row_heading level0 row0\" >Fold 1</th>\n",
       "      <td id=\"T_55bcc_row0_col0\" class=\"data row0 col0\" >0.792708</td>\n",
       "      <td id=\"T_55bcc_row0_col1\" class=\"data row0 col1\" >0.616714</td>\n",
       "      <td id=\"T_55bcc_row0_col2\" class=\"data row0 col2\" >0.683639</td>\n",
       "    </tr>\n",
       "    <tr>\n",
       "      <th id=\"T_55bcc_level0_row1\" class=\"row_heading level0 row1\" >Fold 2</th>\n",
       "      <td id=\"T_55bcc_row1_col0\" class=\"data row1 col0\" >0.762658</td>\n",
       "      <td id=\"T_55bcc_row1_col1\" class=\"data row1 col1\" >0.627069</td>\n",
       "      <td id=\"T_55bcc_row1_col2\" class=\"data row1 col2\" >0.674782</td>\n",
       "    </tr>\n",
       "    <tr>\n",
       "      <th id=\"T_55bcc_level0_row2\" class=\"row_heading level0 row2\" >Fold 3</th>\n",
       "      <td id=\"T_55bcc_row2_col0\" class=\"data row2 col0\" >0.805732</td>\n",
       "      <td id=\"T_55bcc_row2_col1\" class=\"data row2 col1\" >0.642714</td>\n",
       "      <td id=\"T_55bcc_row2_col2\" class=\"data row2 col2\" >0.703558</td>\n",
       "    </tr>\n",
       "    <tr>\n",
       "      <th id=\"T_55bcc_level0_row3\" class=\"row_heading level0 row3\" >Fold 4</th>\n",
       "      <td id=\"T_55bcc_row3_col0\" class=\"data row3 col0\" >0.792100</td>\n",
       "      <td id=\"T_55bcc_row3_col1\" class=\"data row3 col1\" >0.648389</td>\n",
       "      <td id=\"T_55bcc_row3_col2\" class=\"data row3 col2\" >0.703522</td>\n",
       "    </tr>\n",
       "    <tr>\n",
       "      <th id=\"T_55bcc_level0_row4\" class=\"row_heading level0 row4\" >Fold 5</th>\n",
       "      <td id=\"T_55bcc_row4_col0\" class=\"data row4 col0\" >0.771579</td>\n",
       "      <td id=\"T_55bcc_row4_col1\" class=\"data row4 col1\" >0.612548</td>\n",
       "      <td id=\"T_55bcc_row4_col2\" class=\"data row4 col2\" >0.675142</td>\n",
       "    </tr>\n",
       "  </tbody>\n",
       "</table>\n"
      ],
      "text/plain": [
       "<pandas.io.formats.style.Styler at 0x1983be65a60>"
      ]
     },
     "execution_count": 101,
     "metadata": {},
     "output_type": "execute_result"
    }
   ],
   "source": [
    "results_FAST_TEXT = (pd.DataFrame(fastText)).T\n",
    "results_FAST_TEXT.index = ['Fold 1', 'Fold 2', 'Fold 3', 'Fold 4', 'Fold 5']\n",
    "results_FAST_TEXT.columns = ['Recall', 'Precision', 'F1 Score']\n",
    "results_FAST_TEXT.style.highlight_max(axis=0, color='lightgreen')"
   ]
  },
  {
   "cell_type": "markdown",
   "id": "7e0632f4",
   "metadata": {},
   "source": [
    "**Vì đây là bài toán xác định các khía cạnh có trong câu nên ta cần chú trọng vào tỉ lệ Recall hơn**"
   ]
  },
  {
   "cell_type": "code",
   "execution_count": 102,
   "id": "c1cbc6da",
   "metadata": {},
   "outputs": [
    {
     "name": "stdout",
     "output_type": "stream",
     "text": [
      "F-statistic: 44.2225693167\n",
      "p-value: 0.0000029075\n"
     ]
    }
   ],
   "source": [
    "recall_tfidf, precision_tfidf, f1_tfidf = Tfidf\n",
    "recall_use, precision_use, f1_use = use\n",
    "recall_fastText, precision_fastText, f1_fastText = fastText\n",
    "\n",
    "f_stat, p_val = stats.f_oneway(recall_tfidf, recall_use, recall_fastText)\n",
    "print(f\"F-statistic: {f_stat:.10f}\")\n",
    "print(f\"p-value: {p_val:.10f}\")"
   ]
  },
  {
   "cell_type": "markdown",
   "id": "3fd38db3",
   "metadata": {},
   "source": [
    "Với p-value < 0.05, ta bác bỏ giả thuyết H₀ (\"Không có sự khác biệt giữa các phương pháp\").\n",
    "\n",
    "Điều này cho thấy sự khác biệt giữa TF-IDF, USE và FastText là có ý nghĩa thống kê.\n",
    "\n",
    "Tiếp điến ta tiến hành kiểm nghiệm giữa từng cặp phương pháp embedding"
   ]
  },
  {
   "cell_type": "code",
   "execution_count": 103,
   "id": "c04fddb4",
   "metadata": {},
   "outputs": [
    {
     "name": "stdout",
     "output_type": "stream",
     "text": [
      "\n",
      "Tukey HSD kết quả:\n",
      "  Multiple Comparison of Means - Tukey HSD, FWER=0.05  \n",
      "=======================================================\n",
      "  group1  group2 meandiff p-adj   lower   upper  reject\n",
      "-------------------------------------------------------\n",
      "FAST_TEXT TF-IDF   -0.033 0.0112 -0.0581 -0.0079   True\n",
      "FAST_TEXT    USE   0.0546 0.0002  0.0295  0.0797   True\n",
      "   TF-IDF    USE   0.0876    0.0  0.0625  0.1128   True\n",
      "-------------------------------------------------------\n",
      "\n",
      "Phương pháp có recall trung bình cao nhất: USE\n",
      "method\n",
      "USE          0.839590\n",
      "FAST_TEXT    0.784956\n",
      "TF-IDF       0.751943\n",
      "Name: recall, dtype: float64\n"
     ]
    }
   ],
   "source": [
    "scores = recall_tfidf + recall_use + recall_fastText\n",
    "methods = ['TF-IDF'] * len(recall_tfidf) + ['USE'] * len(recall_use) + ['FAST_TEXT'] * len(recall_fastText)\n",
    "\n",
    "tukey_df = pd.DataFrame({'recall': scores, 'method': methods})\n",
    "\n",
    "tukey = pairwise_tukeyhsd(endog=tukey_df['recall'], groups=tukey_df['method'], alpha=0.05)\n",
    "print(\"\\nTukey HSD kết quả:\")\n",
    "print(tukey)\n",
    "\n",
    "# Gợi ý chọn phương pháp tốt nhất\n",
    "mean_scores = tukey_df.groupby('method')['recall'].mean().sort_values(ascending=False)\n",
    "print(\"\\nPhương pháp có recall trung bình cao nhất:\", mean_scores.index[0])\n",
    "print(mean_scores)"
   ]
  },
  {
   "cell_type": "markdown",
   "id": "ad0b661a",
   "metadata": {},
   "source": [
    "Sau khi tiến hành kiểm định hậu nghiệm Tukey HSD, ta thấy sự khác biệt giữa các cặp phương pháp đều mang ý nghĩa thống kê (p < 0.05). \n",
    "\n",
    "Trong đó, phương pháp USE đạt recall trung bình cao nhất (0.8396), cao hơn đáng kể so với fastText và TF-IDF. \n",
    "\n",
    "Do đó, **USE** được chọn là phương pháp embedding tối ưu cho mô hình trong bài toán nhận diện khía cạnh."
   ]
  },
  {
   "cell_type": "markdown",
   "id": "2ca2691c",
   "metadata": {},
   "source": [
    "## Modeling\n",
    "USE"
   ]
  },
  {
   "cell_type": "code",
   "execution_count": 104,
   "id": "2b448433",
   "metadata": {},
   "outputs": [],
   "source": [
    "X_train, X_test, y_train, y_test = train_test_split(X, Y, test_size=0.2, random_state=42)\n",
    "X_train, X_test = embed_USE(X_train), embed_USE(X_test)"
   ]
  },
  {
   "cell_type": "code",
   "execution_count": 105,
   "id": "41339596",
   "metadata": {},
   "outputs": [
    {
     "data": {
      "text/html": [
       "<style type=\"text/css\">\n",
       "#T_4487a_row0_col1, #T_4487a_row0_col3, #T_4487a_row1_col2 {\n",
       "  background-color: lightgreen;\n",
       "}\n",
       "</style>\n",
       "<table id=\"T_4487a\">\n",
       "  <thead>\n",
       "    <tr>\n",
       "      <th class=\"blank level0\" >&nbsp;</th>\n",
       "      <th id=\"T_4487a_level0_col0\" class=\"col_heading level0 col0\" >Model</th>\n",
       "      <th id=\"T_4487a_level0_col1\" class=\"col_heading level0 col1\" >Recall</th>\n",
       "      <th id=\"T_4487a_level0_col2\" class=\"col_heading level0 col2\" >Precision</th>\n",
       "      <th id=\"T_4487a_level0_col3\" class=\"col_heading level0 col3\" >F1 Score</th>\n",
       "    </tr>\n",
       "  </thead>\n",
       "  <tbody>\n",
       "    <tr>\n",
       "      <th id=\"T_4487a_level0_row0\" class=\"row_heading level0 row0\" >0</th>\n",
       "      <td id=\"T_4487a_row0_col0\" class=\"data row0 col0\" >Logistic Regression</td>\n",
       "      <td id=\"T_4487a_row0_col1\" class=\"data row0 col1\" >0.831414</td>\n",
       "      <td id=\"T_4487a_row0_col2\" class=\"data row0 col2\" >0.675906</td>\n",
       "      <td id=\"T_4487a_row0_col3\" class=\"data row0 col3\" >0.738391</td>\n",
       "    </tr>\n",
       "    <tr>\n",
       "      <th id=\"T_4487a_level0_row1\" class=\"row_heading level0 row1\" >1</th>\n",
       "      <td id=\"T_4487a_row1_col0\" class=\"data row1 col0\" >Random Forest</td>\n",
       "      <td id=\"T_4487a_row1_col1\" class=\"data row1 col1\" >0.523560</td>\n",
       "      <td id=\"T_4487a_row1_col2\" class=\"data row1 col2\" >0.867642</td>\n",
       "      <td id=\"T_4487a_row1_col3\" class=\"data row1 col3\" >0.614688</td>\n",
       "    </tr>\n",
       "    <tr>\n",
       "      <th id=\"T_4487a_level0_row2\" class=\"row_heading level0 row2\" >2</th>\n",
       "      <td id=\"T_4487a_row2_col0\" class=\"data row2 col0\" >SVC</td>\n",
       "      <td id=\"T_4487a_row2_col1\" class=\"data row2 col1\" >0.692147</td>\n",
       "      <td id=\"T_4487a_row2_col2\" class=\"data row2 col2\" >0.795661</td>\n",
       "      <td id=\"T_4487a_row2_col3\" class=\"data row2 col3\" >0.738052</td>\n",
       "    </tr>\n",
       "    <tr>\n",
       "      <th id=\"T_4487a_level0_row3\" class=\"row_heading level0 row3\" >3</th>\n",
       "      <td id=\"T_4487a_row3_col0\" class=\"data row3 col0\" >XGBoost</td>\n",
       "      <td id=\"T_4487a_row3_col1\" class=\"data row3 col1\" >0.649215</td>\n",
       "      <td id=\"T_4487a_row3_col2\" class=\"data row3 col2\" >0.815298</td>\n",
       "      <td id=\"T_4487a_row3_col3\" class=\"data row3 col3\" >0.716522</td>\n",
       "    </tr>\n",
       "  </tbody>\n",
       "</table>\n"
      ],
      "text/plain": [
       "<pandas.io.formats.style.Styler at 0x19924127410>"
      ]
     },
     "execution_count": 105,
     "metadata": {},
     "output_type": "execute_result"
    }
   ],
   "source": [
    "results = []\n",
    "for model_name, model in models.items():\n",
    "\n",
    "    model = MultiOutputClassifier(model)\n",
    "\n",
    "    recall, precision, f1, _, _ = train_and_evaluate(model, X_train, y_train, X_test, y_test)\n",
    "    results.append({'Model': model_name,\n",
    "                    'Recall': recall,\n",
    "                    'Precision': precision,\n",
    "                    'F1 Score': f1})\n",
    "\n",
    "results_df = pd.DataFrame(results)\n",
    "results_df.style.highlight_max(subset=['Recall', 'Precision', 'F1 Score'], axis=0, color='lightgreen')"
   ]
  },
  {
   "cell_type": "markdown",
   "id": "f72d3932",
   "metadata": {},
   "source": [
    "### Conclusion\n",
    "\n",
    "Từ kết quả trên ta thấy mô hình Logistic Regression cho kết quả tốt nhất nên ta lựa chọn mô hình này cho phần Aspect detection"
   ]
  },
  {
   "cell_type": "code",
   "execution_count": 106,
   "id": "fb626f26",
   "metadata": {},
   "outputs": [
    {
     "data": {
      "image/png": "[encoded data removed]",
      "text/plain": [
       "<Figure size 1600x400 with 4 Axes>"
      ]
     },
     "metadata": {},
     "output_type": "display_data"
    }
   ],
   "source": [
    "model = MultiOutputClassifier(models['Logistic Regression'])\n",
    "_, _, _, y_test, y_pred = train_and_evaluate(model, X_train, y_train, X_test, y_test)\n",
    "cm_all = multilabel_confusion_matrix(y_test, y_pred)\n",
    "\n",
    "fig, axes = plt.subplots(1, 4, figsize=(16, 4))\n",
    "for i, aspect in enumerate(['price', 'quality', 'environment', 'service']):\n",
    "    cm = cm_all[i]\n",
    "    cm_df = pd.DataFrame(cm, index=['True 0', 'True 1'], columns=['Pred 0', 'Pred 1'])\n",
    "\n",
    "    ax = axes[i]\n",
    "    sns.heatmap(cm_df, annot=True, fmt='d', cmap='Blues', cbar=False, ax=ax)\n",
    "    ax.set_title(f'Aspect: {aspect}')\n",
    "    ax.set_xlabel('Predicted')\n",
    "    ax.set_ylabel('True')\n",
    "    ax.set_yticklabels(['True 0', 'True 1'], rotation=0)\n",
    "\n",
    "plt.tight_layout()\n",
    "plt.show()"
   ]
  },
  {
   "cell_type": "code",
   "execution_count": 107,
   "id": "617c800a",
   "metadata": {},
   "outputs": [
    {
     "data": {
      "image/png": "[encoded data removed]",
      "text/plain": [
       "<Figure size 1500x500 with 3 Axes>"
      ]
     },
     "metadata": {},
     "output_type": "display_data"
    }
   ],
   "source": [
    "#@title visualization (for ppt only)\n",
    "folds = np.arange(1, 6)\n",
    "x = np.arange(len(folds))  # [0, 1, 2, 3, 4]\n",
    "bar_width = 0.25\n",
    "\n",
    "f1_tfidf = np.array(f1_tfidf)\n",
    "precision_tfidf = np.array(precision_tfidf)\n",
    "recall_tfidf = np.array(recall_tfidf)\n",
    "\n",
    "f1_use = np.array(f1_use)\n",
    "precision_use = np.array(precision_use)\n",
    "recall_use = np.array(recall_use)\n",
    "\n",
    "f1_fastText = np.array(f1_fastText)\n",
    "precision_fastText = np.array(precision_fastText)\n",
    "recall_fastText = np.array(recall_fastText)\n",
    "\n",
    "plt.figure(figsize=(15, 5))\n",
    "\n",
    "# -------- TF-IDF --------\n",
    "plt.subplot(1, 3, 1)\n",
    "plt.bar(x - bar_width, f1_tfidf, width=bar_width, label='F1-score')\n",
    "plt.bar(x, precision_tfidf, width=bar_width, label='Precision')\n",
    "plt.bar(x + bar_width, recall_tfidf, width=bar_width, label='Recall')\n",
    "plt.title('TF-IDF across folds')\n",
    "plt.xlabel('Fold')\n",
    "plt.ylabel('Score')\n",
    "plt.xticks(x, [f'Fold {i}' for i in folds])\n",
    "plt.ylim(0, 1)\n",
    "plt.legend()\n",
    "\n",
    "# -------- USE --------\n",
    "plt.subplot(1, 3, 2)\n",
    "plt.bar(x - bar_width, f1_use, width=bar_width, label='F1-score')\n",
    "plt.bar(x, precision_use, width=bar_width, label='Precision')\n",
    "plt.bar(x + bar_width, recall_use, width=bar_width, label='Recall')\n",
    "plt.title('USE across folds')\n",
    "plt.xlabel('Fold')\n",
    "plt.ylabel('Score')\n",
    "plt.xticks(x, [f'Fold {i}' for i in folds])\n",
    "plt.ylim(0, 1)\n",
    "plt.legend()\n",
    "\n",
    "# -------- FAST_TEXT --------\n",
    "plt.subplot(1, 3, 3)\n",
    "plt.bar(x - bar_width, f1_fastText, width=bar_width, label='F1-score')\n",
    "plt.bar(x, precision_fastText, width=bar_width, label='Precision')\n",
    "plt.bar(x + bar_width, recall_fastText, width=bar_width, label='Recall')\n",
    "plt.title('FastText across folds')\n",
    "plt.xlabel('Fold')\n",
    "plt.ylabel('Score')\n",
    "plt.xticks(x, [f'Fold {i}' for i in folds])\n",
    "plt.ylim(0, 1)\n",
    "plt.legend()\n",
    "\n",
    "plt.tight_layout()\n",
    "plt.show()"
   ]
  }
 ],
 "metadata": {
  "kernelspec": {
   "display_name": "Python 3",
   "language": "python",
   "name": "python3"
  },
  "language_info": {
   "codemirror_mode": {
    "name": "ipython",
    "version": 3
   },
   "file_extension": ".py",
   "mimetype": "text/x-python",
   "name": "python",
   "nbconvert_exporter": "python",
   "pygments_lexer": "ipython3",
   "version": "3.12.5"
  }
 },
 "nbformat": 4,
 "nbformat_minor": 5
}
