{
 "cells": [
  {
   "cell_type": "markdown",
   "id": "79e00f1d",
   "metadata": {},
   "source": [
    "# Importing Required Libraries"
   ]
  },
  {
   "cell_type": "code",
   "execution_count": 51,
   "id": "8ec484b3",
   "metadata": {},
   "outputs": [],
   "source": [
    "import pandas as pd\n",
    "import numpy as np\n",
    "import seaborn as sns\n",
    "import matplotlib.pyplot as plt\n",
    "\n",
    "# Embedding\n",
    "from sklearn.feature_extraction.text import TfidfVectorizer\n",
    "from sklearn.feature_extraction.text import ENGLISH_STOP_WORDS\n",
    "from nltk.tokenize import sent_tokenize\n",
    "from gensim.models import KeyedVectors\n",
    "import tensorflow_hub as hub\n",
    "\n",
    "# Modeling\n",
    "from sklearn.multioutput import MultiOutputClassifier\n",
    "from sklearn.linear_model import LogisticRegression\n",
    "from sklearn.ensemble import RandomForestClassifier\n",
    "from sklearn.svm import LinearSVC\n",
    "from xgboost import XGBClassifier\n",
    "from sklearn.model_selection import KFold\n",
    "from sklearn.metrics import confusion_matrix, f1_score, recall_score, precision_score, multilabel_confusion_matrix\n",
    "from sklearn.model_selection import train_test_split\n",
    "from scipy import stats\n",
    "from statsmodels.stats.multicomp import pairwise_tukeyhsd"
   ]
  },
  {
   "cell_type": "markdown",
   "id": "621fd21b",
   "metadata": {},
   "source": [
    "# Data Loading and Data Analysis"
   ]
  },
  {
   "cell_type": "code",
   "execution_count": 52,
   "id": "2ecd978b",
   "metadata": {},
   "outputs": [
    {
     "data": {
      "text/html": [
       "<div>\n",
       "<style scoped>\n",
       "    .dataframe tbody tr th:only-of-type {\n",
       "        vertical-align: middle;\n",
       "    }\n",
       "\n",
       "    .dataframe tbody tr th {\n",
       "        vertical-align: top;\n",
       "    }\n",
       "\n",
       "    .dataframe thead th {\n",
       "        text-align: right;\n",
       "    }\n",
       "</style>\n",
       "<table border=\"1\" class=\"dataframe\">\n",
       "  <thead>\n",
       "    <tr style=\"text-align: right;\">\n",
       "      <th></th>\n",
       "      <th>id</th>\n",
       "      <th>sentence</th>\n",
       "      <th>price</th>\n",
       "      <th>quality</th>\n",
       "      <th>environment</th>\n",
       "      <th>service</th>\n",
       "      <th>other</th>\n",
       "    </tr>\n",
       "  </thead>\n",
       "  <tbody>\n",
       "    <tr>\n",
       "      <th>0</th>\n",
       "      <td>1</td>\n",
       "      <td>i ordered egg soft noodles from here they did ...</td>\n",
       "      <td>NaN</td>\n",
       "      <td>Negative</td>\n",
       "      <td>NaN</td>\n",
       "      <td>Negative</td>\n",
       "      <td>NaN</td>\n",
       "    </tr>\n",
       "    <tr>\n",
       "      <th>1</th>\n",
       "      <td>2</td>\n",
       "      <td>ice cream was good but it is totally got melt ...</td>\n",
       "      <td>NaN</td>\n",
       "      <td>Positive</td>\n",
       "      <td>NaN</td>\n",
       "      <td>Negative</td>\n",
       "      <td>NaN</td>\n",
       "    </tr>\n",
       "    <tr>\n",
       "      <th>2</th>\n",
       "      <td>2</td>\n",
       "      <td>he mentioned it as delivered as soon as he pic...</td>\n",
       "      <td>NaN</td>\n",
       "      <td>NaN</td>\n",
       "      <td>NaN</td>\n",
       "      <td>Negative</td>\n",
       "      <td>NaN</td>\n",
       "    </tr>\n",
       "    <tr>\n",
       "      <th>3</th>\n",
       "      <td>2</td>\n",
       "      <td>he took nearly forty five minutes to come</td>\n",
       "      <td>NaN</td>\n",
       "      <td>NaN</td>\n",
       "      <td>NaN</td>\n",
       "      <td>Negative</td>\n",
       "      <td>NaN</td>\n",
       "    </tr>\n",
       "    <tr>\n",
       "      <th>4</th>\n",
       "      <td>3</td>\n",
       "      <td>food was not good its from yesterdays food wit...</td>\n",
       "      <td>NaN</td>\n",
       "      <td>Negative</td>\n",
       "      <td>NaN</td>\n",
       "      <td>Negative</td>\n",
       "      <td>NaN</td>\n",
       "    </tr>\n",
       "  </tbody>\n",
       "</table>\n",
       "</div>"
      ],
      "text/plain": [
       "   id                                           sentence price   quality  \\\n",
       "0   1  i ordered egg soft noodles from here they did ...   NaN  Negative   \n",
       "1   2  ice cream was good but it is totally got melt ...   NaN  Positive   \n",
       "2   2  he mentioned it as delivered as soon as he pic...   NaN       NaN   \n",
       "3   2          he took nearly forty five minutes to come   NaN       NaN   \n",
       "4   3  food was not good its from yesterdays food wit...   NaN  Negative   \n",
       "\n",
       "  environment   service other  \n",
       "0         NaN  Negative   NaN  \n",
       "1         NaN  Negative   NaN  \n",
       "2         NaN  Negative   NaN  \n",
       "3         NaN  Negative   NaN  \n",
       "4         NaN  Negative   NaN  "
      ]
     },
     "execution_count": 52,
     "metadata": {},
     "output_type": "execute_result"
    }
   ],
   "source": [
    "df = pd.read_csv('data_after_preprocessing.csv')\n",
    "df.head()"
   ]
  },
  {
   "cell_type": "code",
   "execution_count": 53,
   "id": "91208bf3",
   "metadata": {},
   "outputs": [
    {
     "name": "stdout",
     "output_type": "stream",
     "text": [
      "<class 'pandas.core.frame.DataFrame'>\n",
      "RangeIndex: 5288 entries, 0 to 5287\n",
      "Data columns (total 7 columns):\n",
      " #   Column       Non-Null Count  Dtype \n",
      "---  ------       --------------  ----- \n",
      " 0   id           5288 non-null   int64 \n",
      " 1   sentence     5288 non-null   object\n",
      " 2   price        207 non-null    object\n",
      " 3   quality      2244 non-null   object\n",
      " 4   environment  590 non-null    object\n",
      " 5   service      1187 non-null   object\n",
      " 6   other        535 non-null    object\n",
      "dtypes: int64(1), object(6)\n",
      "memory usage: 289.3+ KB\n"
     ]
    }
   ],
   "source": [
    "df.info()"
   ]
  },
  {
   "cell_type": "markdown",
   "id": "bc254681",
   "metadata": {},
   "source": [
    "### Prepare data\n",
    "For X input, we use sentences where at least 1 aspect is regconized, so that the model can predict the sentiment for that aspect."
   ]
  },
  {
   "cell_type": "code",
   "execution_count": 54,
   "id": "8118bb5e",
   "metadata": {},
   "outputs": [
    {
     "data": {
      "text/html": [
       "<div>\n",
       "<style scoped>\n",
       "    .dataframe tbody tr th:only-of-type {\n",
       "        vertical-align: middle;\n",
       "    }\n",
       "\n",
       "    .dataframe tbody tr th {\n",
       "        vertical-align: top;\n",
       "    }\n",
       "\n",
       "    .dataframe thead th {\n",
       "        text-align: right;\n",
       "    }\n",
       "</style>\n",
       "<table border=\"1\" class=\"dataframe\">\n",
       "  <thead>\n",
       "    <tr style=\"text-align: right;\">\n",
       "      <th></th>\n",
       "      <th>sentence</th>\n",
       "      <th>sentiment</th>\n",
       "    </tr>\n",
       "  </thead>\n",
       "  <tbody>\n",
       "    <tr>\n",
       "      <th>0</th>\n",
       "      <td>i ordered egg soft noodles from here they did ...</td>\n",
       "      <td>Negative</td>\n",
       "    </tr>\n",
       "    <tr>\n",
       "      <th>1</th>\n",
       "      <td>i ordered egg soft noodles from here they did ...</td>\n",
       "      <td>Negative</td>\n",
       "    </tr>\n",
       "    <tr>\n",
       "      <th>2</th>\n",
       "      <td>ice cream was good but it is totally got melt ...</td>\n",
       "      <td>Positive</td>\n",
       "    </tr>\n",
       "    <tr>\n",
       "      <th>3</th>\n",
       "      <td>ice cream was good but it is totally got melt ...</td>\n",
       "      <td>Negative</td>\n",
       "    </tr>\n",
       "    <tr>\n",
       "      <th>4</th>\n",
       "      <td>he mentioned it as delivered as soon as he pic...</td>\n",
       "      <td>Negative</td>\n",
       "    </tr>\n",
       "  </tbody>\n",
       "</table>\n",
       "</div>"
      ],
      "text/plain": [
       "                                            sentence sentiment\n",
       "0  i ordered egg soft noodles from here they did ...  Negative\n",
       "1  i ordered egg soft noodles from here they did ...  Negative\n",
       "2  ice cream was good but it is totally got melt ...  Positive\n",
       "3  ice cream was good but it is totally got melt ...  Negative\n",
       "4  he mentioned it as delivered as soon as he pic...  Negative"
      ]
     },
     "execution_count": 54,
     "metadata": {},
     "output_type": "execute_result"
    }
   ],
   "source": [
    "aspects = ['price', 'quality', 'environment', 'service', 'other']\n",
    "\n",
    "records = []\n",
    "for idx, row in df.iterrows():\n",
    "    for aspect in aspects:\n",
    "        if pd.notna(row[aspect]):\n",
    "            records.append({\n",
    "                'sentence': row['sentence'] + ' [ASP] ' + aspect,\n",
    "                'sentiment': row[aspect]\n",
    "            })\n",
    "df_sentiment = pd.DataFrame(records)\n",
    "df_sentiment.head()"
   ]
  },
  {
   "cell_type": "code",
   "execution_count": 55,
   "id": "7acbc8d5",
   "metadata": {},
   "outputs": [
    {
     "data": {
      "text/plain": [
       "0       i ordered egg soft noodles from here they did ...\n",
       "1       i ordered egg soft noodles from here they did ...\n",
       "2       ice cream was good but it is totally got melt ...\n",
       "3       ice cream was good but it is totally got melt ...\n",
       "4       he mentioned it as delivered as soon as he pic...\n",
       "                              ...                        \n",
       "4758    my overall experience was amazing chef but mes...\n",
       "4759    i would like to mention that every staff membe...\n",
       "4760                loved their hospitality [ASP] service\n",
       "4761    i would definitely recommend this place to hav...\n",
       "4762    i would definitely recommend this place to hav...\n",
       "Name: sentence, Length: 4763, dtype: object"
      ]
     },
     "execution_count": 55,
     "metadata": {},
     "output_type": "execute_result"
    }
   ],
   "source": [
    "X = df_sentiment['sentence']\n",
    "y = df_sentiment['sentiment'].map({'Positive': 1, 'Negative': 0, 'Neutral': 2})\n",
    "X"
   ]
  },
  {
   "cell_type": "markdown",
   "id": "ca52df6c",
   "metadata": {},
   "source": [
    "Differences between input for Aspect-Regconition and ABSA:\n",
    "- Aspect-Regconition: 5288 rows, included sentences with no aspects\n",
    "- ABSA: 4761 rows, aspect-regconized sentences"
   ]
  },
  {
   "cell_type": "markdown",
   "id": "fd391478",
   "metadata": {},
   "source": [
    "### Data Analysis"
   ]
  },
  {
   "cell_type": "code",
   "execution_count": 56,
   "id": "458f0f18",
   "metadata": {},
   "outputs": [
    {
     "data": {
      "text/plain": [
       "sentiment\n",
       "Negative    2471\n",
       "Positive    2018\n",
       "Neutral      274\n",
       "Name: count, dtype: int64"
      ]
     },
     "execution_count": 56,
     "metadata": {},
     "output_type": "execute_result"
    }
   ],
   "source": [
    "df_sentiment['sentiment'].value_counts()"
   ]
  },
  {
   "cell_type": "code",
   "execution_count": 57,
   "id": "f76e0b48",
   "metadata": {},
   "outputs": [
    {
     "data": {
      "text/plain": [
       "<Axes: ylabel='count'>"
      ]
     },
     "execution_count": 57,
     "metadata": {},
     "output_type": "execute_result"
    },
    {
     "data": {
      "image/png": "[encoded data removed]",
      "text/plain": [
       "<Figure size 500x500 with 1 Axes>"
      ]
     },
     "metadata": {},
     "output_type": "display_data"
    }
   ],
   "source": [
    "colors = ['#C2C2F0', '#99FF99', '#FFCC99']\n",
    "df_sentiment['sentiment'].value_counts().plot(\n",
    "    kind='pie',\n",
    "    autopct='%1.1f%%',\n",
    "    figsize=(5, 5),\n",
    "    colors=colors \n",
    ")"
   ]
  },
  {
   "cell_type": "code",
   "execution_count": 58,
   "id": "066914ab",
   "metadata": {},
   "outputs": [],
   "source": [
    "records = []\n",
    "for idx, row in df.iterrows():\n",
    "    for aspect in aspects:\n",
    "        if pd.notna(row[aspect]):\n",
    "            records.append({\n",
    "                'sentence': row['sentence'],\n",
    "                'aspect': aspect,\n",
    "                'sentiment': row[aspect]\n",
    "            })\n",
    "aspect_sentiment = pd.DataFrame(records)"
   ]
  },
  {
   "cell_type": "code",
   "execution_count": 59,
   "id": "5a6f1eea",
   "metadata": {},
   "outputs": [
    {
     "data": {
      "image/png": "[encoded data removed]",
      "text/plain": [
       "<Figure size 700x300 with 1 Axes>"
      ]
     },
     "metadata": {},
     "output_type": "display_data"
    }
   ],
   "source": [
    "sentiment_counts = aspect_sentiment.groupby(['aspect', 'sentiment']).size().reset_index(name='count')\n",
    "\n",
    "pivot_df = sentiment_counts.pivot(index='aspect', columns='sentiment', values='count').fillna(0).astype(int)\n",
    "\n",
    "sentiments = ['Positive', 'Negative', 'Neutral']\n",
    "colors = ['#66B3FF', '#99FF99', '#FFCC99'] \n",
    "labels = ['Negative', 'Neutral', 'Positive']\n",
    "\n",
    "# Sắp xếp aspect theo aspect_cols\n",
    "pivot_df = pivot_df.reindex(aspects)\n",
    "pivot_df = pivot_df[sentiments]\n",
    "pivot_df.plot(kind='bar', figsize=(7, 3), color=colors)\n",
    "\n",
    "plt.xlabel(\"Aspect\")\n",
    "plt.ylabel(\"Count\")\n",
    "plt.legend(labels, title=\"Sentiment\")\n",
    "plt.xticks(rotation=0)\n",
    "plt.tight_layout()\n",
    "plt.show()"
   ]
  },
  {
   "cell_type": "markdown",
   "id": "a13be5c3",
   "metadata": {},
   "source": [
    "# Embedding"
   ]
  },
  {
   "cell_type": "markdown",
   "id": "89525105",
   "metadata": {},
   "source": [
    "### TF-IDF"
   ]
  },
  {
   "cell_type": "code",
   "execution_count": 60,
   "id": "b70b7d42",
   "metadata": {},
   "outputs": [],
   "source": [
    "keep_words = [\n",
    "    # Negative words\n",
    "    'not', 'no', 'none', 'never', 'nothing', 'nobody', 'nowhere', 'neither', 'without',\n",
    "    'cannot', 'cant', 'couldnt', 'hasnt', 'nor',\n",
    "\n",
    "    # Adjective/Adverb\n",
    "    'well', 'interest',\n",
    "\n",
    "    # Numerous\n",
    "    'one', 'two', 'three', 'four', 'five', 'six', 'eight', 'nine', 'ten',\n",
    "    'eleven', 'twelve', 'fifteen', 'twenty', 'forty', 'fifty', 'sixty',\n",
    "    'hundred'\n",
    "]\n",
    "custom_stopwords = list(ENGLISH_STOP_WORDS.difference(keep_words))"
   ]
  },
  {
   "cell_type": "code",
   "execution_count": 61,
   "id": "c3ed913f",
   "metadata": {},
   "outputs": [],
   "source": [
    "vectorizer = TfidfVectorizer(max_features=3000, stop_words=custom_stopwords)\n",
    "\n",
    "def fit_tfidf(X_train_text):\n",
    "    vectorizer.fit(X_train_text)\n",
    "\n",
    "def transform_tfidf(X_text):\n",
    "    return vectorizer.transform(X_text).toarray()"
   ]
  },
  {
   "cell_type": "markdown",
   "id": "4cc33b2b",
   "metadata": {},
   "source": [
    "### USE"
   ]
  },
  {
   "cell_type": "code",
   "execution_count": 62,
   "id": "41e3f838",
   "metadata": {},
   "outputs": [
    {
     "name": "stdout",
     "output_type": "stream",
     "text": [
      "module https://tfhub.dev/google/universal-sentence-encoder/4 loaded\n"
     ]
    }
   ],
   "source": [
    "module_url = \"https://tfhub.dev/google/universal-sentence-encoder/4\" #@param [\"https://tfhub.dev/google/universal-sentence-encoder/4\", \"https://tfhub.dev/google/universal-sentence-encoder-large/5\"]\n",
    "use_model = hub.load(module_url)\n",
    "print (\"module %s loaded\" % module_url)\n",
    "def embed_USE(input):\n",
    "    return np.array(use_model(input))"
   ]
  },
  {
   "cell_type": "markdown",
   "id": "26c0cd66",
   "metadata": {},
   "source": [
    "### FastText"
   ]
  },
  {
   "cell_type": "code",
   "execution_count": 63,
   "id": "c9ee2b57",
   "metadata": {},
   "outputs": [],
   "source": [
    "fastText_model = KeyedVectors.load_word2vec_format(\"wiki-news-300d-1M.vec\", binary=False)"
   ]
  },
  {
   "cell_type": "code",
   "execution_count": 64,
   "id": "51ef2885",
   "metadata": {},
   "outputs": [],
   "source": [
    "def sentence_to_vector(sentence):\n",
    "    words = sentence.split()\n",
    "    filtered_words = [w for w in words if w not in custom_stopwords]\n",
    "    word_vectors = [fastText_model[w] for w in filtered_words if w in fastText_model]\n",
    "    if not word_vectors:\n",
    "        return np.zeros(fastText_model.vector_size)\n",
    "    return np.mean(word_vectors, axis=0)"
   ]
  },
  {
   "cell_type": "code",
   "execution_count": 65,
   "id": "1855f780",
   "metadata": {},
   "outputs": [],
   "source": [
    "def embed_fastText(input):\n",
    "    vectors = input.apply(sentence_to_vector)\n",
    "    return np.vstack(vectors.values)"
   ]
  },
  {
   "cell_type": "markdown",
   "id": "8be0a2e2",
   "metadata": {},
   "source": [
    "# Define models"
   ]
  },
  {
   "cell_type": "code",
   "execution_count": 66,
   "id": "53a056c0",
   "metadata": {},
   "outputs": [],
   "source": [
    "models = {\n",
    "      \"Logistic Regression\": LogisticRegression(max_iter=1000, class_weight='balanced'),\n",
    "      \"Random Forest\": RandomForestClassifier(n_estimators=100, random_state=42, n_jobs=-1),\n",
    "      \"SVC\": LinearSVC(max_iter=1000, random_state=42),\n",
    "      \"XGBoost\": XGBClassifier(use_label_encoder=False, eval_metric=\"logloss\", verbosity=0)\n",
    "}"
   ]
  },
  {
   "cell_type": "code",
   "execution_count": 67,
   "id": "2f34fe7c",
   "metadata": {},
   "outputs": [],
   "source": [
    "def train_and_evaluate(model, X_train, y_train, X_test, y_test):\n",
    "    model.fit(X_train, y_train)\n",
    "    y_pred = model.predict(X_test)\n",
    "\n",
    "    recall, precision, f1 = (\n",
    "        recall_score(y_test, y_pred, average='weighted', zero_division=0),\n",
    "        precision_score(y_test, y_pred, average='weighted', zero_division=0),\n",
    "        f1_score(y_test, y_pred, average='weighted', zero_division=0)\n",
    "    )\n",
    "    return recall, precision, f1, y_test, y_pred"
   ]
  },
  {
   "cell_type": "code",
   "execution_count": 68,
   "id": "e829bd23",
   "metadata": {},
   "outputs": [],
   "source": [
    "def experiment_with_kfold(X, y, embedding, model):\n",
    "  kf = KFold(n_splits=5, shuffle=True)\n",
    "  recalls, precisions, f1s = [], [], []\n",
    "\n",
    "  for fold, (train_idx, test_idx) in enumerate(kf.split(X), 1):\n",
    "    X_train, X_test = X.iloc[train_idx], X.iloc[test_idx]\n",
    "    y_train, y_test = y.iloc[train_idx], y.iloc[test_idx]\n",
    "\n",
    "    if embedding == 'TF-IDF':\n",
    "      fit_tfidf(X_train)\n",
    "      X_train = transform_tfidf(X_train)\n",
    "      X_test = transform_tfidf(X_test)\n",
    "\n",
    "    if embedding == 'USE':\n",
    "      X_train, X_test = embed_USE(X_train), embed_USE(X_test)\n",
    "\n",
    "    if embedding == 'FAST_TEXT':\n",
    "      X_train, X_test = embed_fastText(X_train), embed_fastText(X_test)\n",
    "\n",
    "    recall, precision, f1, _, _ = train_and_evaluate(model, X_train, y_train, X_test, y_test)\n",
    "    recalls.append(recall)\n",
    "    precisions.append(precision)\n",
    "    f1s.append(f1)\n",
    "\n",
    "  return recalls, precisions, f1s"
   ]
  },
  {
   "cell_type": "markdown",
   "id": "8d1aef4f",
   "metadata": {},
   "source": [
    "## Experiment"
   ]
  },
  {
   "cell_type": "code",
   "execution_count": 69,
   "id": "566eb849",
   "metadata": {},
   "outputs": [],
   "source": [
    "base_model = models['Logistic Regression']\n",
    "Tfidf = experiment_with_kfold(X, y, 'TF-IDF', base_model)\n",
    "use = experiment_with_kfold(X, y, 'USE', base_model)\n",
    "fastText = experiment_with_kfold(X, y, 'FAST_TEXT', base_model)"
   ]
  },
  {
   "cell_type": "code",
   "execution_count": 70,
   "id": "2365b2cb",
   "metadata": {},
   "outputs": [
    {
     "data": {
      "text/html": [
       "<style type=\"text/css\">\n",
       "#T_6d716_row4_col0, #T_6d716_row4_col1, #T_6d716_row4_col2 {\n",
       "  background-color: lightgreen;\n",
       "}\n",
       "</style>\n",
       "<table id=\"T_6d716\">\n",
       "  <thead>\n",
       "    <tr>\n",
       "      <th class=\"blank level0\" >&nbsp;</th>\n",
       "      <th id=\"T_6d716_level0_col0\" class=\"col_heading level0 col0\" >Recall</th>\n",
       "      <th id=\"T_6d716_level0_col1\" class=\"col_heading level0 col1\" >Precision</th>\n",
       "      <th id=\"T_6d716_level0_col2\" class=\"col_heading level0 col2\" >F1 Score</th>\n",
       "    </tr>\n",
       "  </thead>\n",
       "  <tbody>\n",
       "    <tr>\n",
       "      <th id=\"T_6d716_level0_row0\" class=\"row_heading level0 row0\" >Fold 1</th>\n",
       "      <td id=\"T_6d716_row0_col0\" class=\"data row0 col0\" >0.775446</td>\n",
       "      <td id=\"T_6d716_row0_col1\" class=\"data row0 col1\" >0.795296</td>\n",
       "      <td id=\"T_6d716_row0_col2\" class=\"data row0 col2\" >0.784049</td>\n",
       "    </tr>\n",
       "    <tr>\n",
       "      <th id=\"T_6d716_level0_row1\" class=\"row_heading level0 row1\" >Fold 2</th>\n",
       "      <td id=\"T_6d716_row1_col0\" class=\"data row1 col0\" >0.759706</td>\n",
       "      <td id=\"T_6d716_row1_col1\" class=\"data row1 col1\" >0.792128</td>\n",
       "      <td id=\"T_6d716_row1_col2\" class=\"data row1 col2\" >0.773019</td>\n",
       "    </tr>\n",
       "    <tr>\n",
       "      <th id=\"T_6d716_level0_row2\" class=\"row_heading level0 row2\" >Fold 3</th>\n",
       "      <td id=\"T_6d716_row2_col0\" class=\"data row2 col0\" >0.768101</td>\n",
       "      <td id=\"T_6d716_row2_col1\" class=\"data row2 col1\" >0.810554</td>\n",
       "      <td id=\"T_6d716_row2_col2\" class=\"data row2 col2\" >0.785770</td>\n",
       "    </tr>\n",
       "    <tr>\n",
       "      <th id=\"T_6d716_level0_row3\" class=\"row_heading level0 row3\" >Fold 4</th>\n",
       "      <td id=\"T_6d716_row3_col0\" class=\"data row3 col0\" >0.772059</td>\n",
       "      <td id=\"T_6d716_row3_col1\" class=\"data row3 col1\" >0.802208</td>\n",
       "      <td id=\"T_6d716_row3_col2\" class=\"data row3 col2\" >0.784152</td>\n",
       "    </tr>\n",
       "    <tr>\n",
       "      <th id=\"T_6d716_level0_row4\" class=\"row_heading level0 row4\" >Fold 5</th>\n",
       "      <td id=\"T_6d716_row4_col0\" class=\"data row4 col0\" >0.776261</td>\n",
       "      <td id=\"T_6d716_row4_col1\" class=\"data row4 col1\" >0.818783</td>\n",
       "      <td id=\"T_6d716_row4_col2\" class=\"data row4 col2\" >0.793203</td>\n",
       "    </tr>\n",
       "  </tbody>\n",
       "</table>\n"
      ],
      "text/plain": [
       "<pandas.io.formats.style.Styler at 0x1d2b6e0fa40>"
      ]
     },
     "execution_count": 70,
     "metadata": {},
     "output_type": "execute_result"
    }
   ],
   "source": [
    "results_Tfidf = (pd.DataFrame(Tfidf)).T\n",
    "results_Tfidf.index = ['Fold 1', 'Fold 2', 'Fold 3', 'Fold 4', 'Fold 5']\n",
    "results_Tfidf.columns = ['Recall', 'Precision', 'F1 Score']\n",
    "results_Tfidf.style.highlight_max(axis=0, color='lightgreen')"
   ]
  },
  {
   "cell_type": "code",
   "execution_count": 71,
   "id": "b49eacfa",
   "metadata": {},
   "outputs": [
    {
     "data": {
      "text/html": [
       "<style type=\"text/css\">\n",
       "#T_fb9f3_row2_col0, #T_fb9f3_row2_col1, #T_fb9f3_row2_col2 {\n",
       "  background-color: lightgreen;\n",
       "}\n",
       "</style>\n",
       "<table id=\"T_fb9f3\">\n",
       "  <thead>\n",
       "    <tr>\n",
       "      <th class=\"blank level0\" >&nbsp;</th>\n",
       "      <th id=\"T_fb9f3_level0_col0\" class=\"col_heading level0 col0\" >Recall</th>\n",
       "      <th id=\"T_fb9f3_level0_col1\" class=\"col_heading level0 col1\" >Precision</th>\n",
       "      <th id=\"T_fb9f3_level0_col2\" class=\"col_heading level0 col2\" >F1 Score</th>\n",
       "    </tr>\n",
       "  </thead>\n",
       "  <tbody>\n",
       "    <tr>\n",
       "      <th id=\"T_fb9f3_level0_row0\" class=\"row_heading level0 row0\" >Fold 1</th>\n",
       "      <td id=\"T_fb9f3_row0_col0\" class=\"data row0 col0\" >0.763903</td>\n",
       "      <td id=\"T_fb9f3_row0_col1\" class=\"data row0 col1\" >0.826302</td>\n",
       "      <td id=\"T_fb9f3_row0_col2\" class=\"data row0 col2\" >0.789303</td>\n",
       "    </tr>\n",
       "    <tr>\n",
       "      <th id=\"T_fb9f3_level0_row1\" class=\"row_heading level0 row1\" >Fold 2</th>\n",
       "      <td id=\"T_fb9f3_row1_col0\" class=\"data row1 col0\" >0.773347</td>\n",
       "      <td id=\"T_fb9f3_row1_col1\" class=\"data row1 col1\" >0.841598</td>\n",
       "      <td id=\"T_fb9f3_row1_col2\" class=\"data row1 col2\" >0.800510</td>\n",
       "    </tr>\n",
       "    <tr>\n",
       "      <th id=\"T_fb9f3_level0_row2\" class=\"row_heading level0 row2\" >Fold 3</th>\n",
       "      <td id=\"T_fb9f3_row2_col0\" class=\"data row2 col0\" >0.784890</td>\n",
       "      <td id=\"T_fb9f3_row2_col1\" class=\"data row2 col1\" >0.844665</td>\n",
       "      <td id=\"T_fb9f3_row2_col2\" class=\"data row2 col2\" >0.808306</td>\n",
       "    </tr>\n",
       "    <tr>\n",
       "      <th id=\"T_fb9f3_level0_row3\" class=\"row_heading level0 row3\" >Fold 4</th>\n",
       "      <td id=\"T_fb9f3_row3_col0\" class=\"data row3 col0\" >0.758403</td>\n",
       "      <td id=\"T_fb9f3_row3_col1\" class=\"data row3 col1\" >0.816282</td>\n",
       "      <td id=\"T_fb9f3_row3_col2\" class=\"data row3 col2\" >0.781126</td>\n",
       "    </tr>\n",
       "    <tr>\n",
       "      <th id=\"T_fb9f3_level0_row4\" class=\"row_heading level0 row4\" >Fold 5</th>\n",
       "      <td id=\"T_fb9f3_row4_col0\" class=\"data row4 col0\" >0.762605</td>\n",
       "      <td id=\"T_fb9f3_row4_col1\" class=\"data row4 col1\" >0.838511</td>\n",
       "      <td id=\"T_fb9f3_row4_col2\" class=\"data row4 col2\" >0.792674</td>\n",
       "    </tr>\n",
       "  </tbody>\n",
       "</table>\n"
      ],
      "text/plain": [
       "<pandas.io.formats.style.Styler at 0x1d1c341cb30>"
      ]
     },
     "execution_count": 71,
     "metadata": {},
     "output_type": "execute_result"
    }
   ],
   "source": [
    "results_USE = (pd.DataFrame(use)).T\n",
    "results_USE.index = ['Fold 1', 'Fold 2', 'Fold 3', 'Fold 4', 'Fold 5']\n",
    "results_USE.columns = ['Recall', 'Precision', 'F1 Score']\n",
    "results_USE.style.highlight_max(axis=0, color='lightgreen')"
   ]
  },
  {
   "cell_type": "code",
   "execution_count": 72,
   "id": "9a3db6ef",
   "metadata": {},
   "outputs": [
    {
     "data": {
      "text/html": [
       "<style type=\"text/css\">\n",
       "#T_55c72_row0_col0, #T_55c72_row0_col1, #T_55c72_row0_col2 {\n",
       "  background-color: lightgreen;\n",
       "}\n",
       "</style>\n",
       "<table id=\"T_55c72\">\n",
       "  <thead>\n",
       "    <tr>\n",
       "      <th class=\"blank level0\" >&nbsp;</th>\n",
       "      <th id=\"T_55c72_level0_col0\" class=\"col_heading level0 col0\" >Recall</th>\n",
       "      <th id=\"T_55c72_level0_col1\" class=\"col_heading level0 col1\" >Precision</th>\n",
       "      <th id=\"T_55c72_level0_col2\" class=\"col_heading level0 col2\" >F1 Score</th>\n",
       "    </tr>\n",
       "  </thead>\n",
       "  <tbody>\n",
       "    <tr>\n",
       "      <th id=\"T_55c72_level0_row0\" class=\"row_heading level0 row0\" >Fold 1</th>\n",
       "      <td id=\"T_55c72_row0_col0\" class=\"data row0 col0\" >0.763903</td>\n",
       "      <td id=\"T_55c72_row0_col1\" class=\"data row0 col1\" >0.825174</td>\n",
       "      <td id=\"T_55c72_row0_col2\" class=\"data row0 col2\" >0.788380</td>\n",
       "    </tr>\n",
       "    <tr>\n",
       "      <th id=\"T_55c72_level0_row1\" class=\"row_heading level0 row1\" >Fold 2</th>\n",
       "      <td id=\"T_55c72_row1_col0\" class=\"data row1 col0\" >0.743966</td>\n",
       "      <td id=\"T_55c72_row1_col1\" class=\"data row1 col1\" >0.804568</td>\n",
       "      <td id=\"T_55c72_row1_col2\" class=\"data row1 col2\" >0.765712</td>\n",
       "    </tr>\n",
       "    <tr>\n",
       "      <th id=\"T_55c72_level0_row2\" class=\"row_heading level0 row2\" >Fold 3</th>\n",
       "      <td id=\"T_55c72_row2_col0\" class=\"data row2 col0\" >0.734523</td>\n",
       "      <td id=\"T_55c72_row2_col1\" class=\"data row2 col1\" >0.807925</td>\n",
       "      <td id=\"T_55c72_row2_col2\" class=\"data row2 col2\" >0.765314</td>\n",
       "    </tr>\n",
       "    <tr>\n",
       "      <th id=\"T_55c72_level0_row3\" class=\"row_heading level0 row3\" >Fold 4</th>\n",
       "      <td id=\"T_55c72_row3_col0\" class=\"data row3 col0\" >0.739496</td>\n",
       "      <td id=\"T_55c72_row3_col1\" class=\"data row3 col1\" >0.810531</td>\n",
       "      <td id=\"T_55c72_row3_col2\" class=\"data row3 col2\" >0.767645</td>\n",
       "    </tr>\n",
       "    <tr>\n",
       "      <th id=\"T_55c72_level0_row4\" class=\"row_heading level0 row4\" >Fold 5</th>\n",
       "      <td id=\"T_55c72_row4_col0\" class=\"data row4 col0\" >0.731092</td>\n",
       "      <td id=\"T_55c72_row4_col1\" class=\"data row4 col1\" >0.794492</td>\n",
       "      <td id=\"T_55c72_row4_col2\" class=\"data row4 col2\" >0.755955</td>\n",
       "    </tr>\n",
       "  </tbody>\n",
       "</table>\n"
      ],
      "text/plain": [
       "<pandas.io.formats.style.Styler at 0x1d2b6ae1f10>"
      ]
     },
     "execution_count": 72,
     "metadata": {},
     "output_type": "execute_result"
    }
   ],
   "source": [
    "results_FAST_TEXT = (pd.DataFrame(fastText)).T\n",
    "results_FAST_TEXT.index = ['Fold 1', 'Fold 2', 'Fold 3', 'Fold 4', 'Fold 5']\n",
    "results_FAST_TEXT.columns = ['Recall', 'Precision', 'F1 Score']\n",
    "results_FAST_TEXT.style.highlight_max(axis=0, color='lightgreen')"
   ]
  },
  {
   "cell_type": "markdown",
   "id": "451317d1",
   "metadata": {},
   "source": [
    "**Ở phần này, ta cần chú trọng kết quả Precision để tránh việc dự đoán sai nhãn**"
   ]
  },
  {
   "cell_type": "code",
   "execution_count": 73,
   "id": "22e9c520",
   "metadata": {},
   "outputs": [
    {
     "name": "stdout",
     "output_type": "stream",
     "text": [
      "F-statistic: 9.90904\n",
      "p-value: 0.00288\n"
     ]
    }
   ],
   "source": [
    "recall_tfidf, precision_tfidf, f1_tfidf = Tfidf\n",
    "recall_use, precision_use, f1_use = use\n",
    "recall_fastText, precision_fastText, f1_fastText = fastText\n",
    "\n",
    "f_stat, p_val = stats.f_oneway(precision_tfidf, precision_use, precision_fastText)\n",
    "print(f\"F-statistic: {f_stat:.5f}\")\n",
    "print(f\"p-value: {p_val:.5f}\")"
   ]
  },
  {
   "cell_type": "markdown",
   "id": "158737cc",
   "metadata": {},
   "source": [
    "Vì p-value < 0.05, ta có thể kết luận rằng sự khác biệt này là có ý nghĩa thống kê.\n",
    "\n",
    "Tiếp điến ta tiến hành kiểm nghiệm giữa từng cặp phương pháp embedding"
   ]
  },
  {
   "cell_type": "code",
   "execution_count": 74,
   "id": "76ad32ea",
   "metadata": {},
   "outputs": [
    {
     "name": "stdout",
     "output_type": "stream",
     "text": [
      "\n",
      "Tukey HSD kết quả:\n",
      " Multiple Comparison of Means - Tukey HSD, FWER=0.05  \n",
      "======================================================\n",
      "  group1  group2 meandiff p-adj   lower  upper  reject\n",
      "------------------------------------------------------\n",
      "FAST_TEXT TF-IDF  -0.0047  0.789 -0.0239 0.0144  False\n",
      "FAST_TEXT    USE   0.0249 0.0117  0.0058  0.044   True\n",
      "   TF-IDF    USE   0.0297 0.0036  0.0106 0.0488   True\n",
      "------------------------------------------------------\n",
      "\n",
      "Phương pháp có precision trung bình cao nhất: USE\n",
      "method\n",
      "USE          0.833471\n",
      "FAST_TEXT    0.808538\n",
      "TF-IDF       0.803794\n",
      "Name: Precision, dtype: float64\n"
     ]
    }
   ],
   "source": [
    "scores = precision_tfidf + precision_use + precision_fastText\n",
    "methods = ['TF-IDF'] * len(precision_tfidf) + ['USE'] * len(precision_use) + ['FAST_TEXT'] * len(precision_fastText)\n",
    "\n",
    "tukey_df = pd.DataFrame({'Precision': scores, 'method': methods})\n",
    "\n",
    "tukey = pairwise_tukeyhsd(endog=tukey_df['Precision'], groups=tukey_df['method'], alpha=0.05)\n",
    "print(\"\\nTukey HSD kết quả:\")\n",
    "print(tukey)\n",
    "\n",
    "mean_scores = tukey_df.groupby('method')['Precision'].mean().sort_values(ascending=False)\n",
    "print(\"\\nPhương pháp có precision trung bình cao nhất:\", mean_scores.index[0])\n",
    "print(mean_scores)"
   ]
  },
  {
   "cell_type": "markdown",
   "id": "9d25339c",
   "metadata": {},
   "source": [
    "Kết quả kiểm định hậu nghiệm Tukey HSD cho thấy sự khác biệt giữa USE và hai phương pháp embedding còn lại có ý nghĩa thống kê.\n",
    "\n",
    "-  USE và TF-IDF: p = 0.0036\n",
    "-  USE và FastText: p = 0.0117\n",
    "\n",
    "Trong khi đó, không có sự khác biệt rõ rệt giữa fastText và TF-IDF (p = 0.789). \n",
    "\n",
    "Với kết quả precision trung bình đạt 0.8335, **USE** được xem là phương pháp embedding hiệu quả nhất về mặt precision cho bài toán hiện tại."
   ]
  },
  {
   "cell_type": "markdown",
   "id": "5145f48c",
   "metadata": {},
   "source": [
    "## Modeling\n",
    "USE"
   ]
  },
  {
   "cell_type": "code",
   "execution_count": 84,
   "id": "359bc7a6",
   "metadata": {},
   "outputs": [],
   "source": [
    "X_train, X_test, y_train, y_test = train_test_split(X, y, test_size=0.2, random_state=45)\n",
    "X_train, X_test = embed_USE(X_train), embed_USE(X_test)"
   ]
  },
  {
   "cell_type": "code",
   "execution_count": 85,
   "id": "327328b4",
   "metadata": {},
   "outputs": [
    {
     "data": {
      "text/html": [
       "<style type=\"text/css\">\n",
       "#T_8ef73_row0_col2, #T_8ef73_row2_col1, #T_8ef73_row2_col3 {\n",
       "  background-color: lightgreen;\n",
       "}\n",
       "</style>\n",
       "<table id=\"T_8ef73\">\n",
       "  <thead>\n",
       "    <tr>\n",
       "      <th class=\"blank level0\" >&nbsp;</th>\n",
       "      <th id=\"T_8ef73_level0_col0\" class=\"col_heading level0 col0\" >Model</th>\n",
       "      <th id=\"T_8ef73_level0_col1\" class=\"col_heading level0 col1\" >Recall</th>\n",
       "      <th id=\"T_8ef73_level0_col2\" class=\"col_heading level0 col2\" >Precision</th>\n",
       "      <th id=\"T_8ef73_level0_col3\" class=\"col_heading level0 col3\" >F1 Score</th>\n",
       "    </tr>\n",
       "  </thead>\n",
       "  <tbody>\n",
       "    <tr>\n",
       "      <th id=\"T_8ef73_level0_row0\" class=\"row_heading level0 row0\" >0</th>\n",
       "      <td id=\"T_8ef73_row0_col0\" class=\"data row0 col0\" >Logistic Regression</td>\n",
       "      <td id=\"T_8ef73_row0_col1\" class=\"data row0 col1\" >0.774397</td>\n",
       "      <td id=\"T_8ef73_row0_col2\" class=\"data row0 col2\" >0.860294</td>\n",
       "      <td id=\"T_8ef73_row0_col3\" class=\"data row0 col3\" >0.808541</td>\n",
       "    </tr>\n",
       "    <tr>\n",
       "      <th id=\"T_8ef73_level0_row1\" class=\"row_heading level0 row1\" >1</th>\n",
       "      <td id=\"T_8ef73_row1_col0\" class=\"data row1 col0\" >Random Forest</td>\n",
       "      <td id=\"T_8ef73_row1_col1\" class=\"data row1 col1\" >0.835257</td>\n",
       "      <td id=\"T_8ef73_row1_col2\" class=\"data row1 col2\" >0.813208</td>\n",
       "      <td id=\"T_8ef73_row1_col3\" class=\"data row1 col3\" >0.816426</td>\n",
       "    </tr>\n",
       "    <tr>\n",
       "      <th id=\"T_8ef73_level0_row2\" class=\"row_heading level0 row2\" >2</th>\n",
       "      <td id=\"T_8ef73_row2_col0\" class=\"data row2 col0\" >SVC</td>\n",
       "      <td id=\"T_8ef73_row2_col1\" class=\"data row2 col1\" >0.852046</td>\n",
       "      <td id=\"T_8ef73_row2_col2\" class=\"data row2 col2\" >0.841046</td>\n",
       "      <td id=\"T_8ef73_row2_col3\" class=\"data row2 col3\" >0.835621</td>\n",
       "    </tr>\n",
       "    <tr>\n",
       "      <th id=\"T_8ef73_level0_row3\" class=\"row_heading level0 row3\" >3</th>\n",
       "      <td id=\"T_8ef73_row3_col0\" class=\"data row3 col0\" >XGBoost</td>\n",
       "      <td id=\"T_8ef73_row3_col1\" class=\"data row3 col1\" >0.842602</td>\n",
       "      <td id=\"T_8ef73_row3_col2\" class=\"data row3 col2\" >0.827158</td>\n",
       "      <td id=\"T_8ef73_row3_col3\" class=\"data row3 col3\" >0.830181</td>\n",
       "    </tr>\n",
       "  </tbody>\n",
       "</table>\n"
      ],
      "text/plain": [
       "<pandas.io.formats.style.Styler at 0x1d1bfc4dcd0>"
      ]
     },
     "execution_count": 85,
     "metadata": {},
     "output_type": "execute_result"
    }
   ],
   "source": [
    "results = []\n",
    "for model_name, model in models.items():\n",
    "    recall, precision, f1, _, _ = train_and_evaluate(model, X_train, y_train, X_test, y_test)\n",
    "    results.append({'Model': model_name,\n",
    "                    'Recall': recall,\n",
    "                    'Precision': precision,\n",
    "                    'F1 Score': f1})\n",
    "\n",
    "results_df = pd.DataFrame(results)\n",
    "results_df.style.highlight_max(subset=['Recall', 'Precision', 'F1 Score'], axis=0, color='lightgreen')"
   ]
  },
  {
   "cell_type": "markdown",
   "id": "072509b9",
   "metadata": {},
   "source": [
    "### Conclusion\n",
    "Từ kết quả trên ta thấy mô hình Logistic Regression cho kết quả tốt nhất nên ta lựa chọn mô hình này cho phần Sentiment Classification"
   ]
  },
  {
   "cell_type": "code",
   "execution_count": 86,
   "id": "44c792fd",
   "metadata": {},
   "outputs": [
    {
     "data": {
      "image/png": "[encoded data removed]",
      "text/plain": [
       "<Figure size 500x500 with 1 Axes>"
      ]
     },
     "metadata": {},
     "output_type": "display_data"
    }
   ],
   "source": [
    "_, _, _, y_test, y_pred = train_and_evaluate(models['Logistic Regression'], X_train, y_train, X_test, y_test)\n",
    "\n",
    "cm = confusion_matrix(y_test, y_pred)\n",
    "sentiment = ['Negative', 'Positive', 'Neutral']\n",
    "cm_df = pd.DataFrame(cm, index=sentiment, columns=sentiment)\n",
    "\n",
    "plt.figure(figsize=(5, 5))\n",
    "sns.heatmap(cm_df, annot=True, fmt='d', cmap='Blues', cbar=False)\n",
    "plt.title(f'Confusion Matrix for Logistic Regression')\n",
    "plt.xlabel('Predicted')\n",
    "plt.ylabel('True')\n",
    "plt.show()"
   ]
  },
  {
   "cell_type": "code",
   "execution_count": 87,
   "id": "2f8004c6",
   "metadata": {},
   "outputs": [
    {
     "data": {
      "image/png": "[encoded data removed]",
      "text/plain": [
       "<Figure size 1500x500 with 3 Axes>"
      ]
     },
     "metadata": {},
     "output_type": "display_data"
    }
   ],
   "source": [
    "#@title visualization (for ppt only)\n",
    "folds = np.arange(1, 6)\n",
    "x = np.arange(len(folds))  # [0, 1, 2, 3, 4]\n",
    "bar_width = 0.25\n",
    "\n",
    "f1_tfidf = np.array(f1_tfidf)\n",
    "precision_tfidf = np.array(precision_tfidf)\n",
    "recall_tfidf = np.array(recall_tfidf)\n",
    "\n",
    "f1_use = np.array(f1_use)\n",
    "precision_use = np.array(precision_use)\n",
    "recall_use = np.array(recall_use)\n",
    "\n",
    "f1_fastText = np.array(f1_fastText)\n",
    "precision_fastText = np.array(precision_fastText)\n",
    "recall_fastText = np.array(recall_fastText)\n",
    "\n",
    "plt.figure(figsize=(15, 5))\n",
    "\n",
    "# -------- TF-IDF --------\n",
    "plt.subplot(1, 3, 1)\n",
    "plt.bar(x - bar_width, f1_tfidf, width=bar_width, label='F1-score')\n",
    "plt.bar(x, precision_tfidf, width=bar_width, label='Precision')\n",
    "plt.bar(x + bar_width, recall_tfidf, width=bar_width, label='Recall')\n",
    "plt.title('TF-IDF across folds')\n",
    "plt.xlabel('Fold')\n",
    "plt.ylabel('Score')\n",
    "plt.xticks(x, [f'Fold {i}' for i in folds])\n",
    "plt.ylim(0, 1)\n",
    "plt.legend()\n",
    "\n",
    "# -------- USE --------\n",
    "plt.subplot(1, 3, 2)\n",
    "plt.bar(x - bar_width, f1_use, width=bar_width, label='F1-score')\n",
    "plt.bar(x, precision_use, width=bar_width, label='Precision')\n",
    "plt.bar(x + bar_width, recall_use, width=bar_width, label='Recall')\n",
    "plt.title('USE across folds')\n",
    "plt.xlabel('Fold')\n",
    "plt.ylabel('Score')\n",
    "plt.xticks(x, [f'Fold {i}' for i in folds])\n",
    "plt.ylim(0, 1)\n",
    "plt.legend()\n",
    "\n",
    "# -------- FAST_TEXT --------\n",
    "plt.subplot(1, 3, 3)\n",
    "plt.bar(x - bar_width, f1_fastText, width=bar_width, label='F1-score')\n",
    "plt.bar(x, precision_fastText, width=bar_width, label='Precision')\n",
    "plt.bar(x + bar_width, recall_fastText, width=bar_width, label='Recall')\n",
    "plt.title('FastText across folds')\n",
    "plt.xlabel('Fold')\n",
    "plt.ylabel('Score')\n",
    "plt.xticks(x, [f'Fold {i}' for i in folds])\n",
    "plt.ylim(0, 1)\n",
    "plt.legend()\n",
    "\n",
    "plt.tight_layout()\n",
    "plt.show()"
   ]
  }
 ],
 "metadata": {
  "kernelspec": {
   "display_name": "Python 3",
   "language": "python",
   "name": "python3"
  },
  "language_info": {
   "codemirror_mode": {
    "name": "ipython",
    "version": 3
   },
   "file_extension": ".py",
   "mimetype": "text/x-python",
   "name": "python",
   "nbconvert_exporter": "python",
   "pygments_lexer": "ipython3",
   "version": "3.12.5"
  }
 },
 "nbformat": 4,
 "nbformat_minor": 5
}
