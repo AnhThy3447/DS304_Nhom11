{
 "cells": [
  {
   "cell_type": "code",
   "execution_count": 12,
   "id": "95ace4c2",
   "metadata": {},
   "outputs": [],
   "source": [
    "import pandas as pd"
   ]
  },
  {
   "cell_type": "code",
   "execution_count": 13,
   "id": "889ff859",
   "metadata": {},
   "outputs": [
    {
     "data": {
      "text/plain": [
       "((2524, 12),\n",
       " (1554, 12),\n",
       " (1375, 12),\n",
       " Index(['annotation_id', 'annotator', 'created_at', 'environment', 'id',\n",
       "        'lead_time', 'other', 'price', 'quality', 'sentence', 'service',\n",
       "        'updated_at'],\n",
       "       dtype='object'),\n",
       " Index(['annotation_id', 'annotator', 'created_at', 'environment', 'id',\n",
       "        'lead_time', 'other', 'price', 'quality', 'sentence', 'service',\n",
       "        'updated_at'],\n",
       "       dtype='object'),\n",
       " Index(['annotation_id', 'annotator', 'created_at', 'environment', 'id',\n",
       "        'lead_time', 'other', 'price', 'quality', 'sentence', 'service',\n",
       "        'updated_at'],\n",
       "       dtype='object'))"
      ]
     },
     "execution_count": 13,
     "metadata": {},
     "output_type": "execute_result"
    }
   ],
   "source": [
    "d1 = pd.read_csv('Label_Bthy.csv')\n",
    "d2 = pd.read_csv('Label_Athy.csv')\n",
    "d3 = pd.read_csv('Label_Thien.csv')\n",
    "d1.shape, d2.shape, d3.shape, d1.columns, d2.columns, d3.columns"
   ]
  },
  {
   "cell_type": "code",
   "execution_count": 14,
   "id": "c862fa58",
   "metadata": {},
   "outputs": [
    {
     "data": {
      "text/plain": [
       "((4192, 12),\n",
       " Index(['annotation_id', 'annotator', 'created_at', 'environment', 'id',\n",
       "        'lead_time', 'other', 'price', 'quality', 'sentence', 'service',\n",
       "        'updated_at'],\n",
       "       dtype='object'))"
      ]
     },
     "execution_count": 14,
     "metadata": {},
     "output_type": "execute_result"
    }
   ],
   "source": [
    "df = pd.concat([d1, d2, d3], ignore_index=True)\n",
    "df.drop_duplicates(inplace=True)\n",
    "df.shape, df.columns"
   ]
  },
  {
   "cell_type": "code",
   "execution_count": 15,
   "id": "9d3828d3",
   "metadata": {},
   "outputs": [
    {
     "data": {
      "text/html": [
       "<div>\n",
       "<style scoped>\n",
       "    .dataframe tbody tr th:only-of-type {\n",
       "        vertical-align: middle;\n",
       "    }\n",
       "\n",
       "    .dataframe tbody tr th {\n",
       "        vertical-align: top;\n",
       "    }\n",
       "\n",
       "    .dataframe thead th {\n",
       "        text-align: right;\n",
       "    }\n",
       "</style>\n",
       "<table border=\"1\" class=\"dataframe\">\n",
       "  <thead>\n",
       "    <tr style=\"text-align: right;\">\n",
       "      <th></th>\n",
       "      <th>id</th>\n",
       "      <th>sentence</th>\n",
       "      <th>price</th>\n",
       "      <th>quality</th>\n",
       "      <th>environment</th>\n",
       "      <th>service</th>\n",
       "      <th>other</th>\n",
       "    </tr>\n",
       "  </thead>\n",
       "  <tbody>\n",
       "    <tr>\n",
       "      <th>0</th>\n",
       "      <td>NaN</td>\n",
       "      <td>NaN</td>\n",
       "      <td>NaN</td>\n",
       "      <td>NaN</td>\n",
       "      <td>NaN</td>\n",
       "      <td>NaN</td>\n",
       "      <td>NaN</td>\n",
       "    </tr>\n",
       "    <tr>\n",
       "      <th>1</th>\n",
       "      <td>1150.0</td>\n",
       "      <td>i have been to this place for random dinner wi...</td>\n",
       "      <td>NaN</td>\n",
       "      <td>NaN</td>\n",
       "      <td>NaN</td>\n",
       "      <td>NaN</td>\n",
       "      <td>Negative</td>\n",
       "    </tr>\n",
       "    <tr>\n",
       "      <th>3</th>\n",
       "      <td>1150.0</td>\n",
       "      <td>the place is the perfect example of mismanagem...</td>\n",
       "      <td>NaN</td>\n",
       "      <td>NaN</td>\n",
       "      <td>NaN</td>\n",
       "      <td>Negative</td>\n",
       "      <td>NaN</td>\n",
       "    </tr>\n",
       "    <tr>\n",
       "      <th>5</th>\n",
       "      <td>1150.0</td>\n",
       "      <td>the food was also pathetic</td>\n",
       "      <td>NaN</td>\n",
       "      <td>Negative</td>\n",
       "      <td>NaN</td>\n",
       "      <td>NaN</td>\n",
       "      <td>NaN</td>\n",
       "    </tr>\n",
       "    <tr>\n",
       "      <th>7</th>\n",
       "      <td>1150.0</td>\n",
       "      <td>we have ordered sambhar rice after a lot of di...</td>\n",
       "      <td>NaN</td>\n",
       "      <td>Negative</td>\n",
       "      <td>NaN</td>\n",
       "      <td>Negative</td>\n",
       "      <td>NaN</td>\n",
       "    </tr>\n",
       "  </tbody>\n",
       "</table>\n",
       "</div>"
      ],
      "text/plain": [
       "       id                                           sentence price   quality  \\\n",
       "0     NaN                                                NaN   NaN       NaN   \n",
       "1  1150.0  i have been to this place for random dinner wi...   NaN       NaN   \n",
       "3  1150.0  the place is the perfect example of mismanagem...   NaN       NaN   \n",
       "5  1150.0                        the food was also pathetic    NaN  Negative   \n",
       "7  1150.0  we have ordered sambhar rice after a lot of di...   NaN  Negative   \n",
       "\n",
       "  environment   service     other  \n",
       "0         NaN       NaN       NaN  \n",
       "1         NaN       NaN  Negative  \n",
       "3         NaN  Negative       NaN  \n",
       "5         NaN       NaN       NaN  \n",
       "7         NaN  Negative       NaN  "
      ]
     },
     "execution_count": 15,
     "metadata": {},
     "output_type": "execute_result"
    }
   ],
   "source": [
    "df.drop(columns=['annotation_id', 'annotator', 'created_at', 'lead_time', 'updated_at'], inplace=True)\n",
    "order = ['id', 'sentence', 'price', 'quality', 'environment', 'service', 'other']\n",
    "df = df[order]\n",
    "df.head()"
   ]
  },
  {
   "cell_type": "code",
   "execution_count": 16,
   "id": "8d50b0d2",
   "metadata": {},
   "outputs": [
    {
     "data": {
      "text/plain": [
       "(id                0\n",
       " sentence          0\n",
       " price          3102\n",
       " quality        1483\n",
       " environment    2840\n",
       " service        2323\n",
       " other          2871\n",
       " dtype: int64,\n",
       " (3263, 7))"
      ]
     },
     "execution_count": 16,
     "metadata": {},
     "output_type": "execute_result"
    }
   ],
   "source": [
    "df = df[~df[['price', 'quality', 'environment', 'service', 'other']].isna().all(axis=1)]\n",
    "df.isna().sum(), df.shape"
   ]
  },
  {
   "cell_type": "code",
   "execution_count": 17,
   "id": "e79bd974",
   "metadata": {},
   "outputs": [
    {
     "data": {
      "text/html": [
       "<div>\n",
       "<style scoped>\n",
       "    .dataframe tbody tr th:only-of-type {\n",
       "        vertical-align: middle;\n",
       "    }\n",
       "\n",
       "    .dataframe tbody tr th {\n",
       "        vertical-align: top;\n",
       "    }\n",
       "\n",
       "    .dataframe thead th {\n",
       "        text-align: right;\n",
       "    }\n",
       "</style>\n",
       "<table border=\"1\" class=\"dataframe\">\n",
       "  <thead>\n",
       "    <tr style=\"text-align: right;\">\n",
       "      <th></th>\n",
       "      <th>id</th>\n",
       "      <th>sentence</th>\n",
       "      <th>price</th>\n",
       "      <th>quality</th>\n",
       "      <th>environment</th>\n",
       "      <th>service</th>\n",
       "      <th>other</th>\n",
       "    </tr>\n",
       "  </thead>\n",
       "  <tbody>\n",
       "    <tr>\n",
       "      <th>1</th>\n",
       "      <td>1150.0</td>\n",
       "      <td>i have been to this place for random dinner wi...</td>\n",
       "      <td>NaN</td>\n",
       "      <td>NaN</td>\n",
       "      <td>NaN</td>\n",
       "      <td>NaN</td>\n",
       "      <td>Negative</td>\n",
       "    </tr>\n",
       "    <tr>\n",
       "      <th>3</th>\n",
       "      <td>1150.0</td>\n",
       "      <td>the place is the perfect example of mismanagem...</td>\n",
       "      <td>NaN</td>\n",
       "      <td>NaN</td>\n",
       "      <td>NaN</td>\n",
       "      <td>Negative</td>\n",
       "      <td>NaN</td>\n",
       "    </tr>\n",
       "    <tr>\n",
       "      <th>5</th>\n",
       "      <td>1150.0</td>\n",
       "      <td>the food was also pathetic</td>\n",
       "      <td>NaN</td>\n",
       "      <td>Negative</td>\n",
       "      <td>NaN</td>\n",
       "      <td>NaN</td>\n",
       "      <td>NaN</td>\n",
       "    </tr>\n",
       "    <tr>\n",
       "      <th>7</th>\n",
       "      <td>1150.0</td>\n",
       "      <td>we have ordered sambhar rice after a lot of di...</td>\n",
       "      <td>NaN</td>\n",
       "      <td>Negative</td>\n",
       "      <td>NaN</td>\n",
       "      <td>Negative</td>\n",
       "      <td>NaN</td>\n",
       "    </tr>\n",
       "    <tr>\n",
       "      <th>9</th>\n",
       "      <td>1150.0</td>\n",
       "      <td>they were so slow even in providing bill and o...</td>\n",
       "      <td>Negative</td>\n",
       "      <td>NaN</td>\n",
       "      <td>NaN</td>\n",
       "      <td>Negative</td>\n",
       "      <td>NaN</td>\n",
       "    </tr>\n",
       "  </tbody>\n",
       "</table>\n",
       "</div>"
      ],
      "text/plain": [
       "       id                                           sentence     price  \\\n",
       "1  1150.0  i have been to this place for random dinner wi...       NaN   \n",
       "3  1150.0  the place is the perfect example of mismanagem...       NaN   \n",
       "5  1150.0                        the food was also pathetic        NaN   \n",
       "7  1150.0  we have ordered sambhar rice after a lot of di...       NaN   \n",
       "9  1150.0  they were so slow even in providing bill and o...  Negative   \n",
       "\n",
       "    quality environment   service     other  \n",
       "1       NaN         NaN       NaN  Negative  \n",
       "3       NaN         NaN  Negative       NaN  \n",
       "5  Negative         NaN       NaN       NaN  \n",
       "7  Negative         NaN  Negative       NaN  \n",
       "9       NaN         NaN  Negative       NaN  "
      ]
     },
     "execution_count": 17,
     "metadata": {},
     "output_type": "execute_result"
    }
   ],
   "source": [
    "df.head()"
   ]
  },
  {
   "cell_type": "code",
   "execution_count": 18,
   "id": "0a188fcf",
   "metadata": {},
   "outputs": [],
   "source": [
    "# df.to_csv('Label_merged.csv', index=False)"
   ]
  },
  {
   "cell_type": "markdown",
   "id": "c8259c92",
   "metadata": {},
   "source": [
    "## input for step 1"
   ]
  },
  {
   "cell_type": "code",
   "execution_count": 19,
   "id": "9bfd32f8",
   "metadata": {},
   "outputs": [],
   "source": [
    "data = df.copy()"
   ]
  },
  {
   "cell_type": "code",
   "execution_count": 20,
   "id": "96483c32",
   "metadata": {},
   "outputs": [],
   "source": [
    "aspects = ['price', 'quality', 'environment', 'service', 'other']\n",
    "df[aspects] = df[aspects].notna().astype(int)"
   ]
  },
  {
   "cell_type": "code",
   "execution_count": 21,
   "id": "e0509f58",
   "metadata": {},
   "outputs": [
    {
     "data": {
      "text/html": [
       "<div>\n",
       "<style scoped>\n",
       "    .dataframe tbody tr th:only-of-type {\n",
       "        vertical-align: middle;\n",
       "    }\n",
       "\n",
       "    .dataframe tbody tr th {\n",
       "        vertical-align: top;\n",
       "    }\n",
       "\n",
       "    .dataframe thead th {\n",
       "        text-align: right;\n",
       "    }\n",
       "</style>\n",
       "<table border=\"1\" class=\"dataframe\">\n",
       "  <thead>\n",
       "    <tr style=\"text-align: right;\">\n",
       "      <th></th>\n",
       "      <th>id</th>\n",
       "      <th>sentence</th>\n",
       "      <th>price</th>\n",
       "      <th>quality</th>\n",
       "      <th>environment</th>\n",
       "      <th>service</th>\n",
       "      <th>other</th>\n",
       "    </tr>\n",
       "  </thead>\n",
       "  <tbody>\n",
       "    <tr>\n",
       "      <th>1</th>\n",
       "      <td>1150.0</td>\n",
       "      <td>i have been to this place for random dinner wi...</td>\n",
       "      <td>0</td>\n",
       "      <td>0</td>\n",
       "      <td>0</td>\n",
       "      <td>0</td>\n",
       "      <td>1</td>\n",
       "    </tr>\n",
       "    <tr>\n",
       "      <th>3</th>\n",
       "      <td>1150.0</td>\n",
       "      <td>the place is the perfect example of mismanagem...</td>\n",
       "      <td>0</td>\n",
       "      <td>0</td>\n",
       "      <td>0</td>\n",
       "      <td>1</td>\n",
       "      <td>0</td>\n",
       "    </tr>\n",
       "    <tr>\n",
       "      <th>5</th>\n",
       "      <td>1150.0</td>\n",
       "      <td>the food was also pathetic</td>\n",
       "      <td>0</td>\n",
       "      <td>1</td>\n",
       "      <td>0</td>\n",
       "      <td>0</td>\n",
       "      <td>0</td>\n",
       "    </tr>\n",
       "    <tr>\n",
       "      <th>7</th>\n",
       "      <td>1150.0</td>\n",
       "      <td>we have ordered sambhar rice after a lot of di...</td>\n",
       "      <td>0</td>\n",
       "      <td>1</td>\n",
       "      <td>0</td>\n",
       "      <td>1</td>\n",
       "      <td>0</td>\n",
       "    </tr>\n",
       "    <tr>\n",
       "      <th>9</th>\n",
       "      <td>1150.0</td>\n",
       "      <td>they were so slow even in providing bill and o...</td>\n",
       "      <td>1</td>\n",
       "      <td>0</td>\n",
       "      <td>0</td>\n",
       "      <td>1</td>\n",
       "      <td>0</td>\n",
       "    </tr>\n",
       "  </tbody>\n",
       "</table>\n",
       "</div>"
      ],
      "text/plain": [
       "       id                                           sentence  price  quality  \\\n",
       "1  1150.0  i have been to this place for random dinner wi...      0        0   \n",
       "3  1150.0  the place is the perfect example of mismanagem...      0        0   \n",
       "5  1150.0                        the food was also pathetic       0        1   \n",
       "7  1150.0  we have ordered sambhar rice after a lot of di...      0        1   \n",
       "9  1150.0  they were so slow even in providing bill and o...      1        0   \n",
       "\n",
       "   environment  service  other  \n",
       "1            0        0      1  \n",
       "3            0        1      0  \n",
       "5            0        0      0  \n",
       "7            0        1      0  \n",
       "9            0        1      0  "
      ]
     },
     "execution_count": 21,
     "metadata": {},
     "output_type": "execute_result"
    }
   ],
   "source": [
    "df.head()"
   ]
  },
  {
   "cell_type": "code",
   "execution_count": null,
   "id": "dd75491b",
   "metadata": {},
   "outputs": [],
   "source": [
    "# df.to_csv('aspect_labels.csv', index=False) #input for aspect analysis"
   ]
  },
  {
   "cell_type": "markdown",
   "id": "ecc7e631",
   "metadata": {},
   "source": [
    "## input for step 2"
   ]
  },
  {
   "cell_type": "code",
   "execution_count": null,
   "id": "4e86957f",
   "metadata": {},
   "outputs": [
    {
     "data": {
      "text/html": [
       "<div>\n",
       "<style scoped>\n",
       "    .dataframe tbody tr th:only-of-type {\n",
       "        vertical-align: middle;\n",
       "    }\n",
       "\n",
       "    .dataframe tbody tr th {\n",
       "        vertical-align: top;\n",
       "    }\n",
       "\n",
       "    .dataframe thead th {\n",
       "        text-align: right;\n",
       "    }\n",
       "</style>\n",
       "<table border=\"1\" class=\"dataframe\">\n",
       "  <thead>\n",
       "    <tr style=\"text-align: right;\">\n",
       "      <th></th>\n",
       "      <th>sentence</th>\n",
       "      <th>aspect</th>\n",
       "      <th>sentiment</th>\n",
       "    </tr>\n",
       "  </thead>\n",
       "  <tbody>\n",
       "    <tr>\n",
       "      <th>0</th>\n",
       "      <td>i have been to this place for random dinner wi...</td>\n",
       "      <td>other</td>\n",
       "      <td>Negative</td>\n",
       "    </tr>\n",
       "    <tr>\n",
       "      <th>1</th>\n",
       "      <td>the place is the perfect example of mismanagem...</td>\n",
       "      <td>service</td>\n",
       "      <td>Negative</td>\n",
       "    </tr>\n",
       "    <tr>\n",
       "      <th>2</th>\n",
       "      <td>the food was also pathetic</td>\n",
       "      <td>quality</td>\n",
       "      <td>Negative</td>\n",
       "    </tr>\n",
       "    <tr>\n",
       "      <th>3</th>\n",
       "      <td>we have ordered sambhar rice after a lot of di...</td>\n",
       "      <td>quality</td>\n",
       "      <td>Negative</td>\n",
       "    </tr>\n",
       "    <tr>\n",
       "      <th>4</th>\n",
       "      <td>we have ordered sambhar rice after a lot of di...</td>\n",
       "      <td>service</td>\n",
       "      <td>Negative</td>\n",
       "    </tr>\n",
       "  </tbody>\n",
       "</table>\n",
       "</div>"
      ],
      "text/plain": [
       "                                            sentence   aspect sentiment\n",
       "0  i have been to this place for random dinner wi...    other  Negative\n",
       "1  the place is the perfect example of mismanagem...  service  Negative\n",
       "2                        the food was also pathetic   quality  Negative\n",
       "3  we have ordered sambhar rice after a lot of di...  quality  Negative\n",
       "4  we have ordered sambhar rice after a lot of di...  service  Negative"
      ]
     },
     "execution_count": 23,
     "metadata": {},
     "output_type": "execute_result"
    }
   ],
   "source": [
    "records = []\n",
    "for idx, row in data.iterrows():\n",
    "    for aspect in aspects:\n",
    "        if pd.notna(row[aspect]):  # Chỉ lấy nếu có sentiment\n",
    "            records.append({\n",
    "                'sentence': row['sentence'],\n",
    "                'aspect': aspect,\n",
    "                'sentiment': row[aspect]\n",
    "            })\n",
    "\n",
    "data = pd.DataFrame(records)\n",
    "data.head()"
   ]
  },
  {
   "cell_type": "code",
   "execution_count": 24,
   "id": "9cdc39e2",
   "metadata": {},
   "outputs": [],
   "source": [
    "data.to_csv('aspect_sentiment.csv', index=False)  # Input for sentiment analysis"
   ]
  }
 ],
 "metadata": {
  "kernelspec": {
   "display_name": "Python 3",
   "language": "python",
   "name": "python3"
  },
  "language_info": {
   "codemirror_mode": {
    "name": "ipython",
    "version": 3
   },
   "file_extension": ".py",
   "mimetype": "text/x-python",
   "name": "python",
   "nbconvert_exporter": "python",
   "pygments_lexer": "ipython3",
   "version": "3.13.2"
  }
 },
 "nbformat": 4,
 "nbformat_minor": 5
}
